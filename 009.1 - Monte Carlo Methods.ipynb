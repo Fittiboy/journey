{
 "cells": [
  {
   "cell_type": "code",
   "execution_count": 1,
   "id": "e2690884-bc37-4ede-b4d6-63adc10d55f0",
   "metadata": {},
   "outputs": [],
   "source": [
    "%reload_ext jupyter_ai\n",
    "%reload_ext autoreload\n",
    "%autoreload 2\n",
    "\n",
    "import numpy as np\n",
    "import matplotlib.pyplot as plt\n",
    "import imageio\n",
    "import seaborn as sns\n",
    "import os\n",
    "\n",
    "from IPython.display import Image\n",
    "from tqdm import tqdm"
   ]
  },
  {
   "cell_type": "markdown",
   "id": "979b8103-54ad-4b9d-93ad-a9af4e6fda97",
   "metadata": {},
   "source": [
    "# Day 9 - Monte Carlo Methods"
   ]
  },
  {
   "attachments": {},
   "cell_type": "markdown",
   "id": "4dfbe739-c78d-4d47-97b6-c9aadb6bb076",
   "metadata": {},
   "source": [
    "## Incremental Implementation\n",
    "\n",
    "* To create an incremental implementation for ordinary importance sampling is straightforward\n",
    "* For weighted importance sampling, instead of updating $N(s,a)\\leftarrow N(s,a)+1$, we update the cumulative sum $C$ of importance sampling weights $W$\n",
    "\n",
    "$$\n",
    "\\begin{align}\n",
    "C_{n+1}&\\doteq C_n+W_{n+1}\n",
    "\\end{align}\n",
    "$$\n",
    "* The new update rule for a value function $V$ is slightly different as well, no longer being able to simplify from $\\frac{N-1}{N}$\n",
    "\n",
    "$$\n",
    "\\begin{align}\n",
    "V_{n+1}&\\doteq V_n+\\frac{W_n}{C_n}[G_n-V_n]\n",
    "\\end{align}\n",
    "$$\n",
    "\n",
    "* Equivalence is shown like this:\n",
    "$$\n",
    "\\begin{align}\n",
    "V_n+\\frac{W_n}{C_n}\\left[G_n-V_n\\right]&=\\frac{C_nV_n+W_nG_n-W_nV_n}{C_n} \\\\\n",
    "&=\\frac{V_n(C_n-W_n)+W_nG_n}{C_n} \\\\\n",
    "&=\\frac{\\sum_{k=1}^{n-1}W_kG_k+W_nG_n}{\\sum_{k=1}^nW_n} \\\\\n",
    "&=\\frac{\\sum_{k=1}^{n}W_kG_k}{\\sum_{k=1}^nW_n} \\\\\n",
    "&=V_{n+1}\n",
    "\\end{align}\n",
    "$$"
   ]
  },
  {
   "cell_type": "markdown",
   "id": "3fc0b71a-d4dc-452b-902c-a9a83303dd05",
   "metadata": {},
   "source": [
    "### $Exercise\\ \\mathcal{5.9}$\n",
    "\n",
    "#### Modify the algorithm for first-visit MC policy evaluation (Section 5.1) to use the incremental implementation for sample averages described in Section 2.4.\n",
    "\n",
    "This is already described in detail in my solution to $Exercise\\ \\mathcal{5.4}$."
   ]
  },
  {
   "cell_type": "markdown",
   "id": "56be2d1c-b0d9-4916-985c-99194fe04542",
   "metadata": {},
   "source": [
    "### $Exercise\\ \\mathcal{5.10}$\n",
    "\n",
    "#### Derive the weighted-average update rule (5.8) from (5.7). Follow the pattern of the derivation of the unweighted rule (2.3).\n",
    "\n",
    "Instead of deriving the update rule, I already proved equivalence when taking notes while reading the section, so I'll reproduce that here:\n",
    "\n",
    "$$\n",
    "\\begin{align}\n",
    "V_n+\\frac{W_n}{C_n}\\left[G_n-V_n\\right]&=\\frac{C_nV_n+W_nG_n-W_nV_n}{C_n} \\\\\n",
    "&=\\frac{V_n(C_n-W_n)+W_nG_n}{C_n} \\\\\n",
    "&=\\frac{\\sum_{k=1}^{n-1}W_kG_k+W_nG_n}{\\sum_{k=1}^nW_n} \\\\\n",
    "&=\\frac{\\sum_{k=1}^{n}W_kG_k}{\\sum_{k=1}^nW_n} \\\\\n",
    "&=V_{n+1}\n",
    "\\end{align}\n",
    "$$"
   ]
  },
  {
   "cell_type": "markdown",
   "id": "77d3a065-9d9b-4021-9106-5bde0543c6ff",
   "metadata": {},
   "source": [
    "## Off-policy Monte Carlo Control\n",
    "\n",
    "* To extend off-policy methods to control, we simply update the target policy to be greedy with respect to the value estimates\n",
    "* In order to continue learning about all possible actions, the behavior policy just has to be $\\varepsilon$-soft\n",
    "* As importance sampling weights for all suboptimal actions are zero, this method only learns from the tails of episodes, after the final non-greedy action (and the action-value of this non-greedy action)"
   ]
  },
  {
   "cell_type": "markdown",
   "id": "2ef22f8f-06f3-42ec-8dcd-5089cd265de6",
   "metadata": {},
   "source": [
    "### $Exercise\\ \\mathcal{5.11}$\n",
    "\n",
    "#### In the boxed algorithm for off-policy MC control, you may have been expecting the W update to have involved the importance-sampling ratio $\\frac{\\pi(A_t|S_t)}{b(A_t|S_t)}$, but instead it involves $\\frac{1}{b(A_t|S_t)}$. Why is this nevertheless correct? \n",
    "\n",
    "As the policy $\\pi$ is greedy with respect to the value estimates $Q(s,a)$, the probability of choosing an action is either $0$ or $1$. The algorithm exits the loop as soon as a non-greedy action is encountered, so the relevant weights are always exactly $\\frac{1}{b(A_t|S_t)}$."
   ]
  },
  {
   "cell_type": "markdown",
   "id": "e36b42a3-ec50-4276-89b0-ca87ef546d62",
   "metadata": {},
   "source": [
    "### $Exercise\\ \\mathcal{5.12}$*:* $Racetrack\\ (programming)$\n",
    "\n",
    "#### Consider driving a race car around a turn like those shown in Figure 5.5. You want to go as fast as possible, but not so fast as to run off the track. In our simplified racetrack, the car is at one of a discrete set of grid positions, the cells in the diagram. The velocity is also discrete, a number of grid cells moved horizontally and vertically per time step. The actions are increments to the velocity components. Each may be changed by $+1$, $-1$, or $0$ in each step, for a total of nine $(3\\times3)$ actions. Both velocity components are restricted to be nonnegative and less than $5$, and they cannot both be zero except at the starting line. Each episode begins in one of the randomly selected start states with both velocity components zero and ends when the car crosses the finish line. The rewards are  1 for each step until the car crosses the finish line. If the car hits the track boundary, it is moved back to a random position on the starting line, both velocity components are reduced to zero, and the episode continues. Before updating the car’s location at each time step, check to see if the projected path of the car intersects the track boundary. If it intersects the finish line, the episode ends; if it intersects anywhere else, the car is considered to have hit the track boundary and is sent back to the starting line. To make the task more challenging, with probability 0.1 at each time step the velocity increments are both zero, independently of the intended increments. Apply a Monte Carlo control method to this task to compute the optimal policy from each starting state. Exhibit several trajectories following the optimal policy (but turn the noise off for these trajectories).\n",
    "\n",
    "~~No. Are you insane? I'm not writing all that code for a racetrack I don't care about, just so I can test a Monte Carlo algorithm. What the hell?~~\n",
    "\n",
    "Sure:"
   ]
  },
  {
   "cell_type": "code",
   "execution_count": null,
   "id": "15dc4723-df76-4cde-a9e7-0e9eec5d3261",
   "metadata": {
    "jupyter": {
     "source_hidden": true
    }
   },
   "outputs": [],
   "source": [
    "# 0 = Boundary\n",
    "# 1 = Track\n",
    "# 2 = Start\n",
    "# 3 = Finish\n",
    "track = np.array([\n",
    "    [0, 0, 0, 0, 0, 0, 0, 0, 0, 0, 0, 0, 0, 0, 0, 0, 0, 0],\n",
    "    [0, 0, 0, 0, 0, 0, 0, 0, 1, 1, 1, 1, 1, 1, 1, 1, 1, 3],\n",
    "    [0, 0, 0, 0, 0, 0, 0, 0, 1, 1, 1, 1, 1, 1, 1, 1, 1, 3],\n",
    "    [0, 0, 0, 0, 0, 0, 0, 0, 1, 1, 1, 1, 1, 1, 1, 1, 1, 3],\n",
    "    [0, 0, 0, 0, 0, 0, 0, 1, 1, 1, 1, 1, 1, 1, 1, 1, 1, 3],\n",
    "    [0, 0, 0, 0, 0, 0, 0, 1, 1, 1, 1, 1, 1, 1, 1, 1, 1, 3],\n",
    "    [0, 0, 0, 0, 0, 0, 0, 1, 1, 1, 1, 0, 0, 0, 0, 0, 0, 0],\n",
    "    [0, 0, 0, 0, 0, 0, 0, 1, 1, 1, 1, 0, 0, 0, 0, 0, 0, 0],\n",
    "    [0, 0, 0, 0, 0, 0, 0, 0, 1, 1, 1, 0, 0, 0, 0, 0, 0, 0],\n",
    "    [0, 0, 0, 0, 0, 0, 0, 0, 1, 1, 1, 0, 0, 0, 0, 0, 0, 0],\n",
    "    [0, 0, 0, 0, 0, 0, 0, 0, 1, 1, 1, 0, 0, 0, 0, 0, 0, 0],\n",
    "    [0, 0, 0, 0, 0, 0, 0, 0, 1, 1, 1, 0, 0, 0, 0, 0, 0, 0],\n",
    "    [0, 0, 0, 0, 0, 0, 0, 0, 1, 1, 1, 1, 0, 0, 0, 0, 0, 0],\n",
    "    [0, 0, 0, 0, 0, 0, 0, 0, 1, 1, 1, 1, 0, 0, 0, 0, 0, 0],\n",
    "    [0, 0, 0, 0, 0, 0, 0, 0, 1, 1, 1, 1, 0, 0, 0, 0, 0, 0],\n",
    "    [0, 0, 0, 0, 0, 0, 0, 0, 1, 1, 1, 1, 0, 0, 0, 0, 0, 0],\n",
    "    [0, 0, 0, 0, 0, 0, 0, 0, 1, 1, 1, 1, 0, 0, 0, 0, 0, 0],\n",
    "    [0, 0, 0, 0, 0, 0, 0, 0, 2, 2, 2, 2, 0, 0, 0, 0, 0, 0],\n",
    "])\n",
    "\n",
    "fig, ax = plt.subplots()\n",
    "sns.heatmap(track, cbar=False)"
   ]
  },
  {
   "cell_type": "code",
   "execution_count": 2,
   "id": "ef8b3447-b4fb-490c-ba58-b73374a1d7f7",
   "metadata": {},
   "outputs": [
    {
     "data": {
      "text/plain": [
       "<Axes: >"
      ]
     },
     "execution_count": 2,
     "metadata": {},
     "output_type": "execute_result"
    },
    {
     "data": {
      "image/png": "[encoded data removed]",
      "text/plain": [
       "<Figure size 640x480 with 2 Axes>"
      ]
     },
     "metadata": {},
     "output_type": "display_data"
    }
   ],
   "source": [
    "# 0 = Boundary\n",
    "# 1 = Track\n",
    "# 2 = Start\n",
    "# 3 = Finish\n",
    "track = np.array([\n",
    "    [0, 0, 0, 0, 0, 0, 0, 0, 0, 0, 0, 0, 0, 0, 0, 0, 0, 0, 0, 0, 0, 0, 0, 0, 0, 0, 0, 0, 0, 0, 0, 0],\n",
    "    [0, 0, 0, 0, 0, 0, 0, 0, 1, 1, 1, 1, 1, 1, 1, 1, 1, 1, 1, 1, 1, 1, 1, 1, 1, 1, 1, 1, 1, 1, 1, 3],\n",
    "    [0, 0, 0, 0, 0, 1, 1, 1, 1, 1, 1, 1, 1, 1, 1, 1, 1, 1, 1, 1, 1, 1, 1, 1, 1, 1, 1, 1, 1, 1, 1, 3],\n",
    "    [0, 0, 0, 1, 1, 1, 1, 1, 1, 1, 1, 1, 1, 1, 1, 1, 1, 1, 1, 1, 1, 1, 1, 1, 1, 1, 1, 1, 1, 1, 1, 3],\n",
    "    [0, 0, 1, 1, 1, 1, 1, 1, 1, 1, 1, 1, 1, 1, 1, 1, 1, 1, 1, 1, 1, 1, 1, 1, 1, 1, 1, 1, 1, 1, 1, 3],\n",
    "    [0, 0, 1, 1, 1, 1, 1, 1, 1, 1, 1, 1, 1, 1, 1, 1, 1, 1, 1, 1, 1, 1, 1, 1, 1, 1, 1, 1, 1, 1, 1, 3],\n",
    "    [0, 0, 1, 1, 1, 1, 0, 0, 0, 0, 0, 0, 0, 0, 0, 0, 0, 0, 0, 0, 0, 0, 0, 0, 0, 0, 0, 0, 0, 0, 0, 0],\n",
    "    [0, 0, 1, 1, 1, 1, 0, 0, 0, 0, 0, 0, 0, 0, 0, 0, 0, 0, 0, 0, 0, 0, 0, 0, 0, 0, 0, 0, 0, 0, 0, 0],\n",
    "    [0, 0, 0, 1, 1, 1, 0, 0, 0, 0, 0, 0, 0, 0, 0, 0, 0, 0, 0, 0, 0, 0, 0, 0, 0, 0, 0, 0, 0, 0, 0, 0],\n",
    "    [0, 0, 0, 1, 1, 1, 1, 0, 0, 0, 0, 0, 0, 0, 0, 0, 0, 0, 0, 0, 0, 0, 0, 0, 0, 0, 0, 0, 0, 0, 0, 0],\n",
    "    [0, 0, 0, 1, 1, 1, 1, 0, 0, 0, 0, 0, 0, 0, 0, 0, 0, 0, 0, 0, 0, 0, 0, 0, 0, 0, 0, 0, 0, 0, 0, 0],\n",
    "    [0, 0, 0, 0, 1, 1, 1, 1, 0, 0, 0, 0, 0, 0, 0, 0, 0, 0, 0, 0, 0, 0, 0, 0, 0, 0, 0, 0, 0, 0, 0, 0],\n",
    "    [0, 0, 0, 0, 1, 1, 1, 1, 0, 0, 0, 0, 0, 0, 0, 0, 0, 0, 0, 0, 0, 0, 0, 0, 0, 0, 0, 0, 0, 0, 0, 0],\n",
    "    [0, 0, 0, 0, 0, 1, 1, 1, 0, 0, 0, 0, 0, 0, 0, 0, 0, 0, 0, 0, 0, 0, 0, 0, 0, 0, 0, 0, 0, 0, 0, 0],\n",
    "    [0, 0, 0, 0, 0, 1, 1, 1, 1, 1, 1, 0, 0, 0, 0, 0, 0, 0, 0, 0, 0, 0, 0, 0, 0, 0, 0, 0, 0, 0, 0, 0],\n",
    "    [0, 0, 0, 0, 0, 0, 1, 1, 1, 1, 1, 1, 0, 0, 0, 0, 0, 0, 0, 0, 0, 0, 0, 0, 0, 0, 0, 0, 0, 0, 0, 0],\n",
    "    [0, 0, 0, 0, 0, 0, 1, 1, 1, 1, 1, 1, 1, 1, 0, 0, 0, 0, 0, 0, 0, 0, 0, 0, 0, 0, 0, 0, 0, 0, 0, 0],\n",
    "    [0, 0, 0, 0, 0, 0, 0, 1, 1, 1, 1, 1, 1, 1, 1, 0, 0, 0, 0, 0, 0, 0, 0, 0, 0, 0, 0, 0, 0, 0, 0, 0],\n",
    "    [0, 0, 0, 0, 0, 0, 0, 1, 1, 1, 1, 1, 1, 1, 1, 1, 1, 0, 0, 0, 0, 0, 0, 0, 0, 0, 0, 0, 0, 0, 0, 0],\n",
    "    [0, 0, 0, 0, 0, 0, 0, 1, 1, 1, 1, 1, 1, 1, 1, 1, 1, 1, 0, 0, 0, 0, 0, 0, 0, 0, 0, 0, 0, 0, 0, 0],\n",
    "    [0, 0, 0, 0, 0, 0, 0, 1, 1, 1, 1, 1, 1, 1, 1, 1, 1, 1, 0, 0, 0, 0, 0, 0, 0, 0, 0, 0, 0, 0, 0, 0],\n",
    "    [0, 0, 0, 0, 0, 0, 0, 1, 1, 1, 1, 1, 1, 1, 1, 1, 1, 1, 1, 0, 0, 0, 0, 0, 0, 0, 0, 0, 0, 0, 0, 0],\n",
    "    [0, 0, 0, 0, 0, 0, 0, 1, 1, 1, 1, 1, 1, 1, 1, 1, 1, 1, 1, 0, 0, 0, 0, 0, 0, 0, 0, 0, 0, 0, 0, 0],\n",
    "    [0, 0, 0, 0, 0, 0, 0, 0, 1, 1, 1, 1, 1, 1, 1, 1, 1, 1, 1, 0, 0, 0, 0, 0, 0, 0, 0, 0, 0, 0, 0, 0],\n",
    "    [0, 0, 0, 0, 0, 0, 0, 0, 1, 1, 1, 1, 1, 1, 1, 1, 1, 1, 1, 1, 0, 0, 0, 0, 0, 0, 0, 0, 0, 0, 0, 0],\n",
    "    [0, 0, 0, 0, 0, 0, 0, 0, 1, 1, 1, 1, 1, 1, 1, 1, 1, 1, 1, 1, 0, 0, 0, 0, 0, 0, 0, 0, 0, 0, 0, 0],\n",
    "    [0, 0, 0, 0, 0, 0, 0, 0, 1, 1, 1, 1, 1, 1, 1, 1, 1, 1, 1, 1, 0, 0, 0, 0, 0, 0, 0, 0, 0, 0, 0, 0],\n",
    "    [0, 0, 0, 0, 0, 0, 0, 1, 1, 1, 1, 1, 1, 1, 1, 1, 1, 1, 1, 1, 0, 0, 0, 0, 0, 0, 0, 0, 0, 0, 0, 0],\n",
    "    [0, 0, 0, 0, 0, 0, 1, 1, 1, 1, 1, 1, 1, 1, 1, 1, 1, 1, 1, 1, 1, 0, 0, 0, 0, 0, 0, 0, 0, 0, 0, 0],\n",
    "    [0, 0, 0, 0, 0, 1, 1, 1, 1, 1, 1, 1, 1, 1, 1, 1, 1, 1, 1, 1, 1, 0, 0, 0, 0, 0, 0, 0, 0, 0, 0, 0],\n",
    "    [0, 0, 0, 0, 0, 1, 1, 1, 1, 1, 1, 1, 1, 1, 1, 1, 1, 1, 1, 1, 1, 0, 0, 0, 0, 0, 0, 0, 0, 0, 0, 0],\n",
    "    [0, 0, 0, 0, 0, 2, 2, 2, 2, 2, 2, 2, 2, 2, 2, 2, 2, 2, 2, 2, 2, 0, 0, 0, 0, 0, 0, 0, 0, 0, 0, 0],\n",
    "])\n",
    "\n",
    "fig, ax = plt.subplots()\n",
    "sns.heatmap(track)"
   ]
  },
  {
   "cell_type": "code",
   "execution_count": null,
   "id": "5b85d8d6-f084-4dd1-8416-4aea45caddf0",
   "metadata": {
    "jupyter": {
     "source_hidden": true
    }
   },
   "outputs": [],
   "source": [
    "# 0 = Boundary\n",
    "# 1 = Track\n",
    "# 2 = Start\n",
    "# 3 = Finish\n",
    "track = np.array([\n",
    "    [0, 0, 0, 0, 0, 0, 0, 0, 0, 0, 0, 0, 0, 0, 0, 0, 0, 0, 0, 0, 0, 0, 0, 0, 0, 0, 0, 0, 0, 0, 0, 0],\n",
    "    [0, 0, 0, 0, 0, 0, 0, 0, 1, 1, 1, 1, 1, 1, 1, 1, 1, 1, 1, 1, 1, 1, 1, 1, 1, 1, 1, 1, 1, 1, 1, 3],\n",
    "    [0, 0, 0, 0, 0, 1, 1, 1, 1, 1, 1, 1, 1, 1, 1, 1, 1, 1, 1, 1, 1, 1, 1, 1, 1, 1, 1, 1, 1, 1, 1, 3],\n",
    "    [0, 0, 0, 1, 1, 1, 1, 1, 1, 1, 1, 1, 1, 1, 1, 1, 1, 1, 1, 1, 1, 1, 1, 1, 1, 1, 1, 1, 1, 1, 1, 3],\n",
    "    [0, 0, 1, 1, 1, 1, 1, 1, 1, 1, 1, 1, 1, 1, 1, 1, 1, 1, 1, 1, 1, 1, 1, 1, 1, 1, 1, 1, 1, 1, 1, 3],\n",
    "    [0, 0, 1, 1, 1, 1, 1, 1, 1, 1, 1, 1, 1, 1, 1, 1, 1, 1, 1, 1, 1, 1, 1, 1, 1, 1, 1, 1, 1, 1, 1, 3],\n",
    "    [0, 0, 1, 1, 1, 1, 0, 0, 0, 0, 0, 0, 0, 0, 0, 0, 0, 0, 0, 0, 0, 0, 0, 0, 0, 0, 0, 0, 0, 0, 0, 0],\n",
    "    [0, 0, 1, 1, 1, 1, 1, 1, 1, 1, 1, 1, 1, 1, 1, 1, 1, 1, 1, 1, 1, 1, 1, 1, 1, 1, 1, 1, 1, 1, 1, 0],\n",
    "    [0, 0, 1, 1, 1, 1, 1, 1, 1, 1, 1, 1, 1, 1, 1, 1, 1, 1, 1, 1, 1, 1, 1, 1, 1, 1, 1, 1, 1, 1, 1, 0],\n",
    "    [0, 0, 1, 1, 1, 1, 1, 1, 1, 1, 1, 1, 1, 1, 1, 1, 1, 1, 1, 1, 1, 1, 1, 1, 1, 1, 1, 1, 1, 1, 1, 0],\n",
    "    [0, 0, 0, 0, 0, 0, 0, 0, 0, 0, 0, 0, 1, 1, 1, 1, 1, 0, 0, 0, 0, 0, 0, 0, 0, 0, 0, 1, 1, 1, 1, 0],\n",
    "    [0, 0, 0, 0, 1, 1, 1, 1, 1, 1, 1, 1, 1, 1, 1, 1, 0, 0, 0, 0, 0, 0, 0, 0, 0, 0, 1, 1, 1, 1, 0, 0],\n",
    "    [0, 0, 0, 0, 1, 1, 1, 1, 1, 1, 1, 1, 1, 1, 1, 1, 0, 0, 0, 0, 0, 0, 0, 0, 0, 1, 1, 1, 1, 0, 0, 0],\n",
    "    [0, 0, 0, 0, 0, 1, 1, 1, 1, 1, 1, 1, 1, 1, 1, 1, 1, 1, 0, 0, 0, 0, 0, 0, 0, 1, 1, 1, 0, 0, 0, 0],\n",
    "    [0, 0, 0, 0, 0, 1, 1, 1, 1, 1, 1, 0, 0, 1, 1, 1, 1, 1, 1, 0, 0, 0, 0, 0, 0, 1, 1, 0, 0, 0, 0, 0],\n",
    "    [0, 0, 0, 0, 0, 0, 1, 1, 1, 1, 1, 1, 0, 0, 0, 1, 1, 1, 1, 0, 0, 0, 0, 0, 1, 1, 1, 0, 0, 0, 0, 0],\n",
    "    [0, 0, 0, 0, 0, 0, 1, 1, 1, 1, 1, 1, 1, 1, 0, 0, 0, 1, 1, 1, 1, 1, 1, 1, 1, 1, 1, 0, 0, 0, 0, 0],\n",
    "    [0, 0, 0, 0, 0, 0, 0, 1, 1, 1, 1, 1, 1, 1, 1, 0, 0, 0, 1, 1, 1, 1, 1, 1, 1, 1, 0, 0, 0, 0, 0, 0],\n",
    "    [0, 0, 0, 0, 0, 0, 0, 1, 1, 1, 1, 1, 1, 1, 1, 1, 1, 0, 0, 1, 1, 1, 1, 1, 1, 0, 0, 0, 0, 0, 0, 0],\n",
    "    [0, 0, 0, 0, 0, 0, 0, 1, 1, 1, 1, 1, 1, 1, 1, 1, 1, 1, 0, 0, 1, 1, 1, 1, 0, 0, 0, 0, 0, 0, 0, 0],\n",
    "    [0, 0, 0, 0, 0, 0, 0, 1, 1, 1, 1, 1, 1, 1, 1, 1, 1, 1, 0, 0, 0, 1, 1, 0, 0, 0, 0, 0, 0, 0, 0, 0],\n",
    "    [0, 0, 0, 0, 0, 0, 0, 1, 1, 1, 1, 1, 1, 1, 1, 1, 1, 1, 1, 0, 0, 1, 0, 0, 0, 0, 0, 0, 0, 0, 0, 0],\n",
    "    [0, 0, 0, 0, 0, 0, 0, 1, 1, 1, 1, 1, 1, 1, 1, 1, 1, 1, 1, 0, 0, 0, 0, 0, 0, 0, 0, 0, 0, 0, 0, 0],\n",
    "    [0, 0, 0, 0, 0, 0, 0, 0, 1, 1, 1, 1, 1, 1, 1, 1, 1, 1, 1, 0, 0, 0, 0, 0, 0, 0, 0, 0, 0, 0, 0, 0],\n",
    "    [0, 0, 0, 0, 0, 0, 0, 0, 1, 1, 1, 1, 1, 1, 1, 1, 1, 1, 1, 1, 0, 0, 0, 0, 0, 0, 0, 0, 0, 0, 0, 0],\n",
    "    [0, 0, 0, 0, 0, 0, 0, 0, 1, 1, 1, 1, 1, 1, 1, 1, 1, 1, 1, 1, 0, 0, 0, 0, 0, 0, 0, 0, 0, 0, 0, 0],\n",
    "    [0, 0, 0, 0, 0, 0, 0, 0, 1, 1, 1, 1, 1, 1, 1, 1, 1, 1, 1, 1, 0, 0, 0, 0, 0, 0, 0, 0, 0, 0, 0, 0],\n",
    "    [0, 0, 0, 0, 0, 0, 0, 1, 1, 1, 1, 1, 1, 1, 1, 1, 1, 1, 1, 1, 0, 0, 0, 0, 0, 0, 0, 0, 0, 0, 0, 0],\n",
    "    [0, 0, 0, 0, 0, 0, 1, 1, 1, 1, 1, 1, 1, 1, 1, 1, 1, 1, 1, 1, 1, 0, 0, 0, 0, 0, 0, 0, 0, 0, 0, 0],\n",
    "    [0, 0, 0, 0, 0, 1, 1, 1, 1, 1, 1, 1, 1, 1, 1, 1, 1, 1, 1, 1, 1, 0, 0, 0, 0, 0, 0, 0, 0, 0, 0, 0],\n",
    "    [0, 0, 0, 0, 0, 1, 1, 1, 1, 1, 1, 1, 1, 1, 1, 1, 1, 1, 1, 1, 1, 0, 0, 0, 0, 0, 0, 0, 0, 0, 0, 0],\n",
    "    [0, 0, 0, 0, 0, 2, 2, 2, 2, 2, 2, 2, 2, 2, 2, 2, 2, 2, 2, 2, 2, 0, 0, 0, 0, 0, 0, 0, 0, 0, 0, 0],\n",
    "])\n",
    "\n",
    "fig, ax = plt.subplots()\n",
    "sns.heatmap(track)"
   ]
  },
  {
   "cell_type": "code",
   "execution_count": 3,
   "id": "a579ff3a-c9c5-4ae6-8dca-503a3bc103f8",
   "metadata": {},
   "outputs": [],
   "source": [
    "def clamp(val, lower, upper):\n",
    "    return max(lower, min(upper, val))\n",
    "\n",
    "\n",
    "def direction(val):\n",
    "    if val == 0:\n",
    "        return 0\n",
    "    return val / abs(val)\n",
    "\n",
    "\n",
    "class RaceTrack:\n",
    "    def __init__(self, track):\n",
    "        self.track = track\n",
    "        self.max_speed = 5\n",
    "        self.state_space = (\n",
    "            # x position\n",
    "            self.track.shape[0],\n",
    "            # y position\n",
    "            self.track.shape[1],\n",
    "            # x speed\n",
    "            2 * self.max_speed + 1,\n",
    "            # y speed\n",
    "            2 * self.max_speed + 1,\n",
    "        )\n",
    "        self.action_space = (3, 3)\n",
    "        self.reset()\n",
    "\n",
    "    def reset(self):\n",
    "        start_xs, start_ys = np.where(self.track == 2)\n",
    "        i = np.random.choice(range(len(start_ys)))\n",
    "        # (x, y, x_vel, y_vel)\n",
    "        self.state = (start_xs[i], start_ys[i], 0, 0)\n",
    "        return self.state\n",
    "\n",
    "    def clamp_speed(self, speed):\n",
    "        return clamp(speed, -self.max_speed, self.max_speed)\n",
    "\n",
    "    def step(self, action, test=False):\n",
    "        x, y, x_vel_old, y_vel_old = self.state\n",
    "        x_vel = self.clamp_speed(x_vel_old + direction(action[0]))\n",
    "        y_vel = self.clamp_speed(y_vel_old + direction(action[1]))\n",
    "\n",
    "        # Reset speed in one direction if both are zero\n",
    "        if x_vel == 0 and y_vel == 0:\n",
    "            if np.random.random() > 0.5:\n",
    "                x_vel = x_vel_old\n",
    "            else:\n",
    "                y_vel = y_vel_old\n",
    "\n",
    "        # During training, inject some noise by ignoring actions\n",
    "        # sometimes\n",
    "        if not test and np.random.random() < 0.1:\n",
    "            x_vel, y_vel = x_vel_old, y_vel_old\n",
    "\n",
    "        to_go = [x_vel, y_vel]\n",
    "        while to_go[0] != 0 or to_go[1] != 0:\n",
    "            if to_go[0] != 0 and to_go[1] != 0:\n",
    "                d = 0 if np.random.random() > 0.5 else 1\n",
    "            elif to_go[0] != 0:\n",
    "                d = 0\n",
    "            else:\n",
    "                d = 1\n",
    "                \n",
    "            sign = to_go[d] / abs(to_go[d])\n",
    "            if d == 0:\n",
    "                x += sign\n",
    "            else:\n",
    "                y += sign\n",
    "            to_go[d] -= sign\n",
    "\n",
    "            x, y = int(x), int(y)\n",
    "            if x not in range(self.track.shape[0]) or y not in range(self.track.shape[1]):\n",
    "                return self.reset(), -2, False\n",
    "            loc = self.track[x,y]\n",
    "            # Hit a boundary, loss!\n",
    "            if loc == 0:\n",
    "                return self.reset(), -2, False\n",
    "            # Reached the finish line, win!\n",
    "            elif loc == 3:\n",
    "                self.state = (int(x), int(y), int(x_vel), int(y_vel))\n",
    "                return self.state, 100, True\n",
    "\n",
    "        self.state = (int(x), int(y), int(x_vel), int(y_vel))\n",
    "        return self.state, -1, False"
   ]
  },
  {
   "cell_type": "code",
   "execution_count": null,
   "id": "c0ab5fe7-b072-4763-bcc4-ed413304f16a",
   "metadata": {
    "jupyter": {
     "source_hidden": true
    }
   },
   "outputs": [],
   "source": [
    "racetrack = RaceTrack(track)\n",
    "track_state = racetrack.track.copy()\n",
    "state = racetrack.state\n",
    "track_state[state[0], state[1]] = 10\n",
    "sns.heatmap(track_state)"
   ]
  },
  {
   "cell_type": "code",
   "execution_count": null,
   "id": "a8663065-a46f-499b-bde7-ba43ed57d27a",
   "metadata": {
    "jupyter": {
     "source_hidden": true
    }
   },
   "outputs": [],
   "source": [
    "state, reward, done = racetrack.step((0, 1))\n",
    "print(state, reward, done)\n",
    "track_state = racetrack.track.copy()\n",
    "track_state[state[0], state[1]] = 10\n",
    "sns.heatmap(track_state)"
   ]
  },
  {
   "cell_type": "code",
   "execution_count": null,
   "id": "ee311ca6-f310-4392-9fc5-c9461fd5ab2f",
   "metadata": {
    "jupyter": {
     "source_hidden": true
    }
   },
   "outputs": [],
   "source": [
    "def index_to_action(i):\n",
    "    actions = np.array([\n",
    "        (-1, -1), (-1, 0), (-1, 1),\n",
    "        ( 0, -1), ( 0, 0), ( 0, 1),\n",
    "        ( 1, -1), ( 1, 0), ( 1, 1),\n",
    "    ])\n",
    "    \n",
    "    return actions[i]\n",
    "\n",
    "\n",
    "class MonteCarloControl:\n",
    "    def __init__(self, epsilon, racetrack):\n",
    "        track_height, track_width, x_vels, y_vels = racetrack.state_space\n",
    "        x_actions, y_actions = racetrack.action_space\n",
    "        self.num_actions = x_actions * y_actions\n",
    "        self.Q = np.zeros((\n",
    "            track_height,\n",
    "            track_width,\n",
    "            x_vels,\n",
    "            y_vels,\n",
    "            self.num_actions,\n",
    "        ))\n",
    "        self.N = np.zeros_like(self.Q)\n",
    "        self.epsilon = epsilon\n",
    "        self.track = racetrack\n",
    "\n",
    "    def select_action(self, state, greedy=False):\n",
    "        x, y, x_vel, y_vel = state\n",
    "        index = np.argmax(self.Q[x, y, x_vel, y_vel, :])\n",
    "        if not greedy and np.random.random() < self.epsilon:\n",
    "            index = np.random.randint(0, self.num_actions)\n",
    "        return index\n",
    "\n",
    "    def train(self, num_episodes=100_000):\n",
    "        original_epsilon = self.epsilon\n",
    "        self.track.reset()\n",
    "        for e in tqdm(range(num_episodes)):\n",
    "            threshold = num_episodes // 10\n",
    "            self.epsilon = max(\n",
    "                original_epsilon,\n",
    "                1 - (e / threshold) * (1 - original_epsilon)\n",
    "            )\n",
    "            x, y, x_vel, y_vel = self.track.state\n",
    "            states = [(x, y, x_vel, y_vel)]\n",
    "            actions = []\n",
    "            rewards = []\n",
    "            ret = 0\n",
    "            while True:\n",
    "                index = self.select_action((x, y, x_vel, y_vel))\n",
    "                actions.append(index)\n",
    "                action = index_to_action(index)\n",
    "                (x, y, x_vel, y_vel), reward, done = self.track.step(action)\n",
    "                rewards.append(reward)\n",
    "                states.append((x, y, x_vel, y_vel))\n",
    "                if done:\n",
    "                    break\n",
    "            for t in range(len(states) - 2, -1, -1):\n",
    "                x, y, x_vel, y_vel = states[t]\n",
    "                ret += rewards[t]\n",
    "                self.N[x, y, x_vel, y_vel, actions[t]] += 1\n",
    "                self.Q[x, y, x_vel, y_vel, actions[t]] += (1 / self.N[x, y, x_vel, y_vel, actions[t]]) * \\\n",
    "                    (ret - self.Q[x, y, x_vel, y_vel, actions[t]])\n",
    "\n",
    "    def play_episode(self):\n",
    "        episode = []\n",
    "        x, y, x_vel, y_vel = self.track.reset()\n",
    "        episode.append((x, y, x_vel, y_vel))\n",
    "        done = False\n",
    "        while not done:\n",
    "            index = self.select_action((x, y, x_vel, y_vel), greedy=True)\n",
    "            action = index_to_action(index)\n",
    "            (x, y, x_vel, y_vel), reward, done = self.track.step(action, test=True)\n",
    "            episode.append((x, y, x_vel, y_vel))\n",
    "\n",
    "        return episode"
   ]
  },
  {
   "cell_type": "code",
   "execution_count": null,
   "id": "50e5d5f0-2cc4-4586-bd44-32ed3a04b565",
   "metadata": {
    "jupyter": {
     "source_hidden": true
    }
   },
   "outputs": [],
   "source": [
    "racetrack = RaceTrack(track)\n",
    "agent = MonteCarloControl(0.01, racetrack)"
   ]
  },
  {
   "cell_type": "code",
   "execution_count": null,
   "id": "a54cb7eb-064a-4786-b7e4-4c9d08e36360",
   "metadata": {
    "jupyter": {
     "source_hidden": true
    }
   },
   "outputs": [],
   "source": [
    "agent.train()"
   ]
  },
  {
   "cell_type": "code",
   "execution_count": null,
   "id": "2d21f26a-0dce-4f97-8e73-c93cad9c67dc",
   "metadata": {
    "jupyter": {
     "source_hidden": true
    }
   },
   "outputs": [],
   "source": [
    "episode = agent.play_episode()\n",
    "frames = []\n",
    "for state in episode:\n",
    "    track_state = racetrack.track.copy()\n",
    "    track_state[state[0], state[1]] = 10\n",
    "    fig, ax = plt.subplots()\n",
    "    sns.heatmap(track_state, ax=ax)\n",
    "    ax.axis('off')\n",
    "    # Save the frame as an image\n",
    "    plt.savefig('temp_frame.png', bbox_inches='tight', pad_inches=0)\n",
    "    frames.append(imageio.v2.imread('temp_frame.png'))\n",
    "    plt.close()\n",
    "\n",
    "# Create a GIF from the collected frames\n",
    "imageio.mimsave('episode_heatmap.gif', frames, fps=2)\n",
    "\n",
    "# Clean up temporary files if needed\n",
    "os.remove('temp_frame.png')\n",
    "Image(url='episode_heatmap.gif')"
   ]
  },
  {
   "cell_type": "markdown",
   "id": "84562e8a-b5ba-4bab-8172-58f162bade7c",
   "metadata": {},
   "source": [
    "## *Discounting-aware Importance Sampling\n",
    "\n",
    "* This section is not likely to be all that relevant to me."
   ]
  },
  {
   "cell_type": "markdown",
   "id": "f9500005-3bb5-4ca7-a2d8-11babfa2a448",
   "metadata": {},
   "source": [
    "## *Per-decision Importance Sampling\n",
    "\n",
    "* This section is not likely to be all that relevant to me."
   ]
  },
  {
   "cell_type": "code",
   "execution_count": 4,
   "id": "914858dd-a44a-4bb7-b3a8-83cbe1d8c350",
   "metadata": {},
   "outputs": [],
   "source": [
    "def index_to_action(i):\n",
    "    actions = np.array([\n",
    "        (-1, -1), (-1, 0), (-1, 1),\n",
    "        ( 0, -1), ( 0, 0), ( 0, 1),\n",
    "        ( 1, -1), ( 1, 0), ( 1, 1),\n",
    "    ])\n",
    "    \n",
    "    return actions[i]\n",
    "\n",
    "\n",
    "class QLearning:\n",
    "    def __init__(self, epsilon, step_size, racetrack):\n",
    "        track_height, track_width, x_vels, y_vels = racetrack.state_space\n",
    "        x_actions, y_actions = racetrack.action_space\n",
    "        self.num_actions = x_actions * y_actions\n",
    "        self.Q = np.zeros((\n",
    "            track_height,\n",
    "            track_width,\n",
    "            x_vels,\n",
    "            y_vels,\n",
    "            self.num_actions,\n",
    "        ))\n",
    "        self.epsilon = epsilon\n",
    "        self.step_size = step_size\n",
    "        self.track = racetrack\n",
    "        self.ep_lengths = []\n",
    "\n",
    "    def select_action(self, state, greedy=False):\n",
    "        x, y, x_vel, y_vel = state\n",
    "        index = np.argmax(self.Q[x, y, x_vel, y_vel, :])\n",
    "        if not greedy and np.random.random() < self.epsilon:\n",
    "            index = np.random.randint(0, self.num_actions)\n",
    "        return index\n",
    "\n",
    "    def train(self, num_episodes=100_000):\n",
    "        original_epsilon = self.epsilon\n",
    "        self.track.reset()\n",
    "        for e in tqdm(range(num_episodes)):\n",
    "            threshold = num_episodes // 33_333\n",
    "            self.epsilon = max(\n",
    "                original_epsilon,\n",
    "                0.8 - (e / threshold) * (0.8 - original_epsilon)\n",
    "            )\n",
    "            x, y, x_vel, y_vel = self.track.state\n",
    "            done = False\n",
    "            ep_length = 0\n",
    "            while not done:\n",
    "                ep_length += 1\n",
    "                index = self.select_action((x, y, x_vel, y_vel))\n",
    "                action = index_to_action(index)\n",
    "                (x_, y_, x_vel_, y_vel_), reward, done = self.track.step(action)\n",
    "                self.Q[x, y, x_vel, y_vel, index] += self.step_size * \\\n",
    "                                            (reward + np.max(self.Q[x_, y_, x_vel_, y_vel_]) - \\\n",
    "                                             self.Q[x, y, x_vel, y_vel, index])\n",
    "                x, y, x_vel, y_vel = x_, y_, x_vel_, y_vel_\n",
    "            self.ep_lengths.append(ep_length)\n",
    "\n",
    "    def play_episode(self):\n",
    "        episode = []\n",
    "        x, y, x_vel, y_vel = self.track.reset()\n",
    "        episode.append((x, y, x_vel, y_vel))\n",
    "        done = False\n",
    "        while not done:\n",
    "            index = self.select_action((x, y, x_vel, y_vel), greedy=True)\n",
    "            action = index_to_action(index)\n",
    "            (x, y, x_vel, y_vel), reward, done = self.track.step(action, test=True)\n",
    "            episode.append((x, y, x_vel, y_vel))\n",
    "\n",
    "        return episode"
   ]
  },
  {
   "cell_type": "code",
   "execution_count": 11,
   "id": "3816a044-17cd-4de5-9b4d-ebc3d4b305d2",
   "metadata": {},
   "outputs": [],
   "source": [
    "epsilon = 0.01\n",
    "step_size = 0.05\n",
    "racetrack = RaceTrack(track)\n",
    "agent = QLearning(epsilon, step_size, racetrack)"
   ]
  },
  {
   "cell_type": "code",
   "execution_count": null,
   "id": "bcaae757-dfd7-496c-83d5-dacf8bba2e82",
   "metadata": {},
   "outputs": [],
   "source": [
    "agent.track.track = track"
   ]
  },
  {
   "cell_type": "code",
   "execution_count": 12,
   "id": "6a3dee97-535b-4118-99a2-4366edc5e37c",
   "metadata": {},
   "outputs": [
    {
     "name": "stderr",
     "output_type": "stream",
     "text": [
      "100%|███████████████████████████████████████████████████████| 10000000/10000000 [30:33<00:00, 5453.24it/s]\n"
     ]
    }
   ],
   "source": [
    "agent.train(10_000_000)"
   ]
  },
  {
   "cell_type": "code",
   "execution_count": 13,
   "id": "feb26ef0-f05a-4d81-912f-1e8abea02de6",
   "metadata": {},
   "outputs": [
    {
     "data": {
      "image/png": "[encoded data removed]",
      "text/plain": [
       "<Figure size 640x480 with 1 Axes>"
      ]
     },
     "metadata": {},
     "output_type": "display_data"
    }
   ],
   "source": [
    "plt.plot(agent.ep_lengths)\n",
    "plt.yscale(\"log\")\n",
    "plt.xlabel(\"Episode\")\n",
    "plt.ylabel(\"Steps to solve (log)\")\n",
    "plt.show()"
   ]
  },
  {
   "cell_type": "code",
   "execution_count": 16,
   "id": "a3938e0f-2dda-4f7e-b0bc-29a01989717e",
   "metadata": {},
   "outputs": [
    {
     "name": "stdout",
     "output_type": "stream",
     "text": [
      "Episode finished! Rendering animation...\n"
     ]
    },
    {
     "data": {
      "text/html": [
       "<img src=\"episode_heatmap.gif\"/>"
      ],
      "text/plain": [
       "<IPython.core.display.Image object>"
      ]
     },
     "execution_count": 16,
     "metadata": {},
     "output_type": "execute_result"
    }
   ],
   "source": [
    "episode = agent.play_episode()\n",
    "print(\"Episode finished! Rendering animation...\")\n",
    "frames = []\n",
    "for state in episode:\n",
    "    track_state = racetrack.track.copy()\n",
    "    track_state[state[0], state[1]] = 10\n",
    "    fig, ax = plt.subplots(figsize=(6, 6))\n",
    "    sns.heatmap(track_state, ax=ax, cbar=False)\n",
    "    ax.axis('off')\n",
    "    # Save the frame as an image\n",
    "    plt.savefig('temp_frame.png', bbox_inches='tight', pad_inches=0)\n",
    "    frames.append(imageio.v2.imread('temp_frame.png'))\n",
    "    plt.close()\n",
    "\n",
    "# Create a GIF from the collected frames\n",
    "imageio.mimsave('episode_heatmap.gif', frames, fps=2, loop=0)\n",
    "\n",
    "# Clean up temporary files if needed\n",
    "os.remove('temp_frame.png')\n",
    "Image(url='episode_heatmap.gif')"
   ]
  },
  {
   "cell_type": "markdown",
   "id": "d3c9c9a1-8c02-4bbc-83e0-e908b06ae049",
   "metadata": {},
   "source": [
    "## $Exercise\\ \\mathcal{5.15}$\n",
    "\n",
    "#### Make new equations analogous to the importance-sampling Monte Carlo estimates (5.5) and (5.6) , but for action value estimates $Q(s,a)$. You will need new notation $\\mathcal{T}(s,a)$ for the time steps on which the state–action pair $s,a$ is visited on the episode. Do these estimates involve more or less importance-sampling correction?\n",
    "\n",
    "As the first step of the return is not sampled according to a policy, the importance sampling ratio is not influenced by it. There is therefore one step less than for state values.\n",
    "$$\n",
    "\\begin{align}\n",
    "Q(s,a)&\\doteq\\frac{\\sum_{t\\in\\mathcal{T}(s)}\\rho_{t+1:T(s)-1}G_t}{|\\mathcal{T}(s)|} \\\\\n",
    "Q(s,a)&\\doteq\\frac{\\sum_{t\\in\\mathcal{T}(s)}\\rho_{t+1:T(s)-1}G_t}{\\sum_{t\\in\\mathcal{T}(s)}\\rho_{t+1:T(s)-1}}\n",
    "\\end{align}\n",
    "$$"
   ]
  }
 ],
 "metadata": {
  "kernelspec": {
   "display_name": "Python 3 (ipykernel)",
   "language": "python",
   "name": "python3"
  },
  "language_info": {
   "codemirror_mode": {
    "name": "ipython",
    "version": 3
   },
   "file_extension": ".py",
   "mimetype": "text/x-python",
   "name": "python",
   "nbconvert_exporter": "python",
   "pygments_lexer": "ipython3",
   "version": "3.12.8"
  }
 },
 "nbformat": 4,
 "nbformat_minor": 5
}
