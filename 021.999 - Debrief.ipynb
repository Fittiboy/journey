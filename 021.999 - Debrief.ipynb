{
 "cells": [
  {
   "cell_type": "markdown",
   "id": "d9859a02-9a75-4e6b-98d7-28ac9e235c38",
   "metadata": {},
   "source": [
    "Less friction!"
   ]
  }
 ],
 "metadata": {
  "kernelspec": {
   "display_name": "Python 3 (ipykernel)",
   "language": "python",
   "name": "python3"
  },
  "language_info": {
   "codemirror_mode": {
    "name": "ipython",
    "version": 3
   },
   "file_extension": ".py",
   "mimetype": "text/x-python",
   "name": "python",
   "nbconvert_exporter": "python",
   "pygments_lexer": "ipython3",
   "version": "3.12.8"
  }
 },
 "nbformat": 4,
 "nbformat_minor": 5
}
