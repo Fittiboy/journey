{
 "cells": [
  {
   "cell_type": "markdown",
   "id": "ab0807ab-c730-4dd8-8055-a0836fc52f71",
   "metadata": {},
   "source": [
    "# Day 7 - Monte Carlo Methods\n",
    "\n",
    "Monte Carlo methods don't require a model of the environment, but instead sample from real experience, or from a simpler model that doesn't have the explicit probability distributions over all states."
   ]
  },
  {
   "cell_type": "markdown",
   "id": "52524ab0-119f-4b44-b828-d52d01877c23",
   "metadata": {},
   "source": [
    "## Monte Carlo Prediction\n",
    "\n",
    "* Monte Carlo prediction is concerned with learning the state-value functions from experience\n",
    "* As the state-value function is the expected return from that state under the policy $\\pi$, it can be approximated by the average of real returns experienced by the agent\n",
    "* Each time the agent enters state $s$ in an episode is called a $visit$\n",
    "* There are methods that update estimates based on every visit, or based on the first visit only\n",
    "* Both converge to $v_\\pi(s)$\n",
    "* The averages are unbiased estimates, and they converge with the standard deviation of the error falling by $1/\\sqrt{n}$\n",
    "* This is true for first-visit MC, but every-visit MC also converges quadratically\n",
    "* As the value estimate for one state does not depend on the estimates of other states, there is no bootstrapping, and therefore no bias"
   ]
  },
  {
   "cell_type": "code",
   "execution_count": 1,
   "id": "020cb7cb-1866-4d47-9e7a-7173bcf4029e",
   "metadata": {},
   "outputs": [],
   "source": [
    "# Pseudocode\n",
    "def first_visit_mc_prediction(pi):\n",
    "    V = np.zeros(3)\n",
    "    returns = [[], [], []]\n",
    "\n",
    "    while True:\n",
    "        episode = generate_episode(pi)\n",
    "        G = 0\n",
    "        for t in len(episode):\n",
    "            G = gamma * G + episode[\"R\"][t]\n",
    "            # Every-visit MC would leave out this check!\n",
    "            if not episode[\"S\"][t] in visited_states:\n",
    "                returns[episode[\"S\"][t]].append(G)\n",
    "                V[episode[\"S\"][t]] = average(returns[episode[\"S\"][t]])"
   ]
  },
  {
   "cell_type": "markdown",
   "id": "48087072-366e-4526-8b4b-280d03d59cc5",
   "metadata": {},
   "source": [
    "### $Exercise\\ \\mathcal{5.1}$\n",
    "\n",
    "#### Consider the diagrams on the right in Figure 5.1. Why does the estimated value function jump up for the last two rows in the rear?\n",
    "The last two rows represent the states from which the player is most likely to win, as they are close to, or directly at 21, without hitting.\n",
    "\n",
    "#### Why does it drop off for the whole last row on the left?\n",
    "As the dealer is showing an ace, they essentially get a \"second chance,\" should they go over 21 with the ace counted as 11, since they can now count it as 1 instead and try getting to 21 again.\n",
    "\n",
    "#### Why are the frontmost values higher in the upper diagrams than in the lower? \n",
    "The upper diagrams correspond to the same situation for the player, where they have a usable ace, getting a \"second chance\" at winning should they go pseudo-bust."
   ]
  },
  {
   "cell_type": "markdown",
   "id": "d11ce314-7b66-4c73-8136-3804d99ef5dc",
   "metadata": {},
   "source": [
    "### $Exercise\\ \\mathcal{5.2}$\n",
    "\n",
    "#### Suppose every-visit MC was used instead of first-visit MC on the blackjack task. Would you expect the results to be very different? Why or why not?\n",
    "In a single episode, the same state cannot be visited more than once. Even if the same sum can be encountered twice, the \"usable ace\" part of the state will then change from true to false. Therefore, every-visit MC and first-visit MC are equivalent on this problem."
   ]
  }
 ],
 "metadata": {
  "kernelspec": {
   "display_name": "Python 3 (ipykernel)",
   "language": "python",
   "name": "python3"
  },
  "language_info": {
   "codemirror_mode": {
    "name": "ipython",
    "version": 3
   },
   "file_extension": ".py",
   "mimetype": "text/x-python",
   "name": "python",
   "nbconvert_exporter": "python",
   "pygments_lexer": "ipython3",
   "version": "3.12.8"
  }
 },
 "nbformat": 4,
 "nbformat_minor": 5
}
