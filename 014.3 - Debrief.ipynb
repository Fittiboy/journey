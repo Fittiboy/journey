{
 "cells": [
  {
   "cell_type": "markdown",
   "id": "f0b7e781-9d4a-43af-ba84-d2528da33ea2",
   "metadata": {},
   "source": [
    "# Day 14 - Debrief"
   ]
  },
  {
   "cell_type": "markdown",
   "id": "69e01b22-949b-4d61-bca6-73f359a7953c",
   "metadata": {},
   "source": [
    "## What I did today\n",
    "\n",
    "I finished the second chapter of DLPT, and worke through a little bit more of Sutton & Barto, chapter 8. I rewrote a lot of code, with the help of both o1 and R1, to be more easy for me to read and keep track of."
   ]
  },
  {
   "cell_type": "markdown",
   "id": "1d3f2991-fef0-4b27-9079-f0b695a16e89",
   "metadata": {},
   "source": [
    "## What I learned today\n",
    "\n",
    "I learned quite a bit about using PyTorch, by example. I got very high-level overview of the process of loading and transforming data, feeding it to a model, and then evaluating it, as well as the process of loading and setting up a model. I also got a look at model zoos, and was able to try out models on different tasks, like a CycleGAN setup, to turn a horse into a zebra.\n",
    "\n",
    "Afterwards, I learned about the Dyna architecture for planning in RL, and how it can be done in a simple, almost trivial manner."
   ]
  },
  {
   "cell_type": "markdown",
   "id": "9c974dd0-4ee3-40e2-89bf-72deef640147",
   "metadata": {},
   "source": [
    "## Notes and questions for the next day\n",
    "\n",
    "Tomorrow, I want to finish the refactoring work that I started today, and convert more of my code into this cleaner style. It's very easy for me to get overwhelmed when faced with a task like this, and LLMs are immensely helpful when that happens."
   ]
  }
 ],
 "metadata": {
  "kernelspec": {
   "display_name": "Python 3 (ipykernel)",
   "language": "python",
   "name": "python3"
  },
  "language_info": {
   "codemirror_mode": {
    "name": "ipython",
    "version": 3
   },
   "file_extension": ".py",
   "mimetype": "text/x-python",
   "name": "python",
   "nbconvert_exporter": "python",
   "pygments_lexer": "ipython3",
   "version": "3.12.8"
  }
 },
 "nbformat": 4,
 "nbformat_minor": 5
}
