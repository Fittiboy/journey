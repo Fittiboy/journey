{
 "cells": [
  {
   "cell_type": "markdown",
   "id": "ec142b6d-652e-46f6-8cc0-539d527ec7f4",
   "metadata": {},
   "source": [
    "# Day 13 - Planning and Learning with Tabular Methods"
   ]
  },
  {
   "cell_type": "markdown",
   "id": "eacd8849-375e-4b71-9e04-cc000ffdb4d0",
   "metadata": {},
   "source": [
    "## Models and Planning\n",
    "\n",
    "* A $model$ of the environment is anything an agent can use to predict how the environment will react to the actions taken\n",
    "* $Distribution\\ models$ produce the full probability distributions of all transitions and rewards\n",
    "* $Sample\\ models$ produce samples from these probability distributions\n",
    "* These models can be used to simulate experience to learn from, or $plan$\n",
    "* Planning is any computational process that takes a model as input and produces a (better) policy\n",
    "\n",
    "$$\n",
    "\\text{model}\\overset{\\text{planning}}{\\longrightarrow}\\text{policy}\n",
    "$$\n",
    "* There is state-space planning, which searches through the state-space, and plan-space planning, which searches through plan-space\n",
    "* State-space planning methods involve estimating value functions as an intermediate step to producing an (improved) policy\n",
    "\n",
    "$$\n",
    "\\text{model}\\longrightarrow\\text{simulated experience}\\overset{\\text{backups}}{\\longrightarrow}\\text{values}\\longrightarrow\\text{policy}\n",
    "$$\n",
    "* Planning can be as straightforward as applying the previously developed learning methods to simulated data"
   ]
  }
 ],
 "metadata": {
  "kernelspec": {
   "display_name": "Python 3 (ipykernel)",
   "language": "python",
   "name": "python3"
  },
  "language_info": {
   "codemirror_mode": {
    "name": "ipython",
    "version": 3
   },
   "file_extension": ".py",
   "mimetype": "text/x-python",
   "name": "python",
   "nbconvert_exporter": "python",
   "pygments_lexer": "ipython3",
   "version": "3.12.8"
  }
 },
 "nbformat": 4,
 "nbformat_minor": 5
}
