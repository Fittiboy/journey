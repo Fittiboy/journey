{
 "cells": [
  {
   "cell_type": "markdown",
   "id": "8bc81cca-3448-4a9f-8a67-b4e7f99d0946",
   "metadata": {},
   "source": [
    "# Day 12 - $n$-step Bootstrapping"
   ]
  },
  {
   "cell_type": "markdown",
   "id": "52596062-b291-4d1e-8eb8-2ba5df162c4b",
   "metadata": {},
   "source": [
    "## $n$-step Off-policy Learning\n",
    "\n",
    "* To apply $n$-step methods to off-policy learning, we bring back the importance sampling ratio, in truncated form:\n",
    "\n",
    "$$\n",
    "\\rho_{t:h}\\doteq\\sum_{k=t}^{min(h,T-1)}\\frac{\\pi(A_k|S_k)}{b(A_k|S_k)}\n",
    "$$\n",
    "* This makes the update rule for simple $n$-step TD:\n",
    "\n",
    "$$\n",
    "V_{t+n}(S_t)\\doteq V_{t+n-1}(S_t)+\\alpha\\rho_{t:t+n-1}\\left[G_{t:t+n}-V_{t+n-1}{S_t}\\right]\n",
    "$$\n",
    "* For Sarsa, the ratio is shifted by one, as action values are being estimated, and the first action chosen is the one being evaluated, while the final value in $G_{t:t+n}$ is due to the behavior policy, and needs to be weighted accordingly:\n",
    "\n",
    "$$\n",
    "Q_{t+n}(S_t,A_t)\\doteq Q_{t+n-1}(S_t,A_t)+\\alpha\\rho_{t+1:t+n}\\left[G_{t:t+n}-Q_{t+n-1}(S_{t},A_{t})\\right]\n",
    "$$\n",
    "* In the special case of off-policy $n$-step Expected Sarsa, $\\rho_{t+1:t+n-1}$ is used, as the final term in the update target is an an expectation"
   ]
  },
  {
   "cell_type": "markdown",
   "id": "aaf5e57a-71b4-4213-ac38-5ff83e4ee858",
   "metadata": {},
   "source": [
    "## *Per-decision Methods with Control Variates\n",
    "\n",
    "* I may visit this section if I end up using importance sampling in practice, after going through the optional sections in chatper 5"
   ]
  }
 ],
 "metadata": {
  "kernelspec": {
   "display_name": "Python 3 (ipykernel)",
   "language": "python",
   "name": "python3"
  },
  "language_info": {
   "codemirror_mode": {
    "name": "ipython",
    "version": 3
   },
   "file_extension": ".py",
   "mimetype": "text/x-python",
   "name": "python",
   "nbconvert_exporter": "python",
   "pygments_lexer": "ipython3",
   "version": "3.12.8"
  }
 },
 "nbformat": 4,
 "nbformat_minor": 5
}
