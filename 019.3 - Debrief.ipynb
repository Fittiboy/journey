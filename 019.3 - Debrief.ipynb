{
 "cells": [
  {
   "cell_type": "markdown",
   "id": "43be00b1-2457-41e7-a59c-120dbbae6f4b",
   "metadata": {},
   "source": [
    "# Day 19 - Debrief"
   ]
  },
  {
   "cell_type": "markdown",
   "id": "0b3c0633-c172-4406-b85b-3cfd19671a99",
   "metadata": {},
   "source": [
    "## What I did today\n",
    "\n",
    "I began working through the fourth chapter of DLPT, before spending most of my day improving my software library.\n",
    "\n",
    "I implemented saving and loading for my agents, as well as useful evaluation methods to quickly check their performance.\n",
    "I also implemented a very simple grid world for debugging purposes, and refactored the `RaceTrack` environment slightly.\n",
    "The biggest changes are the additions of multi-processed training of multiple agent, and averaging of several such training runs.\n",
    "\n",
    "Once I was done working on my library, I read the Prioritized Sweeping section of Sutton & Barto."
   ]
  },
  {
   "cell_type": "markdown",
   "id": "45a97e89-9094-4b7a-962e-f9b66003c8eb",
   "metadata": {},
   "source": [
    "## What I learned today\n",
    "\n",
    "I learned how easy it is to load real-world data into tensors with PyTorch, and how to do so specifically for images, including volumetric images like medical scans.\n",
    "\n",
    "I also noticed that priorotized sweeping uses the size of the update as a measure of priority, which is essentially a surprise- based update!"
   ]
  },
  {
   "cell_type": "markdown",
   "id": "3533f176-d1f6-469f-8517-7476ab06f498",
   "metadata": {},
   "source": [
    "## Notes and questions\n",
    "\n",
    "Prioritized Sweeping is looks a lot like surprise-based updates, applicable to deep RL methods!"
   ]
  }
 ],
 "metadata": {
  "kernelspec": {
   "display_name": "Python 3 (ipykernel)",
   "language": "python",
   "name": "python3"
  },
  "language_info": {
   "codemirror_mode": {
    "name": "ipython",
    "version": 3
   },
   "file_extension": ".py",
   "mimetype": "text/x-python",
   "name": "python",
   "nbconvert_exporter": "python",
   "pygments_lexer": "ipython3",
   "version": "3.12.8"
  }
 },
 "nbformat": 4,
 "nbformat_minor": 5
}
