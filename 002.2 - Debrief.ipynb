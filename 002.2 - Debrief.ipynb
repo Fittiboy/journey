{
 "cells": [
  {
   "cell_type": "markdown",
   "id": "0f4bc81e-674a-4276-8e3d-259567e19a33",
   "metadata": {},
   "source": [
    "# Day 2 - Debrief"
   ]
  },
  {
   "attachments": {},
   "cell_type": "markdown",
   "id": "330af16e-5fef-4c85-947f-bc02f9d9175e",
   "metadata": {},
   "source": [
    "## What I did today\n",
    "\n",
    "Today, I had a rough start mentally, but I'm happy to report that I managed to recover and worked through sections 2.4-2.6 of the book.\n",
    "The second David Silver lecture covers the topics of chapter 3 of the book, so I moved that to a later date."
   ]
  },
  {
   "attachments": {},
   "cell_type": "markdown",
   "id": "3de51b53-7cba-48c3-8c50-ea2e7b77bb28",
   "metadata": {},
   "source": [
    "## What I learned today\n",
    "\n",
    "I learned about the incremental implementation of action value estimation, which, instead of calculating the complete average at every step, uses the only previous estimate and the current reward to calculate the average. Then, this was generalized to arbitrary step-sizes, with constant step-sizes being the most commonly used, practical choice.\n",
    "\n",
    "Using the example of a multi-armed bandit with changing values, I could see how a constant step size is able to track these changes, while the true sample average could not.\n",
    "\n",
    "Finally, I learned about using optimistic initial values to encourage early exploration, which allows us to set $\\varepsilon=0$, while still approaching the correct action values. This can outperform more realistic estimates using $\\varepsilon$-greedy action selection. This does not help encourage exploration past the beginning, and is therefore not practical in continuing problems."
   ]
  },
  {
   "attachments": {},
   "cell_type": "markdown",
   "id": "e1268a33-32ba-47ab-bad0-e822ff49fc73",
   "metadata": {},
   "source": [
    "## Notes and questions for the next day\n",
    "\n",
    "I have to find a way to consistently get work done without feeling bad about myself for not achieving everything I had planned the day before.\n",
    "The pressure is difficult to handle. I am proud of how much I did end up getting done today, especially regarding the exercises!\n",
    "\n",
    "I have no particular notes or questions about today's content."
   ]
  }
 ],
 "metadata": {
  "kernelspec": {
   "display_name": "Python 3 (ipykernel)",
   "language": "python",
   "name": "python3"
  },
  "language_info": {
   "codemirror_mode": {
    "name": "ipython",
    "version": 3
   },
   "file_extension": ".py",
   "mimetype": "text/x-python",
   "name": "python",
   "nbconvert_exporter": "python",
   "pygments_lexer": "ipython3",
   "version": "3.12.8"
  }
 },
 "nbformat": 4,
 "nbformat_minor": 5
}
