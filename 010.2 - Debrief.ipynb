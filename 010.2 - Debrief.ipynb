{
 "cells": [
  {
   "cell_type": "markdown",
   "id": "ba42acfc-1fe0-4114-ab34-de4e4a1fa316",
   "metadata": {},
   "source": [
    "# Day 10 - Debrief"
   ]
  },
  {
   "cell_type": "markdown",
   "id": "d36be0b9-6324-468a-81ae-5a4c8f48a02b",
   "metadata": {},
   "source": [
    "## What I did today\n",
    "\n",
    "Today, I worked through the first five sections of chatper 5, on TD methods, and worked the exercises along the way. I also implemented multiple control methods on the racetrack and windy grid world tasks."
   ]
  },
  {
   "cell_type": "markdown",
   "id": "c34f5df7-bf30-40c6-b45b-2cb1896567ee",
   "metadata": {},
   "source": [
    "## What I learned today\n",
    "\n",
    "I learned about temporal-difference learning for both prediction and control, and how different methods compare to each other and to Monte Carlo methods. I learned that TD methods combine the advantages of both DP and MC methods. I learned about TD(0) for prediction, as well as Sarsa, Q-learning, and Expected Sarsa for control."
   ]
  },
  {
   "cell_type": "markdown",
   "id": "4cd797df-2b2f-4ef1-b7ad-b28b64fbada3",
   "metadata": {},
   "source": [
    "## Notes and questions for the next day\n",
    "\n",
    "Excited once more."
   ]
  }
 ],
 "metadata": {
  "kernelspec": {
   "display_name": "Python 3 (ipykernel)",
   "language": "python",
   "name": "python3"
  },
  "language_info": {
   "codemirror_mode": {
    "name": "ipython",
    "version": 3
   },
   "file_extension": ".py",
   "mimetype": "text/x-python",
   "name": "python",
   "nbconvert_exporter": "python",
   "pygments_lexer": "ipython3",
   "version": "3.12.8"
  }
 },
 "nbformat": 4,
 "nbformat_minor": 5
}
