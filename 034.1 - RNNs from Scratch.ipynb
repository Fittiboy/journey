{
 "cells": [
  {
   "cell_type": "markdown",
   "id": "c0af058d-11ac-4eaf-966c-3d6525a1f327",
   "metadata": {},
   "source": [
    "# Day 34 - RNNs from Scratch"
   ]
  },
  {
   "cell_type": "code",
   "execution_count": 1,
   "id": "3194e719-0aea-4540-8297-58b427b36b43",
   "metadata": {},
   "outputs": [],
   "source": [
    "import torch\n",
    "import einops\n",
    "from torch import nn, optim"
   ]
  },
  {
   "cell_type": "code",
   "execution_count": 2,
   "id": "95648a5e-6445-42d5-85a2-3e558559bc1c",
   "metadata": {},
   "outputs": [],
   "source": [
    "class Recurrent(nn.Module):\n",
    "    def __init__(self, n_hiddens=5):\n",
    "        super().__init__()\n",
    "        self.step = nn.Linear(n_hiddens, n_hiddens)\n",
    "        self.input = nn.Linear(1, n_hiddens)\n",
    "        self.out = nn.Linear(n_hiddens, 1)\n",
    "\n",
    "    def forward(self, x):\n",
    "        batch_size, length = x.shape\n",
    "        out = torch.zeros([batch_size, length])\n",
    "        self.state = torch.zeros([batch_size, n_hiddens])\n",
    "        \n",
    "        x = einops.rearrange(x, \"b l -> l b 1\")\n",
    "        \n",
    "        for i, x_i in enumerate(x):\n",
    "            self.state = self.step(self.state) + self.input(x_i)\n",
    "            step_out = self.out(torch.relu(self.state))\n",
    "            out[:, i] = einops.rearrange(step_out, \"b 1 -> b\")\n",
    "\n",
    "        return out"
   ]
  },
  {
   "cell_type": "code",
   "execution_count": 3,
   "id": "2b857e59-a675-4e56-8298-a3bba0532f29",
   "metadata": {},
   "outputs": [],
   "source": [
    "seqs = torch.tensor(\n",
    "    [\n",
    "        [-11, -10, -9, -8, -7],\n",
    "        [35, 36, 37, 38, 39],\n",
    "        [-9, -8, -7, -6, -5],\n",
    "        [1, 2, 3, 4, 5],\n",
    "        [4, 5, 6, 7, 8],\n",
    "        [7, 8, 9, 10, 11],\n",
    "        [12, 13, 14, 15, 16],\n",
    "        [28, 29, 30, 31, 32],\n",
    "    ],\n",
    "    dtype=torch.float32,\n",
    ")"
   ]
  },
  {
   "cell_type": "code",
   "execution_count": 4,
   "id": "02b7f021-392e-41cb-893b-703d562815f0",
   "metadata": {},
   "outputs": [],
   "source": [
    "n_hiddens = 128"
   ]
  },
  {
   "cell_type": "code",
   "execution_count": 5,
   "id": "23345a88-fbc1-455d-ade1-e92e2721a995",
   "metadata": {},
   "outputs": [
    {
     "data": {
      "text/plain": [
       "Recurrent(\n",
       "  (step): Linear(in_features=128, out_features=128, bias=True)\n",
       "  (input): Linear(in_features=1, out_features=128, bias=True)\n",
       "  (out): Linear(in_features=128, out_features=1, bias=True)\n",
       ")"
      ]
     },
     "execution_count": 5,
     "metadata": {},
     "output_type": "execute_result"
    }
   ],
   "source": [
    "net = Recurrent(n_hiddens=n_hiddens)\n",
    "net"
   ]
  },
  {
   "cell_type": "code",
   "execution_count": 6,
   "id": "bff75efa-6cfe-40e1-acdc-8de9c0bf132f",
   "metadata": {},
   "outputs": [],
   "source": [
    "optimizer = optim.Adam(net.parameters(), lr=2e-3)"
   ]
  },
  {
   "cell_type": "code",
   "execution_count": 7,
   "id": "045b7c20-4bd4-4789-b00b-7ede0146bda5",
   "metadata": {},
   "outputs": [],
   "source": [
    "loss_fn = nn.MSELoss()"
   ]
  },
  {
   "cell_type": "code",
   "execution_count": 8,
   "id": "4de9a0d6-b43f-422b-8fb9-fb908c70f912",
   "metadata": {},
   "outputs": [
    {
     "data": {
      "text/plain": [
       "tensor([[ 2.3238e+00,  2.3118e+00,  1.0094e+00,  6.2448e-01,  2.2082e-01],\n",
       "        [ 2.5880e-02,  4.4024e+00,  7.1682e+00,  9.2964e+00,  8.1232e+00],\n",
       "        [ 1.8422e+00,  1.8051e+00,  6.7044e-01,  3.2457e-01, -6.6227e-02],\n",
       "        [-5.8944e-03, -1.2544e-01, -1.9340e-02,  2.3520e-01,  4.8855e-01],\n",
       "        [-8.5437e-02,  2.0807e-01,  4.8758e-01,  9.9195e-01,  1.1917e+00],\n",
       "        [-8.7863e-02,  6.0734e-01,  1.0873e+00,  1.7871e+00,  1.8664e+00],\n",
       "        [-9.4975e-02,  1.2734e+00,  2.1597e+00,  3.1287e+00,  2.9828e+00],\n",
       "        [-1.7226e-02,  3.4439e+00,  5.6567e+00,  7.4026e+00,  6.5591e+00]],\n",
       "       grad_fn=<CopySlices>)"
      ]
     },
     "execution_count": 8,
     "metadata": {},
     "output_type": "execute_result"
    }
   ],
   "source": [
    "preds = net(seqs)\n",
    "preds"
   ]
  },
  {
   "cell_type": "code",
   "execution_count": 9,
   "id": "a26430ba-b4bb-431a-8d97-298749125bd5",
   "metadata": {},
   "outputs": [
    {
     "data": {
      "text/plain": [
       "tensor(1372.2815, grad_fn=<AddBackward0>)"
      ]
     },
     "execution_count": 9,
     "metadata": {},
     "output_type": "execute_result"
    }
   ],
   "source": [
    "loss = sum(loss_fn(preds[:, i], seqs[:, i] + 1) for i in range(seqs.shape[1]))\n",
    "loss"
   ]
  },
  {
   "cell_type": "code",
   "execution_count": 10,
   "id": "d6971eaf-81d7-4799-9542-81d9e77911a9",
   "metadata": {},
   "outputs": [],
   "source": [
    "optimizer.zero_grad()\n",
    "loss.backward()\n",
    "optimizer.step()"
   ]
  },
  {
   "cell_type": "code",
   "execution_count": 11,
   "id": "b7d8cea7-9615-488b-bb88-ec8bab2e8cb3",
   "metadata": {},
   "outputs": [],
   "source": [
    "from tqdm.auto import tqdm"
   ]
  },
  {
   "cell_type": "code",
   "execution_count": 12,
   "id": "e9a8abe7-d380-45a7-8732-e529cf66495d",
   "metadata": {},
   "outputs": [
    {
     "data": {
      "application/vnd.jupyter.widget-view+json": {
       "model_id": "b9aa8edeefa3437ca568d1720f8450a0",
       "version_major": 2,
       "version_minor": 0
      },
      "text/plain": [
       "Epochs:   0%|          | 0/10000 [00:00<?, ?it/s]"
      ]
     },
     "metadata": {},
     "output_type": "display_data"
    }
   ],
   "source": [
    "for _ in tqdm(range(10_000), desc=\"Epochs\"):\n",
    "    preds = net(seqs)\n",
    "    loss = sum(loss_fn(preds[:, i], seqs[:, i] + 1) for i in range(seqs.shape[1]))\n",
    "    optimizer.zero_grad()\n",
    "    loss.backward()\n",
    "    optimizer.step()"
   ]
  },
  {
   "cell_type": "code",
   "execution_count": 13,
   "id": "71a061e9-4cc6-453c-8c44-add91da92c82",
   "metadata": {},
   "outputs": [
    {
     "data": {
      "text/plain": [
       "tensor([[-9.9953, -9.0004, -7.9957, -7.0001, -6.0013],\n",
       "        [36.0005, 36.9999, 37.9995, 39.0005, 40.0000],\n",
       "        [-8.0058, -6.9996, -6.0052, -4.9998, -3.9984],\n",
       "        [ 2.0004,  3.0002,  3.9993,  4.9995,  6.0010],\n",
       "        [ 4.9994,  5.9973,  7.0014,  7.9998,  8.9990],\n",
       "        [ 8.0021,  9.0025,  9.9992, 11.0014, 11.9999],\n",
       "        [12.9990, 14.0004, 15.0000, 15.9992, 17.0006],\n",
       "        [28.9993, 29.9998, 31.0007, 31.9994, 32.9998]], grad_fn=<CopySlices>)"
      ]
     },
     "execution_count": 13,
     "metadata": {},
     "output_type": "execute_result"
    }
   ],
   "source": [
    "net(seqs)"
   ]
  },
  {
   "cell_type": "code",
   "execution_count": 14,
   "id": "83e35493-2fd3-45a9-bc0b-b5dd21a12219",
   "metadata": {},
   "outputs": [
    {
     "data": {
      "text/plain": [
       "tensor([[18.9981, 19.9996, 21.0043, 21.9967, 23.0007]], grad_fn=<CopySlices>)"
      ]
     },
     "execution_count": 14,
     "metadata": {},
     "output_type": "execute_result"
    }
   ],
   "source": [
    "new_seq = torch.tensor(\n",
    "    [18, 19, 20, 21, 22],\n",
    "    dtype=torch.float32,\n",
    ")\n",
    "new_seq = einops.rearrange(new_seq, \"l -> 1 l\")\n",
    "net(new_seq)"
   ]
  }
 ],
 "metadata": {
  "kernelspec": {
   "display_name": "Python 3 (ipykernel)",
   "language": "python",
   "name": "python3"
  },
  "language_info": {
   "codemirror_mode": {
    "name": "ipython",
    "version": 3
   },
   "file_extension": ".py",
   "mimetype": "text/x-python",
   "name": "python",
   "nbconvert_exporter": "python",
   "pygments_lexer": "ipython3",
   "version": "3.12.9"
  }
 },
 "nbformat": 4,
 "nbformat_minor": 5
}
