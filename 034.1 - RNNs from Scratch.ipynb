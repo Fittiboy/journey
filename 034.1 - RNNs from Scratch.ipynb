{
 "cells": [
  {
   "cell_type": "markdown",
   "id": "c0af058d-11ac-4eaf-966c-3d6525a1f327",
   "metadata": {},
   "source": [
    "# Day 34 - RNNs from Scratch"
   ]
  },
  {
   "cell_type": "code",
   "execution_count": 1,
   "id": "3194e719-0aea-4540-8297-58b427b36b43",
   "metadata": {},
   "outputs": [],
   "source": [
    "import torch\n",
    "import einops\n",
    "from torch import nn, optim"
   ]
  },
  {
   "cell_type": "code",
   "execution_count": 2,
   "id": "95648a5e-6445-42d5-85a2-3e558559bc1c",
   "metadata": {
    "jupyter": {
     "source_hidden": true
    }
   },
   "outputs": [],
   "source": [
    "class Recurrent(nn.Module):\n",
    "    def __init__(self, n_hiddens=5):\n",
    "        super().__init__()\n",
    "        self.step = nn.Linear(n_hiddens, n_hiddens)\n",
    "        self.input = nn.Sequential(\n",
    "            nn.Linear(1, n_hiddens),\n",
    "            nn.ReLU(),\n",
    "            nn.Linear(n_hiddens, n_hiddens),\n",
    "            nn.ReLU(),\n",
    "            nn.Linear(n_hiddens, n_hiddens),\n",
    "        )\n",
    "        self.out = nn.Sequential(\n",
    "            nn.Linear(n_hiddens, n_hiddens),\n",
    "            nn.ReLU(),\n",
    "            nn.Linear(n_hiddens, n_hiddens),\n",
    "            nn.ReLU(),\n",
    "            nn.Linear(n_hiddens, 1),\n",
    "        )\n",
    "\n",
    "    def forward(self, x):\n",
    "        batch_size, length = x.shape\n",
    "        out = torch.zeros([batch_size, length])\n",
    "        self.state = torch.zeros([batch_size, n_hiddens])\n",
    "        \n",
    "        x = einops.rearrange(x, \"b l -> l b 1\")\n",
    "        \n",
    "        for i, x_i in enumerate(x):\n",
    "            self.state = torch.relu(self.step(self.state) + self.input(x_i))\n",
    "            step_out = self.out(self.state)\n",
    "            out[:, i] = einops.rearrange(step_out, \"b 1 -> b\")\n",
    "\n",
    "        return out"
   ]
  },
  {
   "cell_type": "code",
   "execution_count": 3,
   "id": "38b78c16-0bcd-4219-9593-0bab3513d028",
   "metadata": {},
   "outputs": [],
   "source": [
    "class RecurrentSimplified(nn.Module):\n",
    "    def __init__(self, n_hiddens=5):\n",
    "        super().__init__()\n",
    "        self.input = nn.Sequential(\n",
    "            # Input and hidden state will be concatenated\n",
    "            # and multiplied by a shared weight matrix\n",
    "            nn.Linear(1 + n_hiddens, n_hiddens),\n",
    "            nn.ReLU(),\n",
    "            nn.Linear(n_hiddens, n_hiddens),\n",
    "            nn.ReLU(),\n",
    "            nn.Linear(n_hiddens, n_hiddens),\n",
    "        )\n",
    "        self.out = nn.Sequential(\n",
    "            nn.Linear(n_hiddens, n_hiddens),\n",
    "            nn.ReLU(),\n",
    "            nn.Linear(n_hiddens, n_hiddens),\n",
    "            nn.ReLU(),\n",
    "            nn.Linear(n_hiddens, 1),\n",
    "        )\n",
    "\n",
    "    def forward(self, x):\n",
    "        batch_size, length = x.shape\n",
    "        out = torch.zeros([batch_size, length])\n",
    "        self.state = torch.zeros([batch_size, n_hiddens])\n",
    "        \n",
    "        x = einops.rearrange(x, \"b l -> l b 1\")\n",
    "        \n",
    "        for i, x_i in enumerate(x):\n",
    "            self.state = torch.relu(self.input(einops.pack([self.state, x_i], \"b *\")[0]))\n",
    "            step_out = self.out(self.state)\n",
    "            out[:, i] = einops.rearrange(step_out, \"b 1 -> b\")\n",
    "\n",
    "        return out"
   ]
  },
  {
   "cell_type": "code",
   "execution_count": 4,
   "id": "2b857e59-a675-4e56-8298-a3bba0532f29",
   "metadata": {},
   "outputs": [],
   "source": [
    "seqs = torch.tensor(\n",
    "    [\n",
    "        [-11, -10, -9, -8, -7],\n",
    "        [35, 36, 37, 38, 39],\n",
    "        [-9, -8, -7, -6, -5],\n",
    "        [1, 2, 3, 4, 5],\n",
    "        [4, 5, 6, 7, 8],\n",
    "        [7, 8, 9, 10, 11],\n",
    "        [12, 13, 14, 15, 16],\n",
    "        [28, 29, 30, 31, 32],\n",
    "    ],\n",
    "    dtype=torch.float32,\n",
    ")"
   ]
  },
  {
   "cell_type": "code",
   "execution_count": 5,
   "id": "02b7f021-392e-41cb-893b-703d562815f0",
   "metadata": {},
   "outputs": [],
   "source": [
    "n_hiddens = 128"
   ]
  },
  {
   "cell_type": "code",
   "execution_count": 6,
   "id": "23345a88-fbc1-455d-ade1-e92e2721a995",
   "metadata": {},
   "outputs": [
    {
     "data": {
      "text/plain": [
       "RecurrentSimplified(\n",
       "  (input): Sequential(\n",
       "    (0): Linear(in_features=129, out_features=128, bias=True)\n",
       "    (1): ReLU()\n",
       "    (2): Linear(in_features=128, out_features=128, bias=True)\n",
       "    (3): ReLU()\n",
       "    (4): Linear(in_features=128, out_features=128, bias=True)\n",
       "  )\n",
       "  (out): Sequential(\n",
       "    (0): Linear(in_features=128, out_features=128, bias=True)\n",
       "    (1): ReLU()\n",
       "    (2): Linear(in_features=128, out_features=128, bias=True)\n",
       "    (3): ReLU()\n",
       "    (4): Linear(in_features=128, out_features=1, bias=True)\n",
       "  )\n",
       ")"
      ]
     },
     "execution_count": 6,
     "metadata": {},
     "output_type": "execute_result"
    }
   ],
   "source": [
    "net = RecurrentSimplified(n_hiddens=n_hiddens)\n",
    "net"
   ]
  },
  {
   "cell_type": "code",
   "execution_count": 7,
   "id": "bff75efa-6cfe-40e1-acdc-8de9c0bf132f",
   "metadata": {},
   "outputs": [],
   "source": [
    "optimizer = optim.Adam(net.parameters(), lr=2e-2)"
   ]
  },
  {
   "cell_type": "code",
   "execution_count": 8,
   "id": "045b7c20-4bd4-4789-b00b-7ede0146bda5",
   "metadata": {},
   "outputs": [],
   "source": [
    "loss_fn = nn.MSELoss()"
   ]
  },
  {
   "cell_type": "code",
   "execution_count": 9,
   "id": "4de9a0d6-b43f-422b-8fb9-fb908c70f912",
   "metadata": {},
   "outputs": [
    {
     "data": {
      "text/plain": [
       "tensor([[-0.0657, -0.0647, -0.0642, -0.0640, -0.0639],\n",
       "        [-0.0690, -0.0692, -0.0697, -0.0700, -0.0705],\n",
       "        [-0.0646, -0.0639, -0.0639, -0.0632, -0.0625],\n",
       "        [-0.0608, -0.0618, -0.0628, -0.0638, -0.0648],\n",
       "        [-0.0638, -0.0648, -0.0659, -0.0669, -0.0675],\n",
       "        [-0.0664, -0.0675, -0.0681, -0.0684, -0.0688],\n",
       "        [-0.0689, -0.0695, -0.0697, -0.0699, -0.0700],\n",
       "        [-0.0682, -0.0680, -0.0680, -0.0682, -0.0684]], grad_fn=<CopySlices>)"
      ]
     },
     "execution_count": 9,
     "metadata": {},
     "output_type": "execute_result"
    }
   ],
   "source": [
    "preds = net(seqs)\n",
    "preds"
   ]
  },
  {
   "cell_type": "code",
   "execution_count": 10,
   "id": "a26430ba-b4bb-431a-8d97-298749125bd5",
   "metadata": {},
   "outputs": [
    {
     "data": {
      "text/plain": [
       "tensor(1827.2748, grad_fn=<AddBackward0>)"
      ]
     },
     "execution_count": 10,
     "metadata": {},
     "output_type": "execute_result"
    }
   ],
   "source": [
    "loss = sum(loss_fn(preds[:, i], seqs[:, i] + 1) for i in range(seqs.shape[1]))\n",
    "loss"
   ]
  },
  {
   "cell_type": "code",
   "execution_count": 11,
   "id": "d6971eaf-81d7-4799-9542-81d9e77911a9",
   "metadata": {},
   "outputs": [],
   "source": [
    "optimizer.zero_grad()\n",
    "loss.backward()\n",
    "optimizer.step()"
   ]
  },
  {
   "cell_type": "code",
   "execution_count": 12,
   "id": "b7d8cea7-9615-488b-bb88-ec8bab2e8cb3",
   "metadata": {},
   "outputs": [],
   "source": [
    "from tqdm.auto import tqdm"
   ]
  },
  {
   "cell_type": "code",
   "execution_count": 13,
   "id": "e9a8abe7-d380-45a7-8732-e529cf66495d",
   "metadata": {},
   "outputs": [
    {
     "data": {
      "application/vnd.jupyter.widget-view+json": {
       "model_id": "0db5bedddf6f4d5b9ddf6bc2fbf8781b",
       "version_major": 2,
       "version_minor": 0
      },
      "text/plain": [
       "Epochs:   0%|          | 0/512 [00:00<?, ?it/s]"
      ]
     },
     "metadata": {},
     "output_type": "display_data"
    }
   ],
   "source": [
    "for _ in tqdm(range(512), desc=\"Epochs\"):\n",
    "    preds = net(seqs)\n",
    "    loss = sum(loss_fn(preds[:, i], seqs[:, i] + 1) for i in range(seqs.shape[1]))\n",
    "    optimizer.zero_grad()\n",
    "    loss.backward()\n",
    "    optimizer.step()"
   ]
  },
  {
   "cell_type": "code",
   "execution_count": 14,
   "id": "71a061e9-4cc6-453c-8c44-add91da92c82",
   "metadata": {},
   "outputs": [
    {
     "data": {
      "text/plain": [
       "tensor([[-9.9728, -9.0151, -7.8596, -6.9163, -5.9898],\n",
       "        [35.9987, 37.0015, 37.9708, 39.0153, 40.0073],\n",
       "        [-8.0230, -7.1070, -6.0036, -5.0618, -4.1351],\n",
       "        [ 2.0284,  3.0049,  3.9906,  5.0017,  6.0045],\n",
       "        [ 5.0033,  5.9802,  7.0068,  8.0066,  9.0069],\n",
       "        [ 8.0049,  8.9851, 10.0031, 11.0075, 12.0069],\n",
       "        [13.0005, 13.9891, 14.9971, 16.0090, 17.0070],\n",
       "        [28.9986, 29.9979, 30.9787, 32.0134, 33.0072]], grad_fn=<CopySlices>)"
      ]
     },
     "execution_count": 14,
     "metadata": {},
     "output_type": "execute_result"
    }
   ],
   "source": [
    "net(seqs)"
   ]
  },
  {
   "cell_type": "code",
   "execution_count": 15,
   "id": "83e35493-2fd3-45a9-bc0b-b5dd21a12219",
   "metadata": {},
   "outputs": [
    {
     "data": {
      "text/plain": [
       "tensor([[51., 52., 53., 54., 55.]], grad_fn=<RoundBackward0>)"
      ]
     },
     "execution_count": 15,
     "metadata": {},
     "output_type": "execute_result"
    }
   ],
   "source": [
    "new_seq = torch.tensor(\n",
    "    [50, 51, 52, 53, 54],\n",
    "    dtype=torch.float32,\n",
    ")\n",
    "new_seq = einops.rearrange(new_seq, \"l -> 1 l\")\n",
    "torch.round(net(new_seq))"
   ]
  }
 ],
 "metadata": {
  "kernelspec": {
   "display_name": "Python 3 (ipykernel)",
   "language": "python",
   "name": "python3"
  },
  "language_info": {
   "codemirror_mode": {
    "name": "ipython",
    "version": 3
   },
   "file_extension": ".py",
   "mimetype": "text/x-python",
   "name": "python",
   "nbconvert_exporter": "python",
   "pygments_lexer": "ipython3",
   "version": "3.12.9"
  }
 },
 "nbformat": 4,
 "nbformat_minor": 5
}
