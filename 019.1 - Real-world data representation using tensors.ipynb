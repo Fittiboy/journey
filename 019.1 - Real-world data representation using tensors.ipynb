{
 "cells": [
  {
   "cell_type": "markdown",
   "id": "82bf9d2d-36d4-476c-ada8-d6c911817cde",
   "metadata": {},
   "source": [
    "# Day 19 - Real-world data representation using tensors"
   ]
  },
  {
   "cell_type": "markdown",
   "id": "3d45a7f1-9af7-4da2-b820-57dc8e84d465",
   "metadata": {},
   "source": [
    "## Working with images\n",
    "\n",
    "* Images are either represented with a single scalar per grid point (pixel), in which case they are grayscale, or with multiple scalars per grid point, which encode colors, or other features\n",
    "* Usually, these are 8-bit integers, but medical and scientific equipment may work with higher precision"
   ]
  },
  {
   "cell_type": "markdown",
   "id": "dbae61f7-113e-4e24-99e0-c689d9f66b3d",
   "metadata": {},
   "source": [
    "### Adding color channels\n",
    "\n",
    "* The most common way to encode color is in RGB channels\n",
    "* Each channel itself can be seen as an intensity map of that color in the image"
   ]
  },
  {
   "cell_type": "markdown",
   "id": "09743b70-f394-4aa1-9fb7-3bd80a5d85cb",
   "metadata": {},
   "source": [
    "### Loading an image file\n",
    "\n",
    "* We can load images easily with `imageio`"
   ]
  },
  {
   "cell_type": "code",
   "execution_count": 1,
   "id": "f702cf52-0b1c-4b69-983b-e737094117e5",
   "metadata": {},
   "outputs": [
    {
     "data": {
      "text/plain": [
       "(1280, 1920, 3)"
      ]
     },
     "execution_count": 1,
     "metadata": {},
     "output_type": "execute_result"
    }
   ],
   "source": [
    "import imageio.v2 as imageio\n",
    "\n",
    "img_arr = imageio.imread(\"./DLPT/data/golden-retriever-dog.jpg\")\n",
    "img_arr.shape"
   ]
  },
  {
   "cell_type": "markdown",
   "id": "4478e134-5c54-4a7c-9faf-2a22e25dc94d",
   "metadata": {},
   "source": [
    "* We can see that the dimensions here are height, width, and RGB channels, respectively\n",
    "* PyTorch modules dealing with images expect $C\\times H\\times W$ instead"
   ]
  },
  {
   "cell_type": "markdown",
   "id": "650ee3e2-62f4-4833-b22a-aa64fdf3388f",
   "metadata": {},
   "source": [
    "### Changing the layout\n",
    "\n",
    "* Using the `permute` method, we can change the layout of the tensor to the desired $C \\times H \\times W$"
   ]
  },
  {
   "cell_type": "code",
   "execution_count": 2,
   "id": "46305a1c-6b7d-4bc6-94ba-641f97e8e3bb",
   "metadata": {},
   "outputs": [],
   "source": [
    "import torch\n",
    "\n",
    "img = torch.from_numpy(img_arr)\n",
    "out = img.permute(2, 0, 1)"
   ]
  },
  {
   "cell_type": "markdown",
   "id": "bff58df5-4fb2-4e13-bb6e-9a4d51a9f36a",
   "metadata": {},
   "source": [
    "* This does not make acopy of `img`, but simply creates a new view over the data\n",
    "* We store images as batches, so the tensor will be of shape $N \\times C \\times H \\times W$\n",
    "* It is slightly more efficient than using `stack` to preallocate the batch tensor and fill it out with images"
   ]
  },
  {
   "cell_type": "code",
   "execution_count": 3,
   "id": "d9b24ffd-2c8e-4946-a570-65e343a2f00a",
   "metadata": {},
   "outputs": [],
   "source": [
    "batch_size = 3\n",
    "batch = torch.zeros(batch_size, 3, 256, 256, dtype=torch.uint8)"
   ]
  },
  {
   "cell_type": "markdown",
   "id": "ec7160b9-f71f-4576-aaa1-f2a6c688402a",
   "metadata": {},
   "source": [
    "* We now load all images from a directory into a tensor"
   ]
  },
  {
   "cell_type": "code",
   "execution_count": 4,
   "id": "73ab2250-471b-4b17-85d7-150691edfdab",
   "metadata": {},
   "outputs": [],
   "source": [
    "import os\n",
    "\n",
    "data_dir = \"./DLPT/data/image-cats/\"\n",
    "filenames = [name for name in os.listdir(data_dir)\n",
    "            if os.path.splitext(name)[-1] == \".png\"]\n",
    "for i, filename in enumerate(filenames):\n",
    "    img_arr = imageio.imread(os.path.join(data_dir, filename))\n",
    "    img_t = torch.from_numpy(img_arr)\n",
    "    img_t = img_t.permute(2, 0, 1)\n",
    "    img_t = img_t[:3] # Drop the alpha channel, as these are PNGs\n",
    "    batch[i] = img_t"
   ]
  },
  {
   "cell_type": "markdown",
   "id": "f1725267-250c-456b-9ee0-c21ae778653e",
   "metadata": {},
   "source": [
    "### Normalizing the data\n",
    "\n",
    "* Neural networks work best with floating point data in the ranges from 0 to 1, or from -1 to 1\n",
    "* One naive way to scale the input data is to divide it by the maximum value, in this case 255"
   ]
  },
  {
   "cell_type": "code",
   "execution_count": 5,
   "id": "b0fbd0a1-53ca-4c32-9990-fa877dc1e77f",
   "metadata": {},
   "outputs": [],
   "source": [
    "batch = batch.float()\n",
    "batch /= 255.0"
   ]
  },
  {
   "cell_type": "markdown",
   "id": "2aec0fe7-d9ae-4d0d-9ce7-4ac75f776f36",
   "metadata": {},
   "source": [
    "* A somewhat more principled way is to compute the mean and standard deviation, and normalize with these"
   ]
  },
  {
   "cell_type": "code",
   "execution_count": 6,
   "id": "e7ddcdf5-f049-43b5-b3e0-b48447ac6848",
   "metadata": {},
   "outputs": [],
   "source": [
    "n_channels = batch.shape[1]\n",
    "for c in range(n_channels):\n",
    "    mean = torch.mean(batch[:, c])\n",
    "    std = torch.std(batch[:, c])\n",
    "    batch[:, c] = (batch[:, c] - mean) / std"
   ]
  },
  {
   "cell_type": "markdown",
   "id": "16af5ffc-0045-4ade-965d-c029338e669a",
   "metadata": {},
   "source": [
    "* If possible, it is good practice to calculate `mean` and `std` on the entire dataset, instead of a single batch\n",
    "* There are many other ways to transform images, which we may be required to perform in order for our images to conform to a specific network's input requirements"
   ]
  },
  {
   "cell_type": "markdown",
   "id": "1bb5a782-e805-47c8-99c1-6fc93a3fe3b7",
   "metadata": {},
   "source": [
    "## 3D images: Volumetric data\n",
    "\n",
    "* In areas like medical imaging involving CT, there is an extra dimension representing 3D physical space\n",
    "* In our tensor, we will represent this $depth$ after the channels dimension: $N\\times C\\times D\\times W\\times H$\n",
    "* In CT specifically, there is only one channel, representing density"
   ]
  },
  {
   "cell_type": "markdown",
   "id": "ced32a3d-9aca-4ba7-a879-09986a6bfbc9",
   "metadata": {},
   "source": [
    "### Loading a specialized format\n",
    "\n",
    "* To read volumetric data, the `imageio` module provides `volread`"
   ]
  },
  {
   "cell_type": "code",
   "execution_count": 7,
   "id": "fd8ddeb3-3dc1-4de6-95f8-aadc2959e564",
   "metadata": {},
   "outputs": [
    {
     "name": "stdout",
     "output_type": "stream",
     "text": [
      "Reading DICOM (examining files): 99/99 files (100.0%)\n",
      "  Found 1 correct series.\n",
      "Reading DICOM (loading data): 99/99  (100.0%)\n"
     ]
    },
    {
     "data": {
      "text/plain": [
       "(99, 512, 512)"
      ]
     },
     "execution_count": 7,
     "metadata": {},
     "output_type": "execute_result"
    }
   ],
   "source": [
    "import imageio\n",
    "\n",
    "dir_path = \"./DLPT/data/volumetric-dicom/2-LUNG 3.0  B70f-04083\" # I should grab my own MRI scan!\n",
    "vol_arr = imageio.volread(dir_path, \"DICOM\")\n",
    "vol_arr.shape"
   ]
  },
  {
   "cell_type": "markdown",
   "id": "36ebb14c-b2ee-4577-b368-2b870b4e173d",
   "metadata": {},
   "source": [
    "* We can see that the depth is 99, but we are missing the channel dimension that PyTorch expects"
   ]
  },
  {
   "cell_type": "code",
   "execution_count": 8,
   "id": "c14a4cfc-8010-4ce6-89db-4a814f3bfecb",
   "metadata": {},
   "outputs": [
    {
     "data": {
      "text/plain": [
       "torch.Size([1, 99, 512, 512])"
      ]
     },
     "execution_count": 8,
     "metadata": {},
     "output_type": "execute_result"
    }
   ],
   "source": [
    "vol = torch.from_numpy(vol_arr).float()\n",
    "vol = vol.unsqueeze(0)\n",
    "vol.shape"
   ]
  }
 ],
 "metadata": {
  "kernelspec": {
   "display_name": "Python 3 (ipykernel)",
   "language": "python",
   "name": "python3"
  },
  "language_info": {
   "codemirror_mode": {
    "name": "ipython",
    "version": 3
   },
   "file_extension": ".py",
   "mimetype": "text/x-python",
   "name": "python",
   "nbconvert_exporter": "python",
   "pygments_lexer": "ipython3",
   "version": "3.12.8"
  }
 },
 "nbformat": 4,
 "nbformat_minor": 5
}
