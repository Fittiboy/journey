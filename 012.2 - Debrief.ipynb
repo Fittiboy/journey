{
 "cells": [
  {
   "cell_type": "markdown",
   "id": "06c8e7f6-8122-4712-9a0f-16d9ad35709a",
   "metadata": {},
   "source": [
    "# Day 12 - Debrief"
   ]
  },
  {
   "cell_type": "markdown",
   "id": "2043fd1a-1e6c-47bb-a1d9-d16cfcf86777",
   "metadata": {},
   "source": [
    "## What I did today\n",
    "\n",
    "Today, I spent a lot of time cleaning up my code, by creating general implementations for agents, as well as for parameter studies. I replaced my old playground with a new, cleaner one, using this new code.\n",
    "\n",
    "Afterwards, I read the $n$-step off-policy learning section in Sutton & Barto."
   ]
  },
  {
   "cell_type": "markdown",
   "id": "3f5053f8-0e46-4fe2-b070-20f278ab29ac",
   "metadata": {},
   "source": [
    "## What I learned today\n",
    "\n",
    "I learned a lot about how different parameter settings affect learning on the racetrack environment. I also learned some practical skills when it comes to implementing more general agents that can deal deal with any generic environment. Finally, I learned how importance sampling can be applied to $n$-step methods, by truncating the importance sampling ratio at different points, depending on the algorithm used."
   ]
  },
  {
   "cell_type": "markdown",
   "id": "41947033-7539-4db0-ab23-404fd1e0e72f",
   "metadata": {},
   "source": [
    "## Notes and questions for the next day\n",
    "\n",
    "It was very nice to get so much code cleanup done, while still making some progress with the book. Tomorrow, I want to implement the generic environment interface, but then spend more time on the book right after that."
   ]
  }
 ],
 "metadata": {
  "kernelspec": {
   "display_name": "Python 3 (ipykernel)",
   "language": "python",
   "name": "python3"
  },
  "language_info": {
   "codemirror_mode": {
    "name": "ipython",
    "version": 3
   },
   "file_extension": ".py",
   "mimetype": "text/x-python",
   "name": "python",
   "nbconvert_exporter": "python",
   "pygments_lexer": "ipython3",
   "version": "3.12.8"
  }
 },
 "nbformat": 4,
 "nbformat_minor": 5
}
