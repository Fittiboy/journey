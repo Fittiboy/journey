{
 "cells": [
  {
   "cell_type": "markdown",
   "id": "77a1a6db-2158-40f3-b3a7-cde72aa52cca",
   "metadata": {},
   "source": [
    "# Day 27 - Introducing generative models"
   ]
  },
  {
   "cell_type": "markdown",
   "id": "e1d3bf57-1506-4597-bdb0-0d3c4fb7a20a",
   "metadata": {},
   "source": [
    "## Transformers"
   ]
  },
  {
   "cell_type": "markdown",
   "id": "fd40f227-3cfb-4e45-8372-05676d9ef3e0",
   "metadata": {},
   "source": [
    "### The Decoder"
   ]
  },
  {
   "cell_type": "markdown",
   "id": "ec06abd5-9b54-4017-ba79-49fc317ca9e2",
   "metadata": {},
   "source": [
    "* The decoder-only GPT is similar to our previous attention model, with three additions:\n",
    "    1. Residual connections\n",
    "    2. Multiheaded attention\n",
    "    3. Layer normalization"
   ]
  },
  {
   "cell_type": "code",
   "execution_count": 1,
   "id": "fc6b3d77-4497-4943-aa94-414d146fdb3e",
   "metadata": {},
   "outputs": [],
   "source": [
    "import torch\n",
    "\n",
    "device = \"cuda\" if torch.cuda.is_available() else \"cpu\""
   ]
  },
  {
   "cell_type": "code",
   "execution_count": 2,
   "id": "1bddc383-ceb6-48f2-bfb1-821b443dcf89",
   "metadata": {},
   "outputs": [],
   "source": [
    "names = []\n",
    "with open('./DLPT/data/text/names/yob2023.txt', 'r') as file:\n",
    "    for line in file:\n",
    "        name, _, _= line.lower().strip().split(',')\n",
    "        names.append(\"$\" + name + \"$\")"
   ]
  },
  {
   "cell_type": "code",
   "execution_count": 3,
   "id": "add93878-ed85-469f-b134-f8780638d434",
   "metadata": {},
   "outputs": [],
   "source": [
    "vocab = \"$abcdefghijklmnopqrstuvwxyz\"\n",
    "vocab_size = len(vocab)\n",
    "\n",
    "ch_to_i = {ch: i for i, ch in enumerate(vocab)}\n",
    "i_to_ch = {i: ch for i, ch in enumerate(vocab)}"
   ]
  },
  {
   "cell_type": "code",
   "execution_count": 4,
   "id": "d5a4d95d-8f6c-4bc2-b2b6-ab0a27e31d0f",
   "metadata": {},
   "outputs": [],
   "source": [
    "encode = lambda word: torch.tensor([ch_to_i[c] for c in word])\n",
    "decode = lambda tensor_i: ''.join(i_to_ch[i.item()] for i in tensor_i)\n",
    "\n",
    "name_indices = [encode(name) for name in names]\n",
    "target_indices = [name_index[1:] for name_index in name_indices]"
   ]
  },
  {
   "cell_type": "code",
   "execution_count": 5,
   "id": "1dbb7405-274b-43bc-b7f9-72e4d2052efb",
   "metadata": {},
   "outputs": [],
   "source": [
    "from torch.nn.utils.rnn import pad_sequence\n",
    "\n",
    "X = pad_sequence(name_indices, batch_first=True, padding_value=0)\n",
    "max_name_length = max(len(name) for name in names)\n",
    "target_indices.append(torch.empty((max_name_length), dtype=torch.long))\n",
    "Y = pad_sequence(target_indices, batch_first=True, padding_value=-1)[:-1]"
   ]
  },
  {
   "cell_type": "code",
   "execution_count": 6,
   "id": "6acb1d6a-3bc8-41c8-b3d9-91e2b6220063",
   "metadata": {},
   "outputs": [],
   "source": [
    "def get_batch(batch_size=64):\n",
    "    random_idx = torch.randint(0, X.size(0), (batch_size,))\n",
    "    inputs = X[random_idx]\n",
    "    labels = Y[random_idx]\n",
    "    return inputs, labels"
   ]
  },
  {
   "cell_type": "code",
   "execution_count": 7,
   "id": "654ae67a-68e2-4415-b1c4-cc2dff187d1c",
   "metadata": {},
   "outputs": [],
   "source": [
    "from tqdm.auto import tqdm\n",
    "\n",
    "\n",
    "def train(model, optimizer, num_steps=10_000, loss_report_interval=1_000):\n",
    "    losses = []\n",
    "    alpha = 2 / (num_steps + 1)\n",
    "    \n",
    "    for i in tqdm(range(1, num_steps + 1), desc=\"Epochs\"):\n",
    "        device = next(model.parameters()).device\n",
    "        \n",
    "        inputs, labels = get_batch()\n",
    "        inputs = inputs.to(device=device, non_blocking=True)\n",
    "        labels = labels.to(device=device, non_blocking=True)\n",
    "        \n",
    "        optimizer.zero_grad()\n",
    "        logits = model(inputs)\n",
    "        loss = F.cross_entropy(logits.view(-1, logits.shape[-1]),\n",
    "                               labels.view(-1), ignore_index=-1)\n",
    "        loss.backward()\n",
    "        optimizer.step()\n",
    "\n",
    "        if i == 1:\n",
    "            losses.append(loss.item())\n",
    "        else:\n",
    "            losses.append(losses[i-2] * (1 - alpha) + loss.item() * alpha)\n",
    "        \n",
    "        if i == 1 or i == num_steps or i % loss_report_interval == 0:\n",
    "            print(f'Average loss at step {i}: {losses[i-1]:.4f}')\n",
    "\n",
    "    return losses"
   ]
  },
  {
   "cell_type": "code",
   "execution_count": 8,
   "id": "15d574ba-578b-46f5-8705-b829108f9bc2",
   "metadata": {},
   "outputs": [],
   "source": [
    "from torch import nn\n",
    "import torch.nn.functional as F\n",
    "\n",
    "\n",
    "class TransformerBlock(nn.Module):\n",
    "    def __init__(self, n_embd, num_heads=4, n_hidden=64):\n",
    "        super().__init__()\n",
    "        assert n_embd % num_heads == 0, \"Embedding dimension must be divisible by number of heads\"\n",
    "\n",
    "        self.num_heads = num_heads\n",
    "        self.head_dim = n_embd // num_heads\n",
    "\n",
    "        self.query_proj = nn.Linear(n_embd, n_embd)\n",
    "        self.key_proj = nn.Linear(n_embd, n_embd)\n",
    "        self.value_proj = nn.Linear(n_embd, n_embd)\n",
    "\n",
    "        self.mlp = nn.Sequential(\n",
    "            nn.Linear(n_embd, n_hidden),\n",
    "            nn.ReLU(),\n",
    "            nn.Linear(n_hidden, n_embd),\n",
    "        )\n",
    "\n",
    "        self.norm_1 = nn.LayerNorm(n_embd)\n",
    "        self.norm_2 = nn.LayerNorm(n_embd)\n",
    "\n",
    "    def forward(self, x):\n",
    "        batch_size, sequence_length, _ = x.shape\n",
    "\n",
    "        q = self.query_proj(x)\n",
    "        k = self.key_proj(x)\n",
    "        v = self.value_proj(x)\n",
    "\n",
    "        q = q.view(batch_size, sequence_length, self.num_heads, self.head_dim).transpose(1, 2)\n",
    "        k = k.view(batch_size, sequence_length, self.num_heads, self.head_dim).transpose(1, 2)\n",
    "        v = v.view(batch_size, sequence_length, self.num_heads, self.head_dim).transpose(1, 2)\n",
    "\n",
    "        attn_weights = F.scaled_dot_product_attention(q, k, v, is_causal=True)\n",
    "        attn_weights = attn_weights.transpose(1, 2).contiguous().view(batch_size, sequence_length, -1)\n",
    "\n",
    "        out = self.norm_1(x + attn_weights)\n",
    "        return self.norm_2(out + self.mlp(out))"
   ]
  },
  {
   "cell_type": "code",
   "execution_count": 9,
   "id": "ba78221a-d0a6-4c43-9986-0ef11f49a2d6",
   "metadata": {},
   "outputs": [],
   "source": [
    "class Transformer(nn.Module):\n",
    "    def __init__(self, n_embd, vocab_size, block_size, num_blocks=6, num_heads=4, n_hidden=64):\n",
    "        super().__init__()\n",
    "        self.char_embedding = nn.Embedding(vocab_size, n_embd)\n",
    "        self.positional_embedding = nn.Embedding(block_size, n_embd)\n",
    "\n",
    "        self.transformer_blocks = nn.Sequential(\n",
    "            *[TransformerBlock(n_embd, num_heads, n_hidden) for _ in range(num_blocks)]\n",
    "        )\n",
    "\n",
    "        self.output_proj = nn.Linear(n_embd, vocab_size)\n",
    "\n",
    "    def forward(self, x):\n",
    "        device = self.output_proj.weight.device\n",
    "        \n",
    "        _, seq_len = x.shape\n",
    "\n",
    "        char_embd = self.char_embedding(x)\n",
    "        pos_embd = self.positional_embedding(torch.arange(seq_len, device=device))\n",
    "        \n",
    "        out = char_embd + pos_embd\n",
    "        out = self.transformer_blocks(out)\n",
    "        return self.output_proj(out)"
   ]
  },
  {
   "cell_type": "code",
   "execution_count": 10,
   "id": "d3d53ba6-5675-46ef-8f58-0a09aa472bb1",
   "metadata": {},
   "outputs": [],
   "source": [
    "from torch import optim\n",
    "\n",
    "num_heads = 4\n",
    "n_embd = 16 * num_heads\n",
    "num_blocks = 6\n",
    "n_hidden = 64\n",
    "\n",
    "model = Transformer(\n",
    "    n_embd,\n",
    "    vocab_size,\n",
    "    block_size=max_name_length,\n",
    "    num_blocks=num_blocks,\n",
    "    num_heads=num_heads,\n",
    "    n_hidden=n_hidden\n",
    ").to(device=device)\n",
    "\n",
    "model.compile(fullgraph=True)\n",
    "torch.set_float32_matmul_precision('high')"
   ]
  },
  {
   "cell_type": "code",
   "execution_count": 11,
   "id": "61e50d79-d54d-49c2-8058-6a348c548ca8",
   "metadata": {},
   "outputs": [
    {
     "name": "stdout",
     "output_type": "stream",
     "text": [
      "130,907\n"
     ]
    }
   ],
   "source": [
    "print(f\"{sum(p.numel() for p in model.parameters()):,}\")"
   ]
  },
  {
   "cell_type": "code",
   "execution_count": 12,
   "id": "88e08010-09e9-45a7-adf6-69f4c4ac1d89",
   "metadata": {},
   "outputs": [
    {
     "data": {
      "application/vnd.jupyter.widget-view+json": {
       "model_id": "b5f5ca13cb1d4cf08c3aeeb776698562",
       "version_major": 2,
       "version_minor": 0
      },
      "text/plain": [
       "Epochs:   0%|          | 0/100000 [00:00<?, ?it/s]"
      ]
     },
     "metadata": {},
     "output_type": "display_data"
    },
    {
     "name": "stdout",
     "output_type": "stream",
     "text": [
      "Average loss at step 1: 3.5188\n",
      "Average loss at step 10000: 3.2528\n",
      "Average loss at step 20000: 2.9995\n",
      "Average loss at step 30000: 2.7756\n",
      "Average loss at step 40000: 2.5833\n",
      "Average loss at step 50000: 2.4205\n",
      "Average loss at step 60000: 2.2837\n",
      "Average loss at step 70000: 2.1692\n",
      "Average loss at step 80000: 2.0734\n",
      "Average loss at step 90000: 1.9936\n",
      "Average loss at step 100000: 1.9269\n"
     ]
    }
   ],
   "source": [
    "model.train()\n",
    "\n",
    "optimizer = optim.SGD(model.parameters(), lr=1e-1)\n",
    "losses = train(model, optimizer, num_steps=100_000, loss_report_interval=10_000)"
   ]
  },
  {
   "cell_type": "code",
   "execution_count": 13,
   "id": "400d6190-6e60-48ff-aba8-24ddd40d05f8",
   "metadata": {},
   "outputs": [],
   "source": [
    "%matplotlib widget\n",
    "import matplotlib.pyplot as plt\n",
    "import seaborn as sns\n",
    "from utils import plot_training_loss\n",
    "sns.set_theme()"
   ]
  },
  {
   "cell_type": "code",
   "execution_count": 14,
   "id": "523bdf3a-9e58-4d7c-829a-5c00ff8f9e2d",
   "metadata": {},
   "outputs": [
    {
     "data": {
      "application/vnd.jupyter.widget-view+json": {
       "model_id": "0b0875a9b06a4db1b3b0bff312a05ae2",
       "version_major": 2,
       "version_minor": 0
      },
      "image/png": "[encoded data removed]",
      "text/html": [
       "\n",
       "            <div style=\"display: inline-block;\">\n",
       "                <div class=\"jupyter-widgets widget-label\" style=\"text-align: center;\">\n",
       "                    Figure\n",
       "                </div>\n",
       "                <img src='data:image/png;base64,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' width=640.0/>\n",
       "            </div>\n",
       "        "
      ],
      "text/plain": [
       "Canvas(toolbar=Toolbar(toolitems=[('Home', 'Reset original view', 'home', 'home'), ('Back', 'Back to previous …"
      ]
     },
     "metadata": {},
     "output_type": "display_data"
    }
   ],
   "source": [
    "fig, ax = plt.subplots()\n",
    "plot_training_loss(losses, ax)\n",
    "plt.tight_layout()\n",
    "plt.show()"
   ]
  },
  {
   "cell_type": "code",
   "execution_count": 15,
   "id": "1edca813-30e7-4d19-8e4e-f2845e256e14",
   "metadata": {},
   "outputs": [],
   "source": [
    "def generate_samples(model, num_samples=1, max_len=max_name_length):\n",
    "    device = next(model.parameters()).device\n",
    "    \n",
    "    sequences = torch.zeros((num_samples, 1), device=device).int()\n",
    "    \n",
    "    for _ in range(max_len):\n",
    "        logits = model(sequences)\n",
    "        logits = logits[:, -1, :]\n",
    "        probs = F.softmax(logits, dim=-1)\n",
    "        idx_next = torch.multinomial(probs, num_samples=1)\n",
    "        sequences = torch.cat((sequences, idx_next), dim=1)\n",
    "\n",
    "    for sequence in sequences:\n",
    "        indices = torch.where(sequence == 0)[0]\n",
    "        end = indices[1] if len(indices) > 1 else max_len\n",
    "        sequence = sequence[1:end]\n",
    "        \n",
    "        print(decode(sequence))"
   ]
  },
  {
   "cell_type": "code",
   "execution_count": 16,
   "id": "1f568c34-f5a1-43f8-85cd-ac718ed8c436",
   "metadata": {},
   "outputs": [
    {
     "name": "stdout",
     "output_type": "stream",
     "text": [
      "noria\n",
      "pyrrha\n",
      "araiyah\n",
      "an\n",
      "anandi\n",
      "milla\n",
      "schnen\n",
      "zivenna\n",
      "isys\n",
      "birge\n"
     ]
    }
   ],
   "source": [
    "model.eval()\n",
    "generate_samples(model, num_samples=10)"
   ]
  },
  {
   "cell_type": "markdown",
   "id": "d1acde43-ff95-4b11-a519-c2ccdcd94e97",
   "metadata": {},
   "source": [
    "## Tokenization"
   ]
  },
  {
   "cell_type": "markdown",
   "id": "c1d975e7-96bf-436f-a737-02ba36646d2e",
   "metadata": {},
   "source": [
    "* The task of tokenization is complex, but huggingface provides the `tokenizer` library"
   ]
  }
 ],
 "metadata": {
  "kernelspec": {
   "display_name": "Python 3 (ipykernel)",
   "language": "python",
   "name": "python3"
  },
  "language_info": {
   "codemirror_mode": {
    "name": "ipython",
    "version": 3
   },
   "file_extension": ".py",
   "mimetype": "text/x-python",
   "name": "python",
   "nbconvert_exporter": "python",
   "pygments_lexer": "ipython3",
   "version": "3.12.8"
  }
 },
 "nbformat": 4,
 "nbformat_minor": 5
}
