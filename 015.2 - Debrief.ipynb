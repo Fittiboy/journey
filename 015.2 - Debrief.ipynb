{
 "cells": [
  {
   "cell_type": "markdown",
   "id": "f18aa96b-74f6-4459-b30d-6c7c530980e1",
   "metadata": {},
   "source": [
    "# Day 15 - Debrief"
   ]
  },
  {
   "cell_type": "markdown",
   "id": "83dddf30-1f95-4da7-ba76-ca247eb26851",
   "metadata": {},
   "source": [
    "## What I did today\n",
    "\n",
    "Today, I did a lot of rewriting and experimenting with my `agents.py`, which has been very fruitful. I also got started on the very beginning of DLPT's third chapter."
   ]
  },
  {
   "cell_type": "markdown",
   "id": "38215356-c96e-4fe6-9c54-ad0d5fd5e3bd",
   "metadata": {},
   "source": [
    "## What I learned today\n",
    "\n",
    "I learned about keeping my library more readable and extensible, and how to use `dataclasses`, as well as `abc` and `typing`."
   ]
  },
  {
   "cell_type": "markdown",
   "id": "29d7b80e-e0e0-4c57-b05f-d10d7c8f5a4a",
   "metadata": {},
   "source": [
    "## Notes and questions for the next day\n",
    "\n",
    "I want to try to spend less time mindlessly rerunning experiments with slightly different parameters, and instead writing more functions to automate things and visualize them."
   ]
  }
 ],
 "metadata": {
  "kernelspec": {
   "display_name": "Python 3 (ipykernel)",
   "language": "python",
   "name": "python3"
  },
  "language_info": {
   "codemirror_mode": {
    "name": "ipython",
    "version": 3
   },
   "file_extension": ".py",
   "mimetype": "text/x-python",
   "name": "python",
   "nbconvert_exporter": "python",
   "pygments_lexer": "ipython3",
   "version": "3.12.8"
  }
 },
 "nbformat": 4,
 "nbformat_minor": 5
}
