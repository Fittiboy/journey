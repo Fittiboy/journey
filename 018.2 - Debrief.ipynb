{
 "cells": [
  {
   "cell_type": "markdown",
   "id": "923e879a-8d5e-41ce-9469-ac57e3cfc849",
   "metadata": {},
   "source": [
    "# Day 18 - Debrief"
   ]
  },
  {
   "cell_type": "markdown",
   "id": "09958af2-8a3a-4a80-bbf9-ebc3687b6350",
   "metadata": {},
   "source": [
    "## What I did today\n",
    "\n",
    "Today, I finished the third chapter of DLPT, and worked through the exercises."
   ]
  },
  {
   "cell_type": "markdown",
   "id": "428f70a2-5c63-4183-8dbe-336509199d23",
   "metadata": {},
   "source": [
    "## What I learned today\n",
    "\n",
    "I learned about PyTorch's tensor API, and how operations can be called directly as tensor methods.\n",
    "I also learned that there are in-place verisons of these methods, marked by a trailing underscore.\n",
    "I learned that tensors are stored as contiguous chunks of memory,\n",
    "and an actual tensor is just a lightweight object that provides a view over this storage.\n",
    "They are defined with a size, an offste from the start of the data,\n",
    "and a stride that defines how many elements to skip in the storage to get\n",
    "the next element along a given dimension of the tensor.\n",
    "I learned about interoperability with NumPy, about moving tensors to the GPU,\n",
    "and about different kinds of tensors, aside from the usual tensors already covered previously.\n",
    "Finally, I learned about the two main ways of serializing tensors, with and without interoperability."
   ]
  },
  {
   "cell_type": "markdown",
   "id": "17807589-a99f-4224-9a69-651312489475",
   "metadata": {},
   "source": [
    "## Notes and questions for the next day\n",
    "\n",
    "Not much to note, except that it was extremely difficult to mobilize myself today, and I still got to finish the chapter. I will try not to push myself as hard tomorrow, if it is another low executive function day."
   ]
  }
 ],
 "metadata": {
  "kernelspec": {
   "display_name": "Python 3 (ipykernel)",
   "language": "python",
   "name": "python3"
  },
  "language_info": {
   "codemirror_mode": {
    "name": "ipython",
    "version": 3
   },
   "file_extension": ".py",
   "mimetype": "text/x-python",
   "name": "python",
   "nbconvert_exporter": "python",
   "pygments_lexer": "ipython3",
   "version": "3.12.8"
  }
 },
 "nbformat": 4,
 "nbformat_minor": 5
}
