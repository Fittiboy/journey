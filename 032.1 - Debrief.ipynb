{
 "cells": [
  {
   "cell_type": "markdown",
   "id": "2c7b4814-15f6-4c96-8719-17680c9c6c96",
   "metadata": {},
   "source": [
    "# Day 32 - Debrief"
   ]
  },
  {
   "cell_type": "markdown",
   "id": "046044d0-6982-4b86-8e8b-62f96ee573ec",
   "metadata": {},
   "source": [
    "## What I did today (and the previous two days)\n",
    "\n",
    "I fiddled around with PufferLib, and wrote DQN from memory, doing a lot of debugging along the way.\n",
    "I also used CARBS for the first time."
   ]
  },
  {
   "cell_type": "markdown",
   "id": "e7f710fe-ee0f-462f-8090-6dca8477f019",
   "metadata": {},
   "source": [
    "## What I learned today (and the previous two days)\n",
    "\n",
    "I learned that RL is hard. It can be frustrating to debug your algorithm, but man is it satisfying when it actually learns! Getting into PufferLib was especially difficult, and took me a full day.\n",
    "\n",
    "Using CARBS for the first time, I found out that it's extremely easy to use, and wildly convienient!"
   ]
  },
  {
   "cell_type": "markdown",
   "id": "74b78eab-170f-4c44-a042-4861d9932652",
   "metadata": {},
   "source": [
    "## Notes and questions\n",
    "\n",
    "Don't despair when things aren't working. Step back for a moment."
   ]
  }
 ],
 "metadata": {
  "kernelspec": {
   "display_name": "Python 3 (ipykernel)",
   "language": "python",
   "name": "python3"
  },
  "language_info": {
   "codemirror_mode": {
    "name": "ipython",
    "version": 3
   },
   "file_extension": ".py",
   "mimetype": "text/x-python",
   "name": "python",
   "nbconvert_exporter": "python",
   "pygments_lexer": "ipython3",
   "version": "3.12.9"
  }
 },
 "nbformat": 4,
 "nbformat_minor": 5
}
