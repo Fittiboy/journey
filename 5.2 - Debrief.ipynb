{
 "cells": [
  {
   "cell_type": "markdown",
   "id": "3b2938d2-b5ea-445a-87d2-85d770cc596b",
   "metadata": {},
   "source": [
    "# Day 5 - Debrief"
   ]
  },
  {
   "cell_type": "markdown",
   "id": "dff30c94-885d-4b15-917f-500f15e910e5",
   "metadata": {},
   "source": [
    "## What I did today\n",
    "\n",
    "Today, I worked through the first two sections of the fourth chapter of Sutton & Barto, on policy evaluation and policy improvement.\n",
    "I also implemented both of these for practice, parallelizing them with `numpy`."
   ]
  },
  {
   "cell_type": "markdown",
   "id": "77854c11-adaf-4900-b829-c6675793fa17",
   "metadata": {},
   "source": [
    "## What I learned today\n",
    "\n",
    "* I learned about dynamic programming as a method to calculate the value function of a policy iteratively\n",
    "* I also learned how a policy can be improved, if its value function is known, for example by making a policy greedy with respect to it"
   ]
  },
  {
   "cell_type": "markdown",
   "id": "565c37c9-292f-41cd-8340-9a7111f6d8b4",
   "metadata": {},
   "source": [
    "## Notes and questions for the next day\n",
    "\n",
    "Despite not getting much done volume-wise today, I'm very proud of myself for implementing policy evalution and policy improvement in vectorized form."
   ]
  }
 ],
 "metadata": {
  "kernelspec": {
   "display_name": "Python 3 (ipykernel)",
   "language": "python",
   "name": "python3"
  },
  "language_info": {
   "codemirror_mode": {
    "name": "ipython",
    "version": 3
   },
   "file_extension": ".py",
   "mimetype": "text/x-python",
   "name": "python",
   "nbconvert_exporter": "python",
   "pygments_lexer": "ipython3",
   "version": "3.12.8"
  }
 },
 "nbformat": 4,
 "nbformat_minor": 5
}
