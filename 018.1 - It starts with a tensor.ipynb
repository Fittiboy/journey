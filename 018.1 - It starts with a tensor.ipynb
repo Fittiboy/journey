{
 "cells": [
  {
   "cell_type": "code",
   "execution_count": 1,
   "id": "2ce501c2-068a-48ef-b8ae-c74ed2e98e47",
   "metadata": {},
   "outputs": [],
   "source": [
    "import warnings\n",
    "warnings.filterwarnings('ignore')"
   ]
  },
  {
   "cell_type": "markdown",
   "id": "cf2e07eb-edc1-411d-be35-471236d7d595",
   "metadata": {},
   "source": [
    "# Day 18 - It starts with a tensor"
   ]
  },
  {
   "cell_type": "markdown",
   "id": "352bc3fe-9eac-4f19-9828-18ab7fa0ee79",
   "metadata": {},
   "source": [
    "## The tensor API\n",
    "\n",
    "* Most operations can also be called as exactly equivalent tensor methods"
   ]
  },
  {
   "cell_type": "code",
   "execution_count": 2,
   "id": "0b5ec6fb-825a-4bd7-b70c-89b93b7755e5",
   "metadata": {},
   "outputs": [
    {
     "data": {
      "text/plain": [
       "(torch.Size([3, 2]), torch.Size([2, 3]))"
      ]
     },
     "execution_count": 2,
     "metadata": {},
     "output_type": "execute_result"
    }
   ],
   "source": [
    "import torch\n",
    "\n",
    "a = torch.ones(3, 2)\n",
    "a_t = torch.transpose(a, 0, 1)\n",
    "\n",
    "a.shape, a_t.shape"
   ]
  },
  {
   "cell_type": "markdown",
   "id": "c983425f-dad3-4dce-ae7e-8a7ca1b7143b",
   "metadata": {},
   "source": [
    "* This is equivalent to the following:"
   ]
  },
  {
   "cell_type": "code",
   "execution_count": 3,
   "id": "91d4a9d0-da15-4d66-b9a8-4f41f22ac734",
   "metadata": {},
   "outputs": [
    {
     "data": {
      "text/plain": [
       "(torch.Size([3, 2]), torch.Size([2, 3]))"
      ]
     },
     "execution_count": 3,
     "metadata": {},
     "output_type": "execute_result"
    }
   ],
   "source": [
    "a = torch.ones(3, 2)\n",
    "a_t = a.transpose(0, 1)\n",
    "\n",
    "a.shape, a_t.shape"
   ]
  },
  {
   "cell_type": "markdown",
   "id": "f539c037-503d-4741-ae01-a50714d5148b",
   "metadata": {},
   "source": [
    "* The [online docs](http://pytorch.org/docs) are exhaustive, and group the operations\n",
    "* Creation (`zeros`, `ones`, ...)\n",
    "* Indexing, slicing mutating (`transpose`, ...)\n",
    "* Math\n",
    "    * Pointwise\n",
    "    * Reduction\n",
    "    * Comparison\n",
    "    * Spectral (frequencies)\n",
    "    * Other special functions\n",
    "    * BLAS and LAPACK, standardized linear algebra operations\n",
    "* Random sampling\n",
    "* Serializtion\n",
    "* Parallelism (setting parameters, eg. `set_num_threads`)"
   ]
  },
  {
   "cell_type": "markdown",
   "id": "6588ca57-dcd1-45bf-a22d-1c365115ca50",
   "metadata": {},
   "source": [
    "## Tensors: Scenic views of storage\n",
    "\n",
    "* The values are stored in a `torch.Storage`, which holds a 1D, contiguous chunk of memory\n",
    "* Actual `torch.Tensor`s are views over this storage\n",
    "* Each tensor can have different offsets and per-dimension strides"
   ]
  },
  {
   "cell_type": "markdown",
   "id": "abd67db8-a418-4a04-a42a-b907dd56d157",
   "metadata": {},
   "source": [
    "### Indexing into storage"
   ]
  },
  {
   "cell_type": "code",
   "execution_count": 4,
   "id": "df66056e-6d77-43be-9dd4-98da3f797796",
   "metadata": {},
   "outputs": [
    {
     "data": {
      "text/plain": [
       " 4.0\n",
       " 1.0\n",
       " 5.0\n",
       " 3.0\n",
       " 2.0\n",
       " 1.0\n",
       "[torch.storage.TypedStorage(dtype=torch.float32, device=cpu) of size 6]"
      ]
     },
     "execution_count": 4,
     "metadata": {},
     "output_type": "execute_result"
    }
   ],
   "source": [
    "points = torch.tensor([[4.0, 1.0], [5.0, 3.0], [2.0, 1.0]])\n",
    "points.storage() # This is depracated, and untyped_storage should be used instead"
   ]
  },
  {
   "cell_type": "code",
   "execution_count": 5,
   "id": "21a01f62-99fe-4484-a21f-245035720193",
   "metadata": {},
   "outputs": [
    {
     "data": {
      "text/plain": [
       "4.0"
      ]
     },
     "execution_count": 5,
     "metadata": {},
     "output_type": "execute_result"
    }
   ],
   "source": [
    "points_storage = points.storage()\n",
    "points_storage[0]"
   ]
  },
  {
   "cell_type": "code",
   "execution_count": 6,
   "id": "b0dcae03-d253-4d36-bb6f-25bac6dde9db",
   "metadata": {},
   "outputs": [
    {
     "data": {
      "text/plain": [
       "1.0"
      ]
     },
     "execution_count": 6,
     "metadata": {},
     "output_type": "execute_result"
    }
   ],
   "source": [
    "points.storage()[1]"
   ]
  },
  {
   "cell_type": "markdown",
   "id": "62ba5647-64c9-40eb-91b7-6ed2658bf6ee",
   "metadata": {},
   "source": [
    "* Of course, changing the underlying storage will also change what a tensor views"
   ]
  },
  {
   "cell_type": "code",
   "execution_count": 7,
   "id": "1722748c-22a2-454f-bf75-0c858be6febe",
   "metadata": {},
   "outputs": [
    {
     "data": {
      "text/plain": [
       "tensor([[2., 1.],\n",
       "        [5., 3.],\n",
       "        [2., 1.]])"
      ]
     },
     "execution_count": 7,
     "metadata": {},
     "output_type": "execute_result"
    }
   ],
   "source": [
    "points_storage[0] = 2.0\n",
    "points"
   ]
  },
  {
   "cell_type": "code",
   "execution_count": 8,
   "id": "a08a0ed2-a282-4940-acba-0e54ef9fc5fa",
   "metadata": {},
   "outputs": [
    {
     "data": {
      "text/plain": [
       " 1\n",
       " 0\n",
       " 0\n",
       " 0\n",
       " 0\n",
       " 1\n",
       " 1\n",
       " 1\n",
       "[torch.storage.UntypedStorage(device=cpu) of size 8]"
      ]
     },
     "execution_count": 8,
     "metadata": {},
     "output_type": "execute_result"
    }
   ],
   "source": [
    "bools = torch.tensor([[True, False], [False, False], [False, True], [True, True]])\n",
    "bools.untyped_storage() # <- Just one byte!!"
   ]
  },
  {
   "cell_type": "markdown",
   "id": "f1a76c09-15fd-4d6b-9424-a02b72fa2e1d",
   "metadata": {},
   "source": [
    "### Modifying stored values: In-place operations\n",
    "\n",
    "* Some operations are only available as methods on `Tensor` objects\n",
    "* These are identified by their trailing undescores, like `zero_()`\n",
    "* They are *in-place* operations, modifying the underlying data\n",
    "* Thus, they do not create and return a new tensor"
   ]
  },
  {
   "cell_type": "code",
   "execution_count": 9,
   "id": "1f51ef12-602b-4fe2-8f8b-b0e2f28299ba",
   "metadata": {},
   "outputs": [
    {
     "data": {
      "text/plain": [
       "tensor([[1., 1.],\n",
       "        [1., 1.],\n",
       "        [1., 1.]])"
      ]
     },
     "execution_count": 9,
     "metadata": {},
     "output_type": "execute_result"
    }
   ],
   "source": [
    "a = torch.ones(3, 2)\n",
    "a"
   ]
  },
  {
   "cell_type": "code",
   "execution_count": 10,
   "id": "72257a22-1f96-489b-b46c-1d35b8e291fa",
   "metadata": {},
   "outputs": [
    {
     "data": {
      "text/plain": [
       "tensor([[0., 0.],\n",
       "        [0., 0.],\n",
       "        [0., 0.]])"
      ]
     },
     "execution_count": 10,
     "metadata": {},
     "output_type": "execute_result"
    }
   ],
   "source": [
    "a.zero_()\n",
    "a"
   ]
  },
  {
   "cell_type": "markdown",
   "id": "9a58023d-6791-4248-a3da-fec6fd26e563",
   "metadata": {},
   "source": [
    "## Tensor metadata: Size, offset, and stride\n",
    "\n",
    "* A tensor is fully defined by storage, size, offset and stride\n",
    "* Size is a tuple, indicating the number of elements along each dimension\n",
    "* Offset is the index of the tensor's first element in the underlying storage\n",
    "* Stride is the number of elements that need to be skipped to get to the next element in each dimension"
   ]
  },
  {
   "cell_type": "markdown",
   "id": "4caedd2b-01fa-4d76-abd2-5e430acd5dca",
   "metadata": {},
   "source": [
    "### Views of another tensor's storage\n",
    "\n",
    "* To access the second point, the offset has to be 2, as the first two elements of the storage have to be skipped"
   ]
  },
  {
   "cell_type": "code",
   "execution_count": 11,
   "id": "de034dde-14bd-489f-aa08-37b9f7f5f7b7",
   "metadata": {},
   "outputs": [
    {
     "data": {
      "text/plain": [
       "2"
      ]
     },
     "execution_count": 11,
     "metadata": {},
     "output_type": "execute_result"
    }
   ],
   "source": [
    "points = torch.tensor([[4.0, 1.0], [5.0, 3.0], [2.0, 1.0]])\n",
    "second_point = points[1]\n",
    "second_point.storage_offset()"
   ]
  },
  {
   "cell_type": "code",
   "execution_count": 12,
   "id": "e2821d29-5ab8-4eb9-8de8-1c11fe64daab",
   "metadata": {},
   "outputs": [
    {
     "data": {
      "text/plain": [
       "(torch.Size([2]), torch.Size([2]))"
      ]
     },
     "execution_count": 12,
     "metadata": {},
     "output_type": "execute_result"
    }
   ],
   "source": [
    "second_point.size(), second_point.shape"
   ]
  },
  {
   "cell_type": "markdown",
   "id": "6674d255-f7af-4ab2-9045-be59191c9921",
   "metadata": {},
   "source": [
    "* Two elements have to be skipped to get to the next point\n",
    "* One element has to be skipped to get to the next coordinate of a point"
   ]
  },
  {
   "cell_type": "code",
   "execution_count": 13,
   "id": "dcb522a8-3247-4bfa-822d-188960fd7508",
   "metadata": {},
   "outputs": [
    {
     "data": {
      "text/plain": [
       "(2, 1)"
      ]
     },
     "execution_count": 13,
     "metadata": {},
     "output_type": "execute_result"
    }
   ],
   "source": [
    "points.stride()"
   ]
  },
  {
   "cell_type": "markdown",
   "id": "6861c35c-83c4-48da-83ba-9e2aebc8ae57",
   "metadata": {},
   "source": [
    "* Accessing the element at `i, j`, we retrieve `storage_offset + i * stride[0] + j * stride[1]`\n",
    "* Defining a tensor like this makes many operations cheap, by simply allocating a new tensor with different size, offset, and stride, viewing the same underlying memory"
   ]
  },
  {
   "cell_type": "code",
   "execution_count": 14,
   "id": "d0efa07d-405a-4559-b314-6f7368c5bd0b",
   "metadata": {},
   "outputs": [
    {
     "data": {
      "text/plain": [
       "(torch.Size([2]), 2, (1,))"
      ]
     },
     "execution_count": 14,
     "metadata": {},
     "output_type": "execute_result"
    }
   ],
   "source": [
    "second_point = points[1]\n",
    "second_point.size(), second_point.storage_offset(), second_point.stride()"
   ]
  },
  {
   "cell_type": "markdown",
   "id": "28c38d2a-947e-4f08-aa4f-95804e534847",
   "metadata": {},
   "source": [
    "* Sometimes, we want to modify the tensor, without changing the original data\n",
    "* In order to do this, we can clone the tensor"
   ]
  },
  {
   "cell_type": "code",
   "execution_count": 15,
   "id": "36a4dc2b-fdd6-41e1-a6ee-7f5f5e188062",
   "metadata": {},
   "outputs": [
    {
     "data": {
      "text/plain": [
       "tensor([[4., 1.],\n",
       "        [5., 3.],\n",
       "        [2., 1.]])"
      ]
     },
     "execution_count": 15,
     "metadata": {},
     "output_type": "execute_result"
    }
   ],
   "source": [
    "points = torch.tensor([[4.0, 1.0], [5.0, 3.0], [2.0, 1.0]])\n",
    "second_point = points[1].clone()\n",
    "second_point[0] = 10.0\n",
    "points"
   ]
  },
  {
   "cell_type": "markdown",
   "id": "13faaaba-5034-4183-98b1-b1a0bf4b69f0",
   "metadata": {},
   "source": [
    "### Transposing without copying\n",
    "\n",
    "* The `t` function is a shorthand for `transpose`-ing a two-dimensional tensor\n",
    "* This allows us, for example, to turn our points array from one where each row represents a point, to one where each column represents a point"
   ]
  },
  {
   "cell_type": "code",
   "execution_count": 16,
   "id": "c186a70f-311b-4b3f-825c-5d1d5bf5a8be",
   "metadata": {},
   "outputs": [
    {
     "data": {
      "text/plain": [
       "tensor([[4., 1.],\n",
       "        [5., 3.],\n",
       "        [2., 1.]])"
      ]
     },
     "execution_count": 16,
     "metadata": {},
     "output_type": "execute_result"
    }
   ],
   "source": [
    "points = torch.tensor([[4.0, 1.0], [5.0, 3.0], [2.0, 1.0]])\n",
    "points"
   ]
  },
  {
   "cell_type": "code",
   "execution_count": 17,
   "id": "8ba699ca-967b-4bec-8845-b5f7922ad257",
   "metadata": {},
   "outputs": [
    {
     "data": {
      "text/plain": [
       "tensor([[4., 5., 2.],\n",
       "        [1., 3., 1.]])"
      ]
     },
     "execution_count": 17,
     "metadata": {},
     "output_type": "execute_result"
    }
   ],
   "source": [
    "points_t = points.t()\n",
    "points_t"
   ]
  },
  {
   "cell_type": "markdown",
   "id": "2a215439-4a29-4f7f-ace4-72115d3f3951",
   "metadata": {},
   "source": [
    "* These share the same untyped storage, but differ in their properties"
   ]
  },
  {
   "cell_type": "code",
   "execution_count": 18,
   "id": "cd5dbb70-5ccb-443c-ad34-8d873a51629d",
   "metadata": {},
   "outputs": [
    {
     "data": {
      "text/plain": [
       "True"
      ]
     },
     "execution_count": 18,
     "metadata": {},
     "output_type": "execute_result"
    }
   ],
   "source": [
    "id(points.untyped_storage()) == id(points_t.untyped_storage())"
   ]
  },
  {
   "cell_type": "code",
   "execution_count": 19,
   "id": "62a2d94a-0d21-489d-ae2f-d45abbe66761",
   "metadata": {},
   "outputs": [
    {
     "data": {
      "text/plain": [
       "((2, 1), (1, 2))"
      ]
     },
     "execution_count": 19,
     "metadata": {},
     "output_type": "execute_result"
    }
   ],
   "source": [
    "points.stride(), points_t.stride()"
   ]
  },
  {
   "cell_type": "markdown",
   "id": "e83ec2ee-35e3-4811-ae88-bebcec68a09e",
   "metadata": {},
   "source": [
    "* Transposing is simply flipping the shape and stride of the tensor"
   ]
  },
  {
   "cell_type": "markdown",
   "id": "ca00a2ec-0d2f-43fd-b67a-7643dd7190aa",
   "metadata": {},
   "source": [
    "### Transposing in higher dimensions\n",
    "\n",
    "* To transpose in higher dimensions, we just have to specify the dimensions along which to flip the shape and stride"
   ]
  },
  {
   "cell_type": "code",
   "execution_count": 20,
   "id": "80c72780-710e-4f2b-aebe-60b7c9acc96d",
   "metadata": {},
   "outputs": [
    {
     "data": {
      "text/plain": [
       "(torch.Size([3, 4, 5]), torch.Size([5, 4, 3]))"
      ]
     },
     "execution_count": 20,
     "metadata": {},
     "output_type": "execute_result"
    }
   ],
   "source": [
    "some_t = torch.ones(3, 4, 5)\n",
    "transpose_t = some_t.transpose(0, 2)\n",
    "some_t.shape, transpose_t.shape"
   ]
  },
  {
   "cell_type": "code",
   "execution_count": 21,
   "id": "635cdb25-2b30-436f-afde-eb80055f1339",
   "metadata": {},
   "outputs": [
    {
     "data": {
      "text/plain": [
       "((20, 5, 1), (1, 5, 20))"
      ]
     },
     "execution_count": 21,
     "metadata": {},
     "output_type": "execute_result"
    }
   ],
   "source": [
    "some_t.stride(), transpose_t.stride()"
   ]
  },
  {
   "cell_type": "markdown",
   "id": "a6f25e32-7e45-417c-92e3-016d92bd6452",
   "metadata": {},
   "source": [
    "* A tensor that is laid out in memory starting from the rightmost dimension onward can be efficiently visited element by element, as it is `contiguous`\n",
    "* This locality can provide the best performance"
   ]
  },
  {
   "cell_type": "markdown",
   "id": "07834558-a701-4648-aedf-3af796f4b1ef",
   "metadata": {},
   "source": [
    "### Contiguous tensors\n",
    "\n",
    "* Some operations work only on contiguous tensors\n",
    "* Trying to use these will inform us to use `contiguous`, which costs nothing if the tensor already is contiguous"
   ]
  },
  {
   "cell_type": "code",
   "execution_count": 22,
   "id": "d67217c2-cb55-482c-aeeb-15b3b735cd2c",
   "metadata": {},
   "outputs": [
    {
     "data": {
      "text/plain": [
       "(True, False)"
      ]
     },
     "execution_count": 22,
     "metadata": {},
     "output_type": "execute_result"
    }
   ],
   "source": [
    "points.is_contiguous(), points_t.is_contiguous()"
   ]
  },
  {
   "cell_type": "markdown",
   "id": "51403eed-afff-4a46-8fd1-d3a5bd2ba29c",
   "metadata": {},
   "source": [
    "* To obtain a contiguous tensor from a non-contiguous one, the `contiguous` method will change the stride, as well as the underlying storage to match it"
   ]
  },
  {
   "cell_type": "code",
   "execution_count": 23,
   "id": "db2f3c9a-e05e-4058-8cf7-72f2be346624",
   "metadata": {},
   "outputs": [
    {
     "data": {
      "text/plain": [
       "(tensor([[4., 5., 2.],\n",
       "         [1., 3., 1.]]),\n",
       " (1, 2),\n",
       "  4.0\n",
       "  1.0\n",
       "  5.0\n",
       "  3.0\n",
       "  2.0\n",
       "  1.0\n",
       " [torch.storage.TypedStorage(dtype=torch.float32, device=cpu) of size 6])"
      ]
     },
     "execution_count": 23,
     "metadata": {},
     "output_type": "execute_result"
    }
   ],
   "source": [
    "points = torch.tensor([[4.0, 1.0], [5.0, 3.0], [2.0, 1.0]])\n",
    "points_t = points.t()\n",
    "points_t, points_t.stride(), points_t.storage()"
   ]
  },
  {
   "cell_type": "code",
   "execution_count": 24,
   "id": "92098dea-df8f-4344-842a-0b8c63ce599e",
   "metadata": {},
   "outputs": [
    {
     "data": {
      "text/plain": [
       "(tensor([[4., 5., 2.],\n",
       "         [1., 3., 1.]]),\n",
       " (3, 1),\n",
       "  4.0\n",
       "  5.0\n",
       "  2.0\n",
       "  1.0\n",
       "  3.0\n",
       "  1.0\n",
       " [torch.storage.TypedStorage(dtype=torch.float32, device=cpu) of size 6])"
      ]
     },
     "execution_count": 24,
     "metadata": {},
     "output_type": "execute_result"
    }
   ],
   "source": [
    "points_t_cont = points_t.contiguous()\n",
    "points_t_cont, points_t_cont.stride(), points_t_cont.storage()"
   ]
  },
  {
   "cell_type": "markdown",
   "id": "5ee6a64e-e456-4292-9c68-429497e1e412",
   "metadata": {},
   "source": [
    "* Essentially, transposing changes the view, while making a transpose `contiguous` changes the underlying storage to match the original stride"
   ]
  }
 ],
 "metadata": {
  "kernelspec": {
   "display_name": "Python 3 (ipykernel)",
   "language": "python",
   "name": "python3"
  },
  "language_info": {
   "codemirror_mode": {
    "name": "ipython",
    "version": 3
   },
   "file_extension": ".py",
   "mimetype": "text/x-python",
   "name": "python",
   "nbconvert_exporter": "python",
   "pygments_lexer": "ipython3",
   "version": "3.12.8"
  }
 },
 "nbformat": 4,
 "nbformat_minor": 5
}
