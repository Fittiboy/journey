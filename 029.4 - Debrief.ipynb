{
 "cells": [
  {
   "cell_type": "markdown",
   "id": "37c129aa-35fe-4bd5-95db-24769997288b",
   "metadata": {},
   "source": [
    "# Day 29 - Debrief"
   ]
  },
  {
   "cell_type": "markdown",
   "id": "2dda75c3-552b-4af8-b2f7-9a4ae3c2d146",
   "metadata": {},
   "source": [
    "## What I did today\n",
    "\n",
    "Today, I implemented REINFORCE, followed by A2C. I then began studying PPO."
   ]
  },
  {
   "cell_type": "markdown",
   "id": "f5468ee4-b236-45a1-8691-0c7cae74bba3",
   "metadata": {},
   "source": [
    "## What I learned today\n",
    "\n",
    "I learned how to implement REINFORCE and A2C, but most importantly, I learned careful tuning of these algorithms is still required to achieve good performance."
   ]
  },
  {
   "cell_type": "markdown",
   "id": "9255f1a3-e696-4c9d-99a9-07eccc19cd6e",
   "metadata": {},
   "source": [
    "## Notes and questions for the next day\n",
    "\n",
    "I wonder what improvements could be made to current RL methods to allow them to compensate for\n",
    "different hyperparameter selections automatically. Perhaps learning as many different objectives in tandem as possible, using each to balance the others in some way, could work."
   ]
  }
 ],
 "metadata": {
  "kernelspec": {
   "display_name": "Python 3 (ipykernel)",
   "language": "python",
   "name": "python3"
  },
  "language_info": {
   "codemirror_mode": {
    "name": "ipython",
    "version": 3
   },
   "file_extension": ".py",
   "mimetype": "text/x-python",
   "name": "python",
   "nbconvert_exporter": "python",
   "pygments_lexer": "ipython3",
   "version": "3.12.9"
  }
 },
 "nbformat": 4,
 "nbformat_minor": 5
}
