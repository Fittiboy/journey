{
 "cells": [
  {
   "cell_type": "markdown",
   "id": "00f96367-e88d-4e0f-ad85-897b6eafd496",
   "metadata": {},
   "source": [
    "# Day 21 - Debrief"
   ]
  },
  {
   "cell_type": "markdown",
   "id": "12c112a9-3edc-40d7-ade9-70772bc4484f",
   "metadata": {},
   "source": [
    "I read the section from Sutton & Barto on Expected vs. Sample Updates, which showcases how sample updates are likely to be generally superior in larger, highly stochastic state spaces with large branching factors."
   ]
  }
 ],
 "metadata": {
  "kernelspec": {
   "display_name": "Python 3 (ipykernel)",
   "language": "python",
   "name": "python3"
  },
  "language_info": {
   "codemirror_mode": {
    "name": "ipython",
    "version": 3
   },
   "file_extension": ".py",
   "mimetype": "text/x-python",
   "name": "python",
   "nbconvert_exporter": "python",
   "pygments_lexer": "ipython3",
   "version": "3.12.8"
  }
 },
 "nbformat": 4,
 "nbformat_minor": 5
}
