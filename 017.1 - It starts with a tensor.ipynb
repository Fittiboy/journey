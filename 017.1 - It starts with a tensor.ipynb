{
 "cells": [
  {
   "cell_type": "markdown",
   "id": "3f700af5-1882-4e24-ae17-342f9f5a40ba",
   "metadata": {},
   "source": [
    "# Day 17 - It starts with a tensor"
   ]
  },
  {
   "cell_type": "markdown",
   "id": "ae5f6588-199b-4aa4-8b60-0d23ab38fff0",
   "metadata": {},
   "source": [
    "## Tensor element types\n",
    "\n",
    "* In Python, numbers are objects, with all the associated overhead\n",
    "* Lists in Python are one-dimensional collections of pointers to arbitrary objects\n",
    "* The Python interpreter is slow, compared to compiled, low-level code\n",
    "* Dedicated structures like PyTorch tensors can rely on efficient low-level implementations of operations on raw floating point numbers\n",
    "* To do so, all the elements in a tensor have to be of the same type, and the tensor has to keep track of this"
   ]
  },
  {
   "cell_type": "markdown",
   "id": "e50fae50-c77f-4511-b5d2-bb243104f68c",
   "metadata": {},
   "source": [
    "### Specifying the numeric type with dtype\n",
    "\n",
    "* The `dtype` argument to tensor constructors accepts one of 12 different `dtype`s:\n",
    "    1. `torch.float32` or `torch.float`\n",
    "    1. `torch.float64` or `torch.double`\n",
    "    1. `torch.complex64` or `torch.cfloat`\n",
    "    1. `torch.complex128` or `torch.cdouble`\n",
    "    1. `torch.float16` or `torch.half`\n",
    "    1. `torch.bfloat16` (brain float 16-bit, by Google)\n",
    "    1. `torch.int8`\n",
    "    1. `torch.uint8`\n",
    "    1. `torch.int16` or `torch.short`\n",
    "    1. `torch.int32` or `torch.int`\n",
    "    1. `torch.int64` or `torch.long`\n",
    "    1. `torch.bool`\n",
    "* The default `dtype` is `torch.float32`/`torch.float`"
   ]
  },
  {
   "cell_type": "markdown",
   "id": "78aad405-9dc9-4507-b866-10ae07c2bf08",
   "metadata": {},
   "source": [
    "### A dtype for every occasion\n",
    "\n",
    "* Tensors can index other tensors, if their `dtype` is `int64`\n",
    "* A tensor created with integers as arguments will have this `dtype` by default\n",
    "* Predicates on tensors, like `points > 1.0`, produce `bool` tensors, indicating whether each element satisfies the condition"
   ]
  },
  {
   "cell_type": "markdown",
   "id": "d052e8f9-d548-4008-a80a-35d8ff58f312",
   "metadata": {},
   "source": [
    "### Managing a tensor's dtype attribute\n",
    "\n",
    "* The `dtype` can be specified directly on creation of the tensor"
   ]
  },
  {
   "cell_type": "code",
   "execution_count": 1,
   "id": "782198b6-94c4-43ac-92b2-a942517fb94d",
   "metadata": {},
   "outputs": [],
   "source": [
    "import torch\n",
    "\n",
    "double_points = torch.ones(10, 2, dtype=torch.double)\n",
    "short_points = torch.tensor([[1, 2], [3, 4]], dtype=torch.short)"
   ]
  },
  {
   "cell_type": "markdown",
   "id": "1db6c91c-d76b-4e9c-b063-5e3a5ca85687",
   "metadata": {},
   "source": [
    "* To learn the `dtype` the argument can be accessed directly"
   ]
  },
  {
   "cell_type": "code",
   "execution_count": 2,
   "id": "ca7c9c4c-34fa-42e2-9a5b-5ef10e8580ea",
   "metadata": {},
   "outputs": [
    {
     "data": {
      "text/plain": [
       "torch.int16"
      ]
     },
     "execution_count": 2,
     "metadata": {},
     "output_type": "execute_result"
    }
   ],
   "source": [
    "short_points.dtype"
   ]
  },
  {
   "cell_type": "markdown",
   "id": "b09776c6-a122-430a-8bff-d54d41f237f5",
   "metadata": {},
   "source": [
    "* The `dtype` can be changed by casting, using the corresponding methods"
   ]
  },
  {
   "cell_type": "code",
   "execution_count": 3,
   "id": "e0e282da-7158-4fd3-b30a-6e24cef8527b",
   "metadata": {},
   "outputs": [],
   "source": [
    "double_points = torch.zeros(10, 2).double()\n",
    "short_points = torch.ones(10, 2).short()"
   ]
  },
  {
   "cell_type": "markdown",
   "id": "481b3210-dab8-4e7a-9a2f-181ce904189f",
   "metadata": {},
   "source": [
    "* More generally, there is the `to` method, which can the specific type methods utilize\n",
    "* This can also take extra arguments, which we will see later"
   ]
  },
  {
   "cell_type": "code",
   "execution_count": 4,
   "id": "41494117-91a5-41c6-83b4-ba63fbab9e50",
   "metadata": {},
   "outputs": [],
   "source": [
    "double_points = torch.zeros(10, 2).to(torch.double)\n",
    "short_points = torch.ones(10, 2).to(dtype=torch.short)"
   ]
  },
  {
   "cell_type": "markdown",
   "id": "85a60b55-2929-4441-8a29-be8a8a5835e5",
   "metadata": {},
   "source": [
    "* When mixing data types, the inputs are converted to the largest type\n",
    "* To ensure, for example, 32-bit computation, all our inputs can be at most 32-bit"
   ]
  },
  {
   "cell_type": "code",
   "execution_count": 5,
   "id": "cd14c612-21c8-46e8-a3b2-306c3af20afa",
   "metadata": {},
   "outputs": [
    {
     "data": {
      "text/plain": [
       "tensor([0., 0., 0., 0., 0.], dtype=torch.float64)"
      ]
     },
     "execution_count": 5,
     "metadata": {},
     "output_type": "execute_result"
    }
   ],
   "source": [
    "points_64 = torch.rand(5, dtype=torch.double)\n",
    "points_short = points_64.to(torch.short)\n",
    "points_64 * points_short"
   ]
  }
 ],
 "metadata": {
  "kernelspec": {
   "display_name": "Python 3 (ipykernel)",
   "language": "python",
   "name": "python3"
  },
  "language_info": {
   "codemirror_mode": {
    "name": "ipython",
    "version": 3
   },
   "file_extension": ".py",
   "mimetype": "text/x-python",
   "name": "python",
   "nbconvert_exporter": "python",
   "pygments_lexer": "ipython3",
   "version": "3.12.8"
  }
 },
 "nbformat": 4,
 "nbformat_minor": 5
}
