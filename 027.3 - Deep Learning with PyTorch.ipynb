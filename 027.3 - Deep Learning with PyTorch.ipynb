{
 "cells": [
  {
   "cell_type": "markdown",
   "id": "6526e343-9227-44b7-af7a-1a643beb76e0",
   "metadata": {},
   "source": [
    "# Day 27 - Deep Learning with PyTorch"
   ]
  },
  {
   "cell_type": "code",
   "execution_count": 1,
   "id": "4c0c840a-bd9f-4e9d-a2d1-bbb57c0dc826",
   "metadata": {},
   "outputs": [],
   "source": [
    "import numpy as np\n",
    "from torch import nn\n",
    "import torch\n",
    "\n",
    "device = \"cuda\" if torch.cuda.is_available() else \"cpu\""
   ]
  },
  {
   "cell_type": "markdown",
   "id": "7f2fd405-6a13-4714-ac42-242694ae83bd",
   "metadata": {},
   "source": [
    "## Monitoring with TensorBoard"
   ]
  },
  {
   "cell_type": "markdown",
   "id": "5f7fe7ac-aff8-4def-a6fe-2b9dbda81ba8",
   "metadata": {},
   "source": [
    "### TensorBoard 101"
   ]
  },
  {
   "cell_type": "code",
   "execution_count": 2,
   "id": "8515f767-dc51-4169-a422-f756707009c9",
   "metadata": {},
   "outputs": [],
   "source": [
    "import math\n",
    "from torch.utils.tensorboard.writer import SummaryWriter"
   ]
  },
  {
   "cell_type": "code",
   "execution_count": 3,
   "id": "bb36652e-b133-489c-933a-70537ece13b7",
   "metadata": {},
   "outputs": [],
   "source": [
    "writer = SummaryWriter()\n",
    "funcs = {\"sin\": math.sin, \"cos\": math.cos, \"tan\": math.tan}\n",
    "\n",
    "for angle in range(-360, 360):\n",
    "    angle_rad = angle * math.pi / 180\n",
    "    for name, fun in funcs.items():\n",
    "        val = fun(angle_rad)\n",
    "        writer.add_scalar(name, val, angle)\n",
    "\n",
    "writer.close()"
   ]
  },
  {
   "cell_type": "markdown",
   "id": "b5f0d888-bec6-4a60-872d-b02753d029ea",
   "metadata": {},
   "source": [
    "## GAN on Atari images"
   ]
  },
  {
   "cell_type": "code",
   "execution_count": 4,
   "id": "66b9bd24-72d6-49b1-b93b-0981f5869032",
   "metadata": {},
   "outputs": [],
   "source": [
    "import cv2\n",
    "import time\n",
    "import random\n",
    "import typing as tt\n",
    "\n",
    "import torch.optim as optim\n",
    "import torchvision.utils as vutils\n",
    "\n",
    "import gymnasium as gym\n",
    "from gymnasium import spaces"
   ]
  },
  {
   "cell_type": "code",
   "execution_count": 5,
   "id": "8173f35e-f2c4-4246-84ee-41485def5a59",
   "metadata": {},
   "outputs": [
    {
     "ename": "AttributeError",
     "evalue": "module 'gymnasium.logger' has no attribute 'set_level'",
     "output_type": "error",
     "traceback": [
      "\u001b[0;31m---------------------------------------------------------------------------\u001b[0m",
      "\u001b[0;31mAttributeError\u001b[0m                            Traceback (most recent call last)",
      "Cell \u001b[0;32mIn[5], line 2\u001b[0m\n\u001b[1;32m      1\u001b[0m log \u001b[38;5;241m=\u001b[39m gym\u001b[38;5;241m.\u001b[39mlogger\n\u001b[0;32m----> 2\u001b[0m \u001b[43mlog\u001b[49m\u001b[38;5;241;43m.\u001b[39;49m\u001b[43mset_level\u001b[49m(gym\u001b[38;5;241m.\u001b[39mlogger\u001b[38;5;241m.\u001b[39mINFO)\n",
      "\u001b[0;31mAttributeError\u001b[0m: module 'gymnasium.logger' has no attribute 'set_level'"
     ]
    }
   ],
   "source": [
    "log = gym.logger\n",
    "log.set_level(gym.logger.INFO)"
   ]
  },
  {
   "cell_type": "code",
   "execution_count": null,
   "id": "4a6a2c6e-49ed-476f-8e2b-43f9dc3406c6",
   "metadata": {},
   "outputs": [],
   "source": [
    "LATENT_VECTOR_SIZE = 100\n",
    "DISCR_FILTERS = 64\n",
    "GENER_FILTERS = 64\n",
    "BATCH_SIZE = 16\n",
    "\n",
    "# dimension input image will be rescaled\n",
    "IMAGE_SIZE = 64\n",
    "\n",
    "LEARNING_RATE = 0.0001\n",
    "REPORT_EVERY_ITER = 100\n",
    "SAVE_IMAGE_EVERY_ITER = 1000"
   ]
  }
 ],
 "metadata": {
  "kernelspec": {
   "display_name": "Python 3 (ipykernel)",
   "language": "python",
   "name": "python3"
  },
  "language_info": {
   "codemirror_mode": {
    "name": "ipython",
    "version": 3
   },
   "file_extension": ".py",
   "mimetype": "text/x-python",
   "name": "python",
   "nbconvert_exporter": "python",
   "pygments_lexer": "ipython3",
   "version": "3.12.8"
  }
 },
 "nbformat": 4,
 "nbformat_minor": 5
}
