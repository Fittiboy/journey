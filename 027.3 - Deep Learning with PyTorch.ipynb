{
 "cells": [
  {
   "cell_type": "markdown",
   "id": "6526e343-9227-44b7-af7a-1a643beb76e0",
   "metadata": {},
   "source": [
    "# Day 27 - Deep Learning with PyTorch"
   ]
  },
  {
   "cell_type": "code",
   "execution_count": 1,
   "id": "4c0c840a-bd9f-4e9d-a2d1-bbb57c0dc826",
   "metadata": {},
   "outputs": [],
   "source": [
    "import numpy as np\n",
    "from torch import nn\n",
    "import torch\n",
    "\n",
    "device = \"cuda\" if torch.cuda.is_available() else \"cpu\""
   ]
  },
  {
   "cell_type": "markdown",
   "id": "7f2fd405-6a13-4714-ac42-242694ae83bd",
   "metadata": {},
   "source": [
    "## Monitoring with TensorBoard"
   ]
  },
  {
   "cell_type": "markdown",
   "id": "5f7fe7ac-aff8-4def-a6fe-2b9dbda81ba8",
   "metadata": {},
   "source": [
    "### TensorBoard 101"
   ]
  },
  {
   "cell_type": "code",
   "execution_count": 2,
   "id": "8515f767-dc51-4169-a422-f756707009c9",
   "metadata": {},
   "outputs": [],
   "source": [
    "import math\n",
    "from torch.utils.tensorboard.writer import SummaryWriter"
   ]
  },
  {
   "cell_type": "code",
   "execution_count": 3,
   "id": "bb36652e-b133-489c-933a-70537ece13b7",
   "metadata": {},
   "outputs": [],
   "source": [
    "writer = SummaryWriter()\n",
    "funcs = {\"sin\": math.sin, \"cos\": math.cos, \"tan\": math.tan}\n",
    "\n",
    "for angle in range(-360, 360):\n",
    "    angle_rad = angle * math.pi / 180\n",
    "    for name, fun in funcs.items():\n",
    "        val = fun(angle_rad)\n",
    "        writer.add_scalar(name, val, angle)\n",
    "\n",
    "writer.close()"
   ]
  },
  {
   "cell_type": "markdown",
   "id": "b5f0d888-bec6-4a60-872d-b02753d029ea",
   "metadata": {},
   "source": [
    "## GAN on Atari images"
   ]
  },
  {
   "cell_type": "code",
   "execution_count": 4,
   "id": "6493ae1a-864b-46a8-9932-666b87119007",
   "metadata": {},
   "outputs": [],
   "source": [
    "import cv2\n",
    "import time\n",
    "import random\n",
    "import typing as tt\n",
    "\n",
    "import torch.optim as optim\n",
    "import torchvision.utils as vutils\n",
    "\n",
    "import gymnasium as gym\n",
    "from gymnasium import spaces\n",
    "import ale_py"
   ]
  },
  {
   "cell_type": "code",
   "execution_count": 5,
   "id": "98f4f6c2-22a3-41cb-abd0-6c8c25312234",
   "metadata": {},
   "outputs": [],
   "source": [
    "gym.register_envs(ale_py)"
   ]
  },
  {
   "cell_type": "code",
   "execution_count": 6,
   "id": "4a6a2c6e-49ed-476f-8e2b-43f9dc3406c6",
   "metadata": {},
   "outputs": [],
   "source": [
    "LATENT_VECTOR_SIZE = 100\n",
    "DISCR_FILTERS = 64\n",
    "GENER_FILTERS = 64\n",
    "BATCH_SIZE = 16\n",
    "\n",
    "# dimension input image will be rescaled\n",
    "IMAGE_SIZE = 64\n",
    "\n",
    "LEARNING_RATE = 0.0001\n",
    "REPORT_EVERY_ITER = 100\n",
    "SAVE_IMAGE_EVERY_ITER = 1000"
   ]
  },
  {
   "cell_type": "code",
   "execution_count": 7,
   "id": "20572262-747e-475f-b93d-2d948f7debdf",
   "metadata": {},
   "outputs": [],
   "source": [
    "class InputWrapper(gym.ObservationWrapper):\n",
    "    \"\"\"\n",
    "    Preprocessing of input numpy array:\n",
    "    1. resize image into predefined size\n",
    "    2. move color channel axis to a first place\n",
    "    \"\"\"\n",
    "    def __init__(self, *args):\n",
    "        super(InputWrapper, self).__init__(*args)\n",
    "        old_space = self.observation_space\n",
    "        assert isinstance(old_space, spaces.Box)\n",
    "        self.observation_space = spaces.Box(\n",
    "            self.observation(old_space.low), self.observation(old_space.high),\n",
    "            dtype=np.float32\n",
    "        )\n",
    "\n",
    "    def observation(self, observation: gym.core.ObsType) -> gym.core.ObsType:\n",
    "        # resize image\n",
    "        new_obs = cv2.resize(\n",
    "            observation, (IMAGE_SIZE, IMAGE_SIZE))\n",
    "        # transform (w, h, c) -> (c, w, h)\n",
    "        new_obs = np.moveaxis(new_obs, 2, 0)\n",
    "        return new_obs.astype(np.float32)"
   ]
  },
  {
   "cell_type": "code",
   "execution_count": 8,
   "id": "dcaff56d-6dca-4202-a2e3-02a8f81e3806",
   "metadata": {},
   "outputs": [],
   "source": [
    "class Discriminator(nn.Module):\n",
    "    def __init__(self, input_shape):\n",
    "        super(Discriminator, self).__init__()\n",
    "        # this pipe converges image into the single number\n",
    "        self.conv_pipe = nn.Sequential(\n",
    "            nn.Conv2d(in_channels=input_shape[0], out_channels=DISCR_FILTERS,\n",
    "                      kernel_size=4, stride=2, padding=1),\n",
    "            nn.ReLU(),\n",
    "            nn.Conv2d(in_channels=DISCR_FILTERS, out_channels=DISCR_FILTERS*2,\n",
    "                      kernel_size=4, stride=2, padding=1),\n",
    "            nn.BatchNorm2d(DISCR_FILTERS*2),\n",
    "            nn.ReLU(),\n",
    "            nn.Conv2d(in_channels=DISCR_FILTERS * 2, out_channels=DISCR_FILTERS * 4,\n",
    "                      kernel_size=4, stride=2, padding=1),\n",
    "            nn.BatchNorm2d(DISCR_FILTERS * 4),\n",
    "            nn.ReLU(),\n",
    "            nn.Conv2d(in_channels=DISCR_FILTERS * 4, out_channels=DISCR_FILTERS * 8,\n",
    "                      kernel_size=4, stride=2, padding=1),\n",
    "            nn.BatchNorm2d(DISCR_FILTERS * 8),\n",
    "            nn.ReLU(),\n",
    "            nn.Conv2d(in_channels=DISCR_FILTERS * 8, out_channels=1,\n",
    "                      kernel_size=4, stride=1, padding=0),\n",
    "            nn.Sigmoid()\n",
    "        )\n",
    "\n",
    "    def forward(self, x):\n",
    "        conv_out = self.conv_pipe(x)\n",
    "        return conv_out.view(-1, 1).squeeze(dim=1)"
   ]
  },
  {
   "cell_type": "code",
   "execution_count": 9,
   "id": "82092c52-608d-458e-8ba2-b27a8f87429d",
   "metadata": {},
   "outputs": [],
   "source": [
    "class Generator(nn.Module):\n",
    "    def __init__(self, output_shape):\n",
    "        super(Generator, self).__init__()\n",
    "        # pipe deconvolves input vector into (3, 64, 64) image\n",
    "        self.pipe = nn.Sequential(\n",
    "            nn.ConvTranspose2d(in_channels=LATENT_VECTOR_SIZE, out_channels=GENER_FILTERS * 8,\n",
    "                               kernel_size=4, stride=1, padding=0),\n",
    "            nn.BatchNorm2d(GENER_FILTERS * 8),\n",
    "            nn.ReLU(),\n",
    "            nn.ConvTranspose2d(in_channels=GENER_FILTERS * 8, out_channels=GENER_FILTERS * 4,\n",
    "                               kernel_size=4, stride=2, padding=1),\n",
    "            nn.BatchNorm2d(GENER_FILTERS * 4),\n",
    "            nn.ReLU(),\n",
    "            nn.ConvTranspose2d(in_channels=GENER_FILTERS * 4, out_channels=GENER_FILTERS * 2,\n",
    "                               kernel_size=4, stride=2, padding=1),\n",
    "            nn.BatchNorm2d(GENER_FILTERS * 2),\n",
    "            nn.ReLU(),\n",
    "            nn.ConvTranspose2d(in_channels=GENER_FILTERS * 2, out_channels=GENER_FILTERS,\n",
    "                               kernel_size=4, stride=2, padding=1),\n",
    "            nn.BatchNorm2d(GENER_FILTERS),\n",
    "            nn.ReLU(),\n",
    "            nn.ConvTranspose2d(in_channels=GENER_FILTERS, out_channels=output_shape[0],\n",
    "                               kernel_size=4, stride=2, padding=1),\n",
    "            nn.Tanh()\n",
    "        )\n",
    "\n",
    "    def forward(self, x):\n",
    "        return self.pipe(x)"
   ]
  },
  {
   "cell_type": "code",
   "execution_count": 10,
   "id": "1ab3d5bd-09a4-457c-90d6-b33e181080af",
   "metadata": {},
   "outputs": [],
   "source": [
    "def iterate_batches(envs: tt.List[gym.Env],\n",
    "                    batch_size: int = BATCH_SIZE) -> tt.Generator[torch.Tensor, None, None]:\n",
    "    batch = [e.reset()[0] for e in envs]\n",
    "    env_gen = iter(lambda: random.choice(envs), None)\n",
    "\n",
    "    while True:\n",
    "        e = next(env_gen)\n",
    "        action = e.action_space.sample()\n",
    "        obs, reward, is_done, is_trunc, _ = e.step(action)\n",
    "        if np.mean(obs) > 0.01:\n",
    "            batch.append(obs)\n",
    "        if len(batch) == batch_size:\n",
    "            batch_np = np.array(batch, dtype=np.float32)\n",
    "            # Normalising input to [-1..1] and convert to tensor\n",
    "            yield torch.tensor(batch_np * 2.0 / 255.0 - 1.0)\n",
    "            batch.clear()\n",
    "        if is_done or is_trunc:\n",
    "            e.reset()"
   ]
  },
  {
   "cell_type": "code",
   "execution_count": 11,
   "id": "5ee45e87-4d37-4b28-b2cd-18abd1ca1fed",
   "metadata": {},
   "outputs": [
    {
     "name": "stderr",
     "output_type": "stream",
     "text": [
      "A.L.E: Arcade Learning Environment (version 0.10.1+unknown)\n",
      "[Powered by Stella]\n"
     ]
    },
    {
     "name": "stdout",
     "output_type": "stream",
     "text": [
      "Iter 1000 in 0.85s: gen_loss=8.128e+00, dis_loss=9.843e-04\t\t\n",
      "Training stopped.\n"
     ]
    }
   ],
   "source": [
    "envs = [\n",
    "    InputWrapper(gym.make(name))\n",
    "    for name in ('Breakout-v4', 'AirRaid-v4', 'Pong-v4')\n",
    "]\n",
    "shape = envs[0].observation_space.shape\n",
    "\n",
    "net_discr = Discriminator(input_shape=shape).to(device)\n",
    "net_gener = Generator(output_shape=shape).to(device)\n",
    "\n",
    "objective = nn.BCELoss()\n",
    "gen_optimizer = optim.Adam(params=net_gener.parameters(), lr=LEARNING_RATE,\n",
    "                           betas=(0.5, 0.999))\n",
    "dis_optimizer = optim.Adam(params=net_discr.parameters(), lr=LEARNING_RATE,\n",
    "                           betas=(0.5, 0.999))\n",
    "writer = SummaryWriter(flush_secs=5)\n",
    "\n",
    "gen_losses = []\n",
    "dis_losses = []\n",
    "iter_no = 0\n",
    "\n",
    "true_labels_v = torch.ones(BATCH_SIZE, device=device)\n",
    "fake_labels_v = torch.zeros(BATCH_SIZE, device=device)\n",
    "ts_start = time.time()\n",
    "\n",
    "try:\n",
    "    for batch_v in iterate_batches(envs):\n",
    "        # fake samples, input is 4D: batch, filters, x, y\n",
    "        gen_input_v = torch.FloatTensor(BATCH_SIZE, LATENT_VECTOR_SIZE, 1, 1)\n",
    "        gen_input_v.normal_(0, 1)\n",
    "        gen_input_v = gen_input_v.to(device)\n",
    "        batch_v = batch_v.to(device)\n",
    "        gen_output_v = net_gener(gen_input_v)\n",
    "    \n",
    "        # train discriminator\n",
    "        dis_optimizer.zero_grad()\n",
    "        dis_output_true_v = net_discr(batch_v)\n",
    "        dis_output_fake_v = net_discr(gen_output_v.detach())\n",
    "        dis_loss = objective(dis_output_true_v, true_labels_v) + \\\n",
    "                   objective(dis_output_fake_v, fake_labels_v)\n",
    "        dis_loss.backward()\n",
    "        dis_optimizer.step()\n",
    "        dis_losses.append(dis_loss.item())\n",
    "    \n",
    "        # train generator\n",
    "        gen_optimizer.zero_grad()\n",
    "        dis_output_v = net_discr(gen_output_v)\n",
    "        gen_loss_v = objective(dis_output_v, true_labels_v)\n",
    "        gen_loss_v.backward()\n",
    "        gen_optimizer.step()\n",
    "        gen_losses.append(gen_loss_v.item())\n",
    "    \n",
    "        iter_no += 1\n",
    "        if iter_no % REPORT_EVERY_ITER == 0:\n",
    "            dt = time.time() - ts_start\n",
    "            print(\n",
    "                f\"Iter {iter_no} in {dt:.2f}s: gen_loss={np.mean(gen_losses):.3e}, dis_loss={np.mean(dis_losses):.3e}\",\n",
    "                end=\"\\t\\t\\r\"\n",
    "            )\n",
    "            ts_start = time.time()\n",
    "            writer.add_scalar(\"gen_loss\", np.mean(gen_losses), iter_no)\n",
    "            writer.add_scalar(\"dis_loss\", np.mean(dis_losses), iter_no)\n",
    "            gen_losses = []\n",
    "            dis_losses = []\n",
    "        if iter_no % SAVE_IMAGE_EVERY_ITER == 0:\n",
    "            img = vutils.make_grid(gen_output_v.data[:64], normalize=True)\n",
    "            writer.add_image(\"fake\", img, iter_no)\n",
    "            img = vutils.make_grid(batch_v.data[:64], normalize=True)\n",
    "            writer.add_image(\"real\", img, iter_no)\n",
    "except KeyboardInterrupt:\n",
    "    print(\"\\nTraining stopped.\")"
   ]
  },
  {
   "cell_type": "markdown",
   "id": "8024e3ad-2ec5-42f5-b0fc-129d247e8103",
   "metadata": {},
   "source": [
    "## PyTorch Ignite"
   ]
  },
  {
   "cell_type": "code",
   "execution_count": 12,
   "id": "4a6afd0e-a2cd-42f5-994e-beb497d11119",
   "metadata": {},
   "outputs": [],
   "source": [
    "from ignite.engine import Engine, Events\n",
    "from ignite.handlers import Timer\n",
    "from ignite.metrics import RunningAverage\n",
    "from ignite.contrib.handlers import tensorboard_logger as tb_logger"
   ]
  },
  {
   "cell_type": "code",
   "execution_count": 13,
   "id": "95c3fd3a-078d-4b9a-b939-c2d9522aabbc",
   "metadata": {},
   "outputs": [
    {
     "name": "stdout",
     "output_type": "stream",
     "text": [
      "231500 in 0.84s: gen_loss=8.9097, dis_loss=0.0029\t\t\t"
     ]
    },
    {
     "name": "stderr",
     "output_type": "stream",
     "text": [
      "Engine run is terminating due to exception: \n"
     ]
    },
    {
     "name": "stdout",
     "output_type": "stream",
     "text": [
      "\n",
      "Training stopped.\n"
     ]
    }
   ],
   "source": [
    "envs = [\n",
    "    InputWrapper(gym.make(name))\n",
    "    for name in ('Breakout-v4', 'AirRaid-v4', 'Pong-v4')\n",
    "]\n",
    "shape = envs[0].observation_space.shape\n",
    "\n",
    "net_discr = Discriminator(input_shape=shape).to(device)\n",
    "net_gener = Generator(output_shape=shape).to(device)\n",
    "\n",
    "objective = nn.BCELoss()\n",
    "gen_optimizer = optim.Adam(params=net_gener.parameters(), lr=LEARNING_RATE,\n",
    "                           betas=(0.5, 0.999))\n",
    "dis_optimizer = optim.Adam(params=net_discr.parameters(), lr=LEARNING_RATE,\n",
    "                           betas=(0.5, 0.999))\n",
    "true_labels_v = torch.ones(BATCH_SIZE, device=device)\n",
    "fake_labels_v = torch.zeros(BATCH_SIZE, device=device)\n",
    "\n",
    "def process_batch(trainer, batch):\n",
    "    gen_input_v = torch.FloatTensor(BATCH_SIZE, LATENT_VECTOR_SIZE, 1, 1)\n",
    "    gen_input_v.normal_(0, 1)\n",
    "    gen_input_v = gen_input_v.to(device)\n",
    "    batch_v = batch.to(device)\n",
    "    gen_output_v = net_gener(gen_input_v)\n",
    "\n",
    "    # train discriminator\n",
    "    dis_optimizer.zero_grad()\n",
    "    dis_output_true_v = net_discr(batch_v)\n",
    "    dis_output_fake_v = net_discr(gen_output_v.detach())\n",
    "    dis_loss = objective(dis_output_true_v, true_labels_v) + \\\n",
    "               objective(dis_output_fake_v, fake_labels_v)\n",
    "    dis_loss.backward()\n",
    "    dis_optimizer.step()\n",
    "\n",
    "    # train generator\n",
    "    gen_optimizer.zero_grad()\n",
    "    dis_output_v = net_discr(gen_output_v)\n",
    "    gen_loss = objective(dis_output_v, true_labels_v)\n",
    "    gen_loss.backward()\n",
    "    gen_optimizer.step()\n",
    "\n",
    "    if trainer.state.iteration % SAVE_IMAGE_EVERY_ITER == 0:\n",
    "        fake_img = vutils.make_grid(gen_output_v.data[:64], normalize=True)\n",
    "        trainer.tb.writer.add_image(\"fake\", fake_img, trainer.state.iteration)\n",
    "        real_img = vutils.make_grid(batch_v.data[:64], normalize=True)\n",
    "        trainer.tb.writer.add_image(\"real\", real_img, trainer.state.iteration)\n",
    "        trainer.tb.writer.flush()\n",
    "    return dis_loss.item(), gen_loss.item()\n",
    "\n",
    "engine = Engine(process_batch)\n",
    "tb = tb_logger.TensorboardLogger(log_dir=None)\n",
    "engine.tb = tb\n",
    "RunningAverage(output_transform=lambda out: out[1]).attach(engine, \"avg_loss_gen\")\n",
    "RunningAverage(output_transform=lambda out: out[0]).attach(engine, \"avg_loss_dis\")\n",
    "\n",
    "handler = tb_logger.OutputHandler(tag=\"train\", metric_names=['avg_loss_gen', 'avg_loss_dis'])\n",
    "tb.attach(engine, log_handler=handler, event_name=Events.ITERATION_COMPLETED)\n",
    "\n",
    "timer = Timer()\n",
    "timer.attach(engine)\n",
    "\n",
    "@engine.on(Events.ITERATION_COMPLETED)\n",
    "def log_losses(trainer):\n",
    "    if trainer.state.iteration % REPORT_EVERY_ITER == 0:\n",
    "        print(\"{0} in {1:.2f}s: gen_loss={2:.4f}, dis_loss={3:.4f}\".format(\n",
    "            trainer.state.iteration,\n",
    "            timer.value(),\n",
    "            trainer.state.metrics['avg_loss_gen'],\n",
    "            trainer.state.metrics['avg_loss_dis'],\n",
    "        ), end=\"\\t\\t\\r\")\n",
    "        timer.reset()\n",
    "\n",
    "try:\n",
    "    engine.run(data=iterate_batches(envs))\n",
    "except KeyboardInterrupt:\n",
    "    print(\"\\nTraining stopped.\")"
   ]
  }
 ],
 "metadata": {
  "kernelspec": {
   "display_name": "Python 3 (ipykernel)",
   "language": "python",
   "name": "python3"
  },
  "language_info": {
   "codemirror_mode": {
    "name": "ipython",
    "version": 3
   },
   "file_extension": ".py",
   "mimetype": "text/x-python",
   "name": "python",
   "nbconvert_exporter": "python",
   "pygments_lexer": "ipython3",
   "version": "3.12.8"
  }
 },
 "nbformat": 4,
 "nbformat_minor": 5
}
