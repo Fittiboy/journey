{
 "cells": [
  {
   "cell_type": "markdown",
   "id": "63fab7aa-1ca7-420c-9c41-4aa3e3c1e7bd",
   "metadata": {},
   "source": [
    "# Day 17 - Debrief"
   ]
  },
  {
   "cell_type": "markdown",
   "id": "1ea56a85-58db-4dac-b0fb-d0a4d884f13f",
   "metadata": {},
   "source": [
    "## What I did today\n",
    "\n",
    "I continued with next section in DLPT's third chapter, and worked through the exercises 8.2-8.5 in Sutton & Barto. To complete these exercises, I also implemented Dyna and Dyna+ methods, as well as an action selector with an exploration bonus for my agents."
   ]
  },
  {
   "cell_type": "markdown",
   "id": "9cf77240-c1c3-4657-a007-079bb80ca4a3",
   "metadata": {},
   "source": [
    "## What I learned today\n",
    "\n",
    "I learned about the 12 data types available for PyTorch tensors, what the defaults are, and how they are cast.\n",
    "I also learned about the performance of different planning methods on the racetrack task, where I was able to see that applying an exploration bonus just to the action selection leads to better results, especially for high values of `\\kappa`, because it does not pollute the action-value estimates after an exploratory action is taken."
   ]
  },
  {
   "cell_type": "markdown",
   "id": "57421d82-dd11-4947-9db1-3abfc60bf0ae",
   "metadata": {},
   "source": [
    "## Notes and questions for the next day\n",
    "\n",
    "My new schedule method really shone today, showing me how much I can get done in little time. I should definitely keep this up."
   ]
  }
 ],
 "metadata": {
  "kernelspec": {
   "display_name": "Python 3 (ipykernel)",
   "language": "python",
   "name": "python3"
  },
  "language_info": {
   "codemirror_mode": {
    "name": "ipython",
    "version": 3
   },
   "file_extension": ".py",
   "mimetype": "text/x-python",
   "name": "python",
   "nbconvert_exporter": "python",
   "pygments_lexer": "ipython3",
   "version": "3.12.8"
  }
 },
 "nbformat": 4,
 "nbformat_minor": 5
}
