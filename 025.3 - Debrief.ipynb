{
 "cells": [
  {
   "cell_type": "markdown",
   "id": "c377e52e-7850-4916-a712-b5cb5c75388c",
   "metadata": {},
   "source": [
    "# Day 25 - Debrief"
   ]
  },
  {
   "cell_type": "markdown",
   "id": "d6588585-b623-47df-9184-96f4b835b8a9",
   "metadata": {},
   "source": [
    "## What I did today\n",
    "\n",
    "I finished the seventh chapter of DLPT, and worked through the eigth chapter as well. I spent most of that time training a convoluational network on the birds vs. airplanes problem."
   ]
  },
  {
   "cell_type": "markdown",
   "id": "070b4aaa-4c48-451d-a7cf-a2e63f1b5375",
   "metadata": {},
   "source": [
    "## What I learned today\n",
    "\n",
    "I learned a lot of practical knowledge about using PyTorch for computer vision tasks in particular, but for neural network training in general. I learned how to run a proper training and evaluation loop with model checkpointing, as well as nice result visualization."
   ]
  },
  {
   "cell_type": "markdown",
   "id": "14e2b809-f2c5-4c11-b102-c381fee1aacc",
   "metadata": {},
   "source": [
    "## Notes and questions for the next day\n",
    "\n",
    "Chapter 9 goes into generative models! I'm wondering how deeply the topic will be covered."
   ]
  }
 ],
 "metadata": {
  "kernelspec": {
   "display_name": "Python 3 (ipykernel)",
   "language": "python",
   "name": "python3"
  },
  "language_info": {
   "codemirror_mode": {
    "name": "ipython",
    "version": 3
   },
   "file_extension": ".py",
   "mimetype": "text/x-python",
   "name": "python",
   "nbconvert_exporter": "python",
   "pygments_lexer": "ipython3",
   "version": "3.12.8"
  }
 },
 "nbformat": 4,
 "nbformat_minor": 5
}
