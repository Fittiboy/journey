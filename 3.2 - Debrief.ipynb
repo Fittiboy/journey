{
 "cells": [
  {
   "cell_type": "markdown",
   "id": "5f9efbb7-4647-45e5-bcfd-0bfaf690e3bc",
   "metadata": {},
   "source": [
    "# Day 3 - Debrief"
   ]
  },
  {
   "cell_type": "markdown",
   "id": "21ad1efb-b77a-40c3-beb7-e43eace4ffe1",
   "metadata": {},
   "source": [
    "## What I did today\n",
    "\n",
    "Today, I finished the second chapter of Sutton & Barto, solving all exercises along the way, and implementing several algorithms for solving $k$-armed bandits in the process."
   ]
  },
  {
   "cell_type": "markdown",
   "id": "781fb488-efa8-4fc3-8b3a-b14b0072c8c1",
   "metadata": {},
   "source": [
    "## What I learned today\n",
    "\n",
    "I learned about using Upper Confidence Bound for action selection, and how this approach is of limited usefulness outside the realm of stationary bandit problems.\n",
    "\n",
    "Afterwards, I learned about the Gradient Bandit algorithm, which, instead of estimating action values, updates preferences for each action by estimating the gradient of the expected reward with respect to these preferences. Action selection is done via the $softmax$ function. This is a first look at a more generally useful algorithm, using stochastic gradient descent to improve a policy."
   ]
  },
  {
   "cell_type": "markdown",
   "id": "003becf7-33ff-4bc1-a0a9-b3b50b7a5e5c",
   "metadata": {},
   "source": [
    "## Notes and questions for the next day\n",
    "\n",
    "I spent a lot of time debugging, so I'm wondering whether I can learn to use my time programming more efficiently. I tend to write large chunks of untested code, as testing feels like a massive waste of time; an assumption that is of course constantly proven wrong."
   ]
  }
 ],
 "metadata": {
  "kernelspec": {
   "display_name": "Python 3 (ipykernel)",
   "language": "python",
   "name": "python3"
  },
  "language_info": {
   "codemirror_mode": {
    "name": "ipython",
    "version": 3
   },
   "file_extension": ".py",
   "mimetype": "text/x-python",
   "name": "python",
   "nbconvert_exporter": "python",
   "pygments_lexer": "ipython3",
   "version": "3.12.8"
  }
 },
 "nbformat": 4,
 "nbformat_minor": 5
}
