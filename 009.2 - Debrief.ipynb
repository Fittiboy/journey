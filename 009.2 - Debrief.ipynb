{
 "cells": [
  {
   "cell_type": "markdown",
   "id": "03eda2fb-87a3-4e4f-b3c6-0012b429715a",
   "metadata": {},
   "source": [
    "# Day 9 - Debrief"
   ]
  },
  {
   "cell_type": "markdown",
   "id": "2a6df974-1442-4062-ae58-3a3db3f9c441",
   "metadata": {},
   "source": [
    "## What I did today\n",
    "\n",
    "Today, I finished the fifth chapter of Sutton & Barto, wrapping up Monte Carlo methods. In the process, I solved all the (non-*) exercises, and implemented the racetrack as well. Additionally, I implemented Q-Learning, which shows up in a later part of the book, on this problem as well."
   ]
  },
  {
   "cell_type": "markdown",
   "id": "b98a2307-cf00-4e8d-84fa-99595ef84153",
   "metadata": {},
   "source": [
    "## What I learned today\n",
    "\n",
    "I learned how to write an incremental implementation of the value estimate updates under importance sampling, as well as how to use Monte Carlo with importance sampling to perform off-policy control. I also learned that I can tackle tasks much more easily when I get myself a small nudge from an LLM, by making it give me a structured, step-by-step approach to the task."
   ]
  },
  {
   "cell_type": "markdown",
   "id": "2e0c4b84-efbb-42a1-8f84-81eaf49de6b0",
   "metadata": {},
   "source": [
    "## Notes and questions for the next day\n",
    "\n",
    "Excited for TD!"
   ]
  }
 ],
 "metadata": {
  "kernelspec": {
   "display_name": "Python 3 (ipykernel)",
   "language": "python",
   "name": "python3"
  },
  "language_info": {
   "codemirror_mode": {
    "name": "ipython",
    "version": 3
   },
   "file_extension": ".py",
   "mimetype": "text/x-python",
   "name": "python",
   "nbconvert_exporter": "python",
   "pygments_lexer": "ipython3",
   "version": "3.12.8"
  }
 },
 "nbformat": 4,
 "nbformat_minor": 5
}
