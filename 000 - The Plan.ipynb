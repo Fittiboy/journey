{
 "cells": [
  {
   "attachments": {},
   "cell_type": "markdown",
   "id": "f785a908-22fa-42da-8dad-e9d43c91261f",
   "metadata": {},
   "source": [
    "# The Plan\n",
    "\n",
    "With [o1's assistance](https://chatgpt.com/c/67873a7f-fd7c-800e-9291-e3b0a1a66d0a)."
   ]
  },
  {
   "cell_type": "markdown",
   "id": "0bd29812-9b4b-4782-a6fb-cf70c3e423ae",
   "metadata": {
    "jp-MarkdownHeadingCollapsed": true
   },
   "source": [
    "## Day 1, 15.01.2025 $\\boldsymbol\\checkmark$"
   ]
  },
  {
   "cell_type": "markdown",
   "id": "aa6ebadf-f5f5-4e85-a1c4-652e784a78c2",
   "metadata": {
    "jp-MarkdownHeadingCollapsed": true
   },
   "source": [
    "### Schedule\n",
    "\n",
    "1. Set up environment (miniconda, Jupyter) $\\boldsymbol\\checkmark$\n",
    "1. Review basics of RL $\\boldsymbol\\checkmark$\n",
    "    1. Read Sutton & Barto Introduction $\\boldsymbol\\checkmark$\n",
    "    1. Read Sutton & Barto Chapter 2 (up to 2.4) $\\boldsymbol\\checkmark$\n",
    "    1. Watch David Silver Lecture 1 $\\boldsymbol\\checkmark$\n",
    "1. Debrief $\\boldsymbol\\checkmark$\n",
    "    * Summarize learned material $\\boldsymbol\\checkmark$\n",
    "    * Note questions that came up $\\boldsymbol\\checkmark$"
   ]
  },
  {
   "cell_type": "markdown",
   "id": "fc5e9cb2-51f0-4baf-986e-ea7e4165ca7b",
   "metadata": {
    "jp-MarkdownHeadingCollapsed": true
   },
   "source": [
    "## Day 2, 16.01.2025 $\\boldsymbol\\checkmark$"
   ]
  },
  {
   "cell_type": "markdown",
   "id": "cca923e3-6156-4daa-be32-4620921bea22",
   "metadata": {
    "jp-MarkdownHeadingCollapsed": true
   },
   "source": [
    "### Schedule\n",
    "\n",
    "1. Read Sutton & Barto Chapter 2 (from 2.4 to ~~end~~ *2.7, not included*) $\\boldsymbol\\checkmark$\n",
    "1. ~~Watch David Silver Lecture 2~~ *(Covers MDPs, which are the third chapter of the book)*\n",
    "1. Implement Multi-Armed Bandit Experiment $\\boldsymbol\\checkmark$\n",
    "    * ~~Develop a plan, to get practice~~ *(I just winged it)*\n",
    "    * Implement $\\boldsymbol\\checkmark$\n",
    "1. ~~[Optional] Add more content to the day~~\n",
    "1. Debrief $\\boldsymbol\\checkmark$\n",
    "    * Summarize learned material $\\boldsymbol\\checkmark$\n",
    "    * Note questions that came up $\\boldsymbol\\checkmark$"
   ]
  },
  {
   "cell_type": "markdown",
   "id": "b2eff864-ce1b-4c97-8e91-1a83e9bde964",
   "metadata": {
    "jp-MarkdownHeadingCollapsed": true
   },
   "source": [
    "## Day 3, 17.01.2025 $\\boldsymbol\\checkmark$"
   ]
  },
  {
   "cell_type": "markdown",
   "id": "4301ad40-d83c-4d2b-a911-e31f1369551b",
   "metadata": {
    "jp-MarkdownHeadingCollapsed": true
   },
   "source": [
    "### Schedule\n",
    "\n",
    "1. Read Sutton & Barto Chapter 2 (from 2.7 to end) $\\boldsymbol\\checkmark$\n",
    "    * 2.7  $\\boldsymbol\\checkmark$\n",
    "    * 2.8  $\\boldsymbol\\checkmark$\n",
    "    * 2.9  $\\boldsymbol\\checkmark$\n",
    "    * 2.10 $\\boldsymbol\\checkmark$\n",
    "1. ~~[Optional] Read Sutton & Barto Chapter 3~~\n",
    "1. ~~[Optional] Watch David Silver Lecture 2~~\n",
    "1. ~~[Optional] Add more content to the day~~\n",
    "1. Debrief $\\boldsymbol\\checkmark$\n",
    "    * Summarize learned material $\\boldsymbol\\checkmark$\n",
    "    * Note questions that came up $\\boldsymbol\\checkmark$"
   ]
  },
  {
   "cell_type": "markdown",
   "id": "5a2be062-5cb5-46be-9800-6f2137ba0c21",
   "metadata": {
    "jp-MarkdownHeadingCollapsed": true
   },
   "source": [
    "## Day 4, 18.01.2025 $\\boldsymbol\\checkmark$"
   ]
  },
  {
   "cell_type": "markdown",
   "id": "f210ef23-a4c7-4848-9f37-301d4cb5ea3c",
   "metadata": {
    "jp-MarkdownHeadingCollapsed": true
   },
   "source": [
    "### Schedule\n",
    "\n",
    "1. Begin Sutton & Barto Chapter 3 $\\boldsymbol\\checkmark$\n",
    "1. [Optional] Finish Sutton & Barto Chapter 3 $\\boldsymbol\\checkmark$\n",
    "1. [Optional] Watch David Silver Lecture 2 (if chapter 3 finished, and enough time) $\\boldsymbol\\checkmark$\n",
    "1. Debrief $\\boldsymbol\\checkmark$\n",
    "    * Summarize learned material $\\boldsymbol\\checkmark$\n",
    "    * Note questions that came up $\\boldsymbol\\checkmark$"
   ]
  },
  {
   "cell_type": "markdown",
   "id": "1522b931-7f01-46dd-9b0b-54e2a5aceeaf",
   "metadata": {
    "jp-MarkdownHeadingCollapsed": true
   },
   "source": [
    "## Day 5, 19.01.2025 $\\boldsymbol\\checkmark$"
   ]
  },
  {
   "cell_type": "markdown",
   "id": "b0b4b259-01ce-4ad0-a780-c02bf8d1d8b4",
   "metadata": {
    "jp-MarkdownHeadingCollapsed": true
   },
   "source": [
    "### Schedule\n",
    "\n",
    "1. Begin Sutton & Barto Chapter 4 $\\boldsymbol\\checkmark$\n",
    "    * 4.1 $\\boldsymbol\\checkmark$\n",
    "    * 4.2 $\\boldsymbol\\checkmark$\n",
    "1. ~~[Optional] Finish Sutton & Barto Chapter 4~~\n",
    "1. ~~[Optional] Watch David Silver Lecture 3 (if chapter 4 finished, and time permits)~~\n",
    "1. Debrief $\\boldsymbol\\checkmark$\n",
    "    * Summarize learned material $\\boldsymbol\\checkmark$\n",
    "    * Note questions that came up $\\boldsymbol\\checkmark$"
   ]
  },
  {
   "cell_type": "markdown",
   "id": "0fe51e1e-7edb-402c-8822-985b45c5dac7",
   "metadata": {
    "jp-MarkdownHeadingCollapsed": true
   },
   "source": [
    "## Day 6, 20.01.2025 $\\boldsymbol\\checkmark$"
   ]
  },
  {
   "cell_type": "markdown",
   "id": "566d2d44-35b1-4620-b4e5-297e5dacacef",
   "metadata": {
    "jp-MarkdownHeadingCollapsed": true
   },
   "source": [
    "### Schedule\n",
    "\n",
    "1. Continue Sutton & Barto Chapter 4 $\\boldsymbol\\checkmark$\n",
    "    * 4.3 $\\boldsymbol\\checkmark$\n",
    "1. ~~[Optional] Finish Sutton & Barto Chapter 4~~\n",
    "1. ~~[Optional] Watch David Silver Lecture 3 (if chapter 4 finished, and time permits)~~\n",
    "1. Debrief $\\boldsymbol\\checkmark$\n",
    "    * Summarize learned material $\\boldsymbol\\checkmark$\n",
    "    * Note questions that came up $\\boldsymbol\\checkmark$"
   ]
  },
  {
   "cell_type": "markdown",
   "id": "947a56fb-27cb-4eaa-b228-383898cfba89",
   "metadata": {
    "jp-MarkdownHeadingCollapsed": true
   },
   "source": [
    "## Day 7, 21.01.2025 $\\boldsymbol\\checkmark$"
   ]
  },
  {
   "cell_type": "markdown",
   "id": "f7331083-79ba-4c40-a9c8-569d42ae3291",
   "metadata": {
    "jp-MarkdownHeadingCollapsed": true
   },
   "source": [
    "### Schedule\n",
    "\n",
    "1. Continue Sutton & Barto Chapter 4 $\\boldsymbol\\checkmark$\n",
    "    * 4.4 $\\boldsymbol\\checkmark$\n",
    "    * 4.5 $\\boldsymbol\\checkmark$\n",
    "    * 4.6 $\\boldsymbol\\checkmark$\n",
    "    * 4.7 $\\boldsymbol\\checkmark$\n",
    "1. [Optional] Finish Sutton & Barto Chapter 4 $\\boldsymbol\\checkmark$\n",
    "1. [Optional] Watch David Silver Lecture 3 (if chapter 4 finished, and time permits) $\\boldsymbol\\checkmark$\n",
    "1. [Optional] Add more content to the day $\\boldsymbol\\checkmark$\n",
    "    * 5.1 $\\boldsymbol\\checkmark$\n",
    "1. Debrief $\\boldsymbol\\checkmark$\n",
    "    * Summarize learned material $\\boldsymbol\\checkmark$\n",
    "    * Note questions that came up $\\boldsymbol\\checkmark$"
   ]
  },
  {
   "cell_type": "markdown",
   "id": "6fe45e0f-b63e-4d40-a4f6-6be1856d5d5b",
   "metadata": {
    "jp-MarkdownHeadingCollapsed": true
   },
   "source": [
    "## Day 8, 22.01.2025 $\\boldsymbol\\checkmark$"
   ]
  },
  {
   "cell_type": "markdown",
   "id": "7853dad6-6e01-45e2-a5d4-d4d976495dec",
   "metadata": {
    "jp-MarkdownHeadingCollapsed": true
   },
   "source": [
    "### Schedule\n",
    "\n",
    "1. Continue Sutton & Barto Chapter 5 $\\boldsymbol\\checkmark$\n",
    "    * 5.2 $\\boldsymbol\\checkmark$\n",
    "    * 5.3 $\\boldsymbol\\checkmark$\n",
    "    * 5.4 $\\boldsymbol\\checkmark$\n",
    "    * 5.5 $\\boldsymbol\\checkmark$\n",
    "1. ~~[Optional] Finish Sutton & Barto Chapter 5~~\n",
    "1. ~~[Optional] Add more content to the day~~\n",
    "1. Debrief $\\boldsymbol\\checkmark$\n",
    "    * Summarize learned material $\\boldsymbol\\checkmark$\n",
    "    * Note questions that came up $\\boldsymbol\\checkmark$"
   ]
  },
  {
   "cell_type": "markdown",
   "id": "b9183fb5-f6d6-40a3-b312-4eed71162140",
   "metadata": {
    "jp-MarkdownHeadingCollapsed": true
   },
   "source": [
    "## Day 9, 23.01.2025 $\\boldsymbol\\checkmark$"
   ]
  },
  {
   "cell_type": "markdown",
   "id": "069dcef9-cb5f-4a63-9187-ea8db0e7163b",
   "metadata": {
    "jp-MarkdownHeadingCollapsed": true
   },
   "source": [
    "### Schedule\n",
    "\n",
    "1. Continue Sutton & Barto Chapter 5 $\\boldsymbol\\checkmark$\n",
    "1. [Optional] Finish Sutton & Barto Chapter 5 $\\boldsymbol\\checkmark$\n",
    "1. ~~[Optional] Add more content to the day~~\n",
    "1. Debrief $\\boldsymbol\\checkmark$\n",
    "    * Summarize learned material $\\boldsymbol\\checkmark$\n",
    "    * Note questions that came up $\\boldsymbol\\checkmark$"
   ]
  },
  {
   "cell_type": "markdown",
   "id": "8ddb22da-01a2-4a9a-801c-43381474e765",
   "metadata": {
    "jp-MarkdownHeadingCollapsed": true
   },
   "source": [
    "## Day 10, 24.01.2025 $\\boldsymbol\\checkmark$"
   ]
  },
  {
   "cell_type": "markdown",
   "id": "9c3c4dda-df58-4bf8-8f29-3d15a202de0b",
   "metadata": {
    "jp-MarkdownHeadingCollapsed": true
   },
   "source": [
    "### Schedule\n",
    "\n",
    "1. Begin Sutton & Barto Chapter 6 $\\boldsymbol\\checkmark$\n",
    "1. ~~[Optional] Finish Sutton & Barto Chapter 6~~\n",
    "1. ~~[Optional] Add more content to the day~~\n",
    "1. Debrief $\\boldsymbol\\checkmark$\n",
    "    * Summarize learned material $\\boldsymbol\\checkmark$\n",
    "    * Note questions that came up $\\boldsymbol\\checkmark$"
   ]
  },
  {
   "cell_type": "markdown",
   "id": "7d23bbea-ae39-44ef-8356-87f5737e86bf",
   "metadata": {
    "jp-MarkdownHeadingCollapsed": true
   },
   "source": [
    "## Day 11, 24.01.2025 $\\boldsymbol\\checkmark$"
   ]
  },
  {
   "cell_type": "markdown",
   "id": "3797a604-b731-4d20-ac11-b46d88f92ae2",
   "metadata": {
    "jp-MarkdownHeadingCollapsed": true
   },
   "source": [
    "### Schedule\n",
    "\n",
    "1. Continue Sutton & Barto Chapter 6 $\\boldsymbol\\checkmark$\n",
    "1. [Optional] Finish Sutton & Barto Chapter 6 $\\boldsymbol\\checkmark$\n",
    "1. [Optional] Add more content to the day $\\boldsymbol\\checkmark$\n",
    "    * 7.1 $\\boldsymbol\\checkmark$\n",
    "    * 7.2 $\\boldsymbol\\checkmark$\n",
    "1. Debrief $\\boldsymbol\\checkmark$\n",
    "    * Summarize learned material $\\boldsymbol\\checkmark$\n",
    "    * Note questions that came up $\\boldsymbol\\checkmark$"
   ]
  },
  {
   "cell_type": "markdown",
   "id": "3d077d43-dae6-4029-9ea6-a0432f436f66",
   "metadata": {
    "jp-MarkdownHeadingCollapsed": true
   },
   "source": [
    "## Day 12, 26.01.2025 $\\boldsymbol\\checkmark$"
   ]
  },
  {
   "cell_type": "markdown",
   "id": "96dfb701-a277-4b50-bf9c-31c85b70da8f",
   "metadata": {
    "jp-MarkdownHeadingCollapsed": true
   },
   "source": [
    "### Schedule\n",
    "\n",
    "1. Continue Sutton & Barto Chapter 7 $\\boldsymbol\\checkmark$\n",
    "1. ~~[Optional] Finish Sutton & Barto Chapter 7~~\n",
    "1. [Optional] Add more content to the day $\\boldsymbol\\checkmark$\n",
    "    * Implement simple generic Agent class $\\boldsymbol\\checkmark$\n",
    "        * ~~Add comments~~\n",
    "    * ~~Implement simple generic Environment class~~\n",
    "    * Implement simple generic ParameterStudy class $\\boldsymbol\\checkmark$\n",
    "        * ~~Add comments~~\n",
    "1. Debrief $\\boldsymbol\\checkmark$\n",
    "    * Summarize learned material $\\boldsymbol\\checkmark$\n",
    "    * Note questions that came up $\\boldsymbol\\checkmark$"
   ]
  },
  {
   "cell_type": "markdown",
   "id": "67d3c0a1-e42f-4bbd-af3c-496c66aa9b83",
   "metadata": {
    "jp-MarkdownHeadingCollapsed": true
   },
   "source": [
    "## Day 13, 27.01.2025 $\\boldsymbol\\checkmark$"
   ]
  },
  {
   "attachments": {},
   "cell_type": "markdown",
   "id": "8f8042f0-fddb-4588-9601-78ea21b2d56b",
   "metadata": {},
   "source": [
    "### Notes, short- and long-term:\n",
    "\n",
    "* Look at [Titans](https://arxiv.org/abs/2501.00663) more closely\n",
    "* Add some Deep Learning lessons\n",
    "    * [D2L.ai](https://d2l.ai/)\n",
    "    * [Optional supplementation with] [NNDL](http://neuralnetworksanddeeplearning.com/)\n",
    "    * [Optional for practice and fun] [fast.ai course](https://course.fast.ai/)\n",
    "    * Try each for a little bit, keep what works\n",
    "* Keep an eye on [JAX](https://jax.readthedocs.io/en/latest/quickstart.html)"
   ]
  },
  {
   "attachments": {},
   "cell_type": "markdown",
   "id": "06d99ed0-e97a-4e57-9a79-0bf9f3dc132f",
   "metadata": {},
   "source": [
    "### Schedule:\n",
    "\n",
    "1. Continue Sutton & Barto Chapter 7 $\\boldsymbol\\checkmark$\n",
    "1. [Optional] Finish Sutton & Barto Chapter 7 $\\boldsymbol\\checkmark$\n",
    "1. [Optional] Add more content to the day $\\boldsymbol\\checkmark$\n",
    "    * Implement simple generic Environment class $\\boldsymbol\\checkmark$\n",
    "        * ~~Add comments~~\n",
    "    * ~~Add comments to agents and parameter study~~\n",
    "    * Begin Stutton & Barto Chapter 8 $\\boldsymbol\\checkmark$\n",
    "    * Begin Deep Learning with PyTorch $\\boldsymbol\\checkmark$\n",
    "1. Debrief $\\boldsymbol\\checkmark$"
   ]
  },
  {
   "cell_type": "markdown",
   "id": "7ec1650a-6de7-4fb5-96c2-052ba21394b9",
   "metadata": {
    "jp-MarkdownHeadingCollapsed": true
   },
   "source": [
    "## Day 14, 28.01.2025 $\\boldsymbol\\checkmark$"
   ]
  },
  {
   "attachments": {},
   "cell_type": "markdown",
   "id": "e435dd8f-0ff9-471c-8275-b748951aae83",
   "metadata": {},
   "source": [
    "### Notes, short- and long-term:"
   ]
  },
  {
   "attachments": {},
   "cell_type": "markdown",
   "id": "f09c9ba8-89c3-47a6-8d80-c5bff47732ba",
   "metadata": {},
   "source": [
    "### Schedule:\n",
    "\n",
    "1. Continue DLPT Chapter 2 $\\boldsymbol\\checkmark$\n",
    "1. Continue Sutton & Barto Chapter 8 $\\boldsymbol\\checkmark$\n",
    "1. [Optional] Finish DLPT Chapter 2 $\\boldsymbol\\checkmark$\n",
    "1. ~~[Optional] Finish Sutton & Barto Chapter 8~~\n",
    "1. ~~[Optional] Add more content to the day~~\n",
    "1. Debrief $\\boldsymbol\\checkmark$"
   ]
  },
  {
   "cell_type": "markdown",
   "id": "7ea5b7e3-45df-4163-9f99-083aa6bcdb91",
   "metadata": {
    "jp-MarkdownHeadingCollapsed": true
   },
   "source": [
    "## Day 15, 29.01.2025 $\\boldsymbol\\checkmark$"
   ]
  },
  {
   "attachments": {},
   "cell_type": "markdown",
   "id": "6fea14f9-8a0f-4a6a-b7cf-eed29b916d90",
   "metadata": {},
   "source": [
    "### Notes, short- and long-term:"
   ]
  },
  {
   "attachments": {},
   "cell_type": "markdown",
   "id": "fb17e2fa-740a-4a34-ac81-98e40cfbcb55",
   "metadata": {},
   "source": [
    "### Schedule:\n",
    "\n",
    "1. Begin DLPT Chapter 3 $\\boldsymbol\\checkmark$\n",
    "1. ~~Continue Sutton & Barto Chapter 8~~\n",
    "1. ~~[Optional] Finish DLPT Chapter 3~~\n",
    "1. ~~[Optional] Finish Sutton & Barto Chapter 8~~\n",
    "1. [Optional] Add more content to the day $\\boldsymbol\\checkmark$\n",
    "    * Begin agents rewrite $\\boldsymbol\\checkmark$\n",
    "1. Debrief $\\boldsymbol\\checkmark$"
   ]
  },
  {
   "cell_type": "markdown",
   "id": "0b50a92c-5cb0-4258-a51e-5fcb53bb4af5",
   "metadata": {
    "jp-MarkdownHeadingCollapsed": true
   },
   "source": [
    "## Day 16, 30.01.2025 $\\boldsymbol\\checkmark$"
   ]
  },
  {
   "attachments": {},
   "cell_type": "markdown",
   "id": "65dd9c61-030b-4032-8e8a-4e78e15eecd8",
   "metadata": {},
   "source": [
    "### Notes, short- and long-term:\n",
    "\n",
    "* More planning\n",
    "    * Before each task, set an exact goal\n",
    "    * Adjust as needed, but try to reach goals first\n",
    "* Less highlighting\n",
    "    * I keep highlighting way too much in the text\n",
    "    * I take notes on things I really don't need to, just so they are \"complete\""
   ]
  },
  {
   "cell_type": "markdown",
   "id": "c2e6e05c-4421-4bd3-9888-e8b2494dc083",
   "metadata": {},
   "source": [
    "### Short-term goals\n",
    "\n",
    "* Intuitive understanding of not just using PyTorch tensors, but also how they are stored and accessed under the hood\n",
    "* Understanding of the effectiveness of the different RL methods encountered so far, and their respective advantages and drawbacks\n",
    "* Build tools to easily evaluate an agent\n",
    "* Build tools to easily evaluate multiple agents"
   ]
  },
  {
   "attachments": {},
   "cell_type": "markdown",
   "id": "cf346548-98fe-4e4c-ab28-f0503f7dec04",
   "metadata": {},
   "source": [
    "### Schedule:\n",
    "\n",
    "1. [x] Continue DLPT Chapter 3 (1h 5 min.)\n",
    "    * [x] Tensors: Multidimensional Arrays (15 min.)\n",
    "    * [x] Indexing tensors (5 min.)\n",
    "    * [x] Broadcasting (15 min.)\n",
    "    * [x] Named tensors (30 min.)\n",
    "1. [x] Debrief"
   ]
  },
  {
   "cell_type": "markdown",
   "id": "c11dc0a1-9c05-403a-a2a5-10cbc962cead",
   "metadata": {
    "jp-MarkdownHeadingCollapsed": true
   },
   "source": [
    "## Day 17, 31.01.2025 $\\boldsymbol\\checkmark$"
   ]
  },
  {
   "attachments": {},
   "cell_type": "markdown",
   "id": "fabf07ce-8861-4844-8cdc-c516ad8a52ec",
   "metadata": {},
   "source": [
    "### Notes, short- and long-term:\n",
    "\n",
    "* More planning\n",
    "    * Before each task, set an exact goal\n",
    "    * Adjust as needed, but try to reach goals first\n",
    "    * This is going well so far, as I've started keeping a running schedule that spans across days, letting me split everything up into man subtasks\n",
    "* Less highlighting\n",
    "    * I keep highlighting way too much in the text\n",
    "    * I take notes on things I really don't need to, just so they are \"complete\"\n",
    "    * Getting better at this, I think"
   ]
  },
  {
   "cell_type": "markdown",
   "id": "084d5850-d465-4db5-8ef0-932eb203b76e",
   "metadata": {},
   "source": [
    "### Short-term goals\n",
    "\n",
    "* Intuitive understanding of not just using PyTorch tensors, but also how they are stored and accessed under the hood\n",
    "* Understanding of the effectiveness of the different RL methods encountered so far, and their respective advantages and drawbacks\n",
    "* Build tools to easily evaluate an agent\n",
    "* Build tools to easily evaluate multiple agents"
   ]
  },
  {
   "attachments": {},
   "cell_type": "markdown",
   "id": "d4e87207-49fe-423d-abca-1c19a2ebbaef",
   "metadata": {},
   "source": [
    "### Schedule:\n",
    "\n",
    "1. [x] Continue DLPT Chapter 3 (25 min.)\n",
    "    * [x] Tensor element types (25 min.)\n",
    "1. [x] Continue Sutton & Barto Chapter 8 (1h 20 min.)\n",
    "    * [x] Exercises 8.2 - 8.4 (5 min.)\n",
    "    * [x] Exercises 8.4 - 8.5 (1h 15 min.)\n",
    "1. [x] Continue library rewrite (45 min.)\n",
    "    * [x] Dyna for new `agents.py` (45 min.)\n",
    "1. [x] Debrief"
   ]
  },
  {
   "cell_type": "markdown",
   "id": "4b93c866-9321-4ff5-a501-343b99bf9563",
   "metadata": {
    "jp-MarkdownHeadingCollapsed": true
   },
   "source": [
    "## Day 18, 01.02.2025 $\\boldsymbol\\checkmark$"
   ]
  },
  {
   "attachments": {},
   "cell_type": "markdown",
   "id": "5f62a35c-16cb-4f0f-b812-cbeca522c241",
   "metadata": {},
   "source": [
    "### Notes, short- and long-term:\n",
    "\n",
    "* More planning\n",
    "    * Before each task, set an exact goal\n",
    "    * Adjust as needed, but try to reach goals first\n",
    "    * This is going well so far, as I've started keeping a running schedule that spans across days, letting me split everything up into man subtasks\n",
    "* Less highlighting of unnecessary details and asides\n",
    "    * Getting better at this, I think\n",
    "* I want to learn how to write more complete code, including\n",
    "    * Logging\n",
    "    * Debugging\n",
    "    * Tests\n",
    "    * Profiling and optimization"
   ]
  },
  {
   "cell_type": "markdown",
   "id": "64d285d5-23fe-4f0c-91fe-bbd380733b48",
   "metadata": {},
   "source": [
    "### Short-term goals\n",
    "\n",
    "* Make it easier to begin my tasks\n",
    "    * Preparing for the day as a separate, low-expectation goal\n",
    "* Make it easier to switch between them"
   ]
  },
  {
   "attachments": {},
   "cell_type": "markdown",
   "id": "09a0ba10-7699-4112-b938-f6881250814a",
   "metadata": {},
   "source": [
    "### Schedule:\n",
    "\n",
    "1. [x] Prepare the day and review (15 min.)\n",
    "1. [x] Finish DLPT Chapter 3 (1h 45 min.)\n",
    "    * [x] The tensor API (10 min.)\n",
    "    * [x] Tensors: Scenic views of storage (15 min.)\n",
    "    * [x] Tensor metadata: Size, offset, and stride (30 min.)\n",
    "    * [x] Moving tensors to the GPU (10 min.)\n",
    "    * [x] NumPy interoperability (5 min.)\n",
    "    * [x] Generalized tensors are tensors, too (5 min.)\n",
    "    * [x] Serializing tensors (10 min.)\n",
    "    * [x] Conclusion (5 min.)\n",
    "    * [x] Exercises (20 min.)\n",
    "1. [x] Debrief"
   ]
  },
  {
   "cell_type": "markdown",
   "id": "91da89a4-dd20-4681-9ee1-6cf096d04eef",
   "metadata": {},
   "source": [
    "## Day 19, 02.02.2025 $\\boldsymbol\\leftarrow$"
   ]
  },
  {
   "attachments": {},
   "cell_type": "markdown",
   "id": "560c232d-08db-46c2-a6a5-41ad7d5ae751",
   "metadata": {},
   "source": [
    "### Notes, short- and long-term:\n",
    "\n",
    "* I want to learn how to write more complete code, including\n",
    "    * Logging\n",
    "    * Debugging\n",
    "    * Tests\n",
    "    * Profiling and optimization"
   ]
  },
  {
   "cell_type": "markdown",
   "id": "957f4363-c117-4ab8-90d1-d9fc5b6f25a6",
   "metadata": {},
   "source": [
    "### Short-term goals\n",
    "\n",
    "* Make it easier to begin my tasks\n",
    "    * Preparing for the day as a separate, low-expectation goal\n",
    "* Make it easier to switch between them"
   ]
  },
  {
   "attachments": {},
   "cell_type": "markdown",
   "id": "98442192-409e-4814-9fc4-fc010f1c3914",
   "metadata": {},
   "source": [
    "### Schedule:\n",
    "\n",
    "1. [x] Prepare the day and review (5 min.)\n",
    "1. [ ] Begin DLPT Chapter 4\n",
    "    * [x] Working with images (30 min.)\n",
    "    * [x] 3D images: Volumetric data (10 min.)\n",
    "    * [ ] Representing tabular data\n",
    "    * [ ] Working with time series\n",
    "    * [ ] Representing text\n",
    "    * [ ] Conclusion\n",
    "    * [ ] Exercises\n",
    "1. [ ] Continue Sutton & Barto Chapter 8\n",
    "    * [ ] Prioritized Sweeping\n",
    "    * [ ] Expected vs. Sample Updates\n",
    "    * [ ] Trajectory Sampling\n",
    "    * [ ] Real-Time Dynamic Programming\n",
    "    * [ ] Planning at Decision Time\n",
    "    * [ ] Heuristic Search\n",
    "    * [ ] Rollout Algorithms\n",
    "    * [ ] Monte Carlo Tree Search\n",
    "    * [ ] Summary of the Chapter\n",
    "    * [ ] Summary of Part I: Dimensions\n",
    "1. [ ] Continue library rewrite\n",
    "    * [x] Agent + component serialization (35 min.)\n",
    "        * [x] Ensure everything is a `dataclass` (5 min.)\n",
    "        * [x] Implement simple serialization via `pickle.dump` (30 min.)\n",
    "    * [x] Easy evaluation methods (15 min.)\n",
    "        * [x] Cumulative reward over episodes\n",
    "        * [x] Cumulative episodes over timesteps\n",
    "    * [x] Simple grid world environment for debugging (15 min.)\n",
    "    * [x] Update RaceTrack to streamline (40 min.)\n",
    "    * [ ] Multiprocess agent eval\n",
    "        * [ ] Pass agent filepaths to trainer pool\n",
    "        * [ ] Trainer pool creates trainers and loads agents\n",
    "        * [ ] Trainer writes agents to new files\n",
    "            * This is easier than trying to get `Pipe`s to work\n",
    "            * Has the advantage of persistence\n",
    "1. [ ] Debrief"
   ]
  }
 ],
 "metadata": {
  "kernelspec": {
   "display_name": "Python 3 (ipykernel)",
   "language": "python",
   "name": "python3"
  },
  "language_info": {
   "codemirror_mode": {
    "name": "ipython",
    "version": 3
   },
   "file_extension": ".py",
   "mimetype": "text/x-python",
   "name": "python",
   "nbconvert_exporter": "python",
   "pygments_lexer": "ipython3",
   "version": "3.12.8"
  }
 },
 "nbformat": 4,
 "nbformat_minor": 5
}
