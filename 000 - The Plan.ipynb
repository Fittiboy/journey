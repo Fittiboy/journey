{
 "cells": [
  {
   "attachments": {},
   "cell_type": "markdown",
   "id": "f785a908-22fa-42da-8dad-e9d43c91261f",
   "metadata": {},
   "source": [
    "# The Plan\n",
    "\n",
    "With [o1's assistance](https://chatgpt.com/c/67873a7f-fd7c-800e-9291-e3b0a1a66d0a)."
   ]
  },
  {
   "cell_type": "markdown",
   "id": "0bd29812-9b4b-4782-a6fb-cf70c3e423ae",
   "metadata": {
    "jp-MarkdownHeadingCollapsed": true
   },
   "source": [
    "## Day 1, 15.01.2025 $\\boldsymbol\\checkmark$"
   ]
  },
  {
   "cell_type": "markdown",
   "id": "aa6ebadf-f5f5-4e85-a1c4-652e784a78c2",
   "metadata": {
    "jp-MarkdownHeadingCollapsed": true
   },
   "source": [
    "### Schedule\n",
    "\n",
    "1. Set up environment (miniconda, Jupyter) $\\boldsymbol\\checkmark$\n",
    "1. Review basics of RL $\\boldsymbol\\checkmark$\n",
    "    1. Read Sutton & Barto Introduction $\\boldsymbol\\checkmark$\n",
    "    1. Read Sutton & Barto Chapter 2 (up to 2.4) $\\boldsymbol\\checkmark$\n",
    "    1. Watch David Silver Lecture 1 $\\boldsymbol\\checkmark$\n",
    "1. Debrief $\\boldsymbol\\checkmark$\n",
    "    * Summarize learned material $\\boldsymbol\\checkmark$\n",
    "    * Note questions that came up $\\boldsymbol\\checkmark$"
   ]
  },
  {
   "cell_type": "markdown",
   "id": "fc5e9cb2-51f0-4baf-986e-ea7e4165ca7b",
   "metadata": {
    "jp-MarkdownHeadingCollapsed": true
   },
   "source": [
    "## Day 2, 16.01.2025 $\\boldsymbol\\checkmark$"
   ]
  },
  {
   "cell_type": "markdown",
   "id": "cca923e3-6156-4daa-be32-4620921bea22",
   "metadata": {
    "jp-MarkdownHeadingCollapsed": true
   },
   "source": [
    "### Schedule\n",
    "\n",
    "1. Read Sutton & Barto Chapter 2 (from 2.4 to ~~end~~ *2.7, not included*) $\\boldsymbol\\checkmark$\n",
    "1. ~~Watch David Silver Lecture 2~~ *(Covers MDPs, which are the third chapter of the book)*\n",
    "1. Implement Multi-Armed Bandit Experiment $\\boldsymbol\\checkmark$\n",
    "    * ~~Develop a plan, to get practice~~ *(I just winged it)*\n",
    "    * Implement $\\boldsymbol\\checkmark$\n",
    "1. ~~[Optional] Add more content to the day~~\n",
    "1. Debrief $\\boldsymbol\\checkmark$\n",
    "    * Summarize learned material $\\boldsymbol\\checkmark$\n",
    "    * Note questions that came up $\\boldsymbol\\checkmark$"
   ]
  },
  {
   "cell_type": "markdown",
   "id": "b2eff864-ce1b-4c97-8e91-1a83e9bde964",
   "metadata": {
    "jp-MarkdownHeadingCollapsed": true
   },
   "source": [
    "## Day 3, 17.01.2025 $\\boldsymbol\\checkmark$"
   ]
  },
  {
   "cell_type": "markdown",
   "id": "4301ad40-d83c-4d2b-a911-e31f1369551b",
   "metadata": {
    "jp-MarkdownHeadingCollapsed": true
   },
   "source": [
    "### Schedule\n",
    "\n",
    "1. Read Sutton & Barto Chapter 2 (from 2.7 to end) $\\boldsymbol\\checkmark$\n",
    "    * 2.7  $\\boldsymbol\\checkmark$\n",
    "    * 2.8  $\\boldsymbol\\checkmark$\n",
    "    * 2.9  $\\boldsymbol\\checkmark$\n",
    "    * 2.10 $\\boldsymbol\\checkmark$\n",
    "1. ~~[Optional] Read Sutton & Barto Chapter 3~~\n",
    "1. ~~[Optional] Watch David Silver Lecture 2~~\n",
    "1. ~~[Optional] Add more content to the day~~\n",
    "1. Debrief $\\boldsymbol\\checkmark$\n",
    "    * Summarize learned material $\\boldsymbol\\checkmark$\n",
    "    * Note questions that came up $\\boldsymbol\\checkmark$"
   ]
  },
  {
   "cell_type": "markdown",
   "id": "5a2be062-5cb5-46be-9800-6f2137ba0c21",
   "metadata": {
    "jp-MarkdownHeadingCollapsed": true
   },
   "source": [
    "## Day 4, 18.01.2025 $\\boldsymbol\\checkmark$"
   ]
  },
  {
   "cell_type": "markdown",
   "id": "f210ef23-a4c7-4848-9f37-301d4cb5ea3c",
   "metadata": {
    "jp-MarkdownHeadingCollapsed": true
   },
   "source": [
    "### Schedule\n",
    "\n",
    "1. Begin Sutton & Barto Chapter 3 $\\boldsymbol\\checkmark$\n",
    "1. [Optional] Finish Sutton & Barto Chapter 3 $\\boldsymbol\\checkmark$\n",
    "1. [Optional] Watch David Silver Lecture 2 (if chapter 3 finished, and enough time) $\\boldsymbol\\checkmark$\n",
    "1. Debrief $\\boldsymbol\\checkmark$\n",
    "    * Summarize learned material $\\boldsymbol\\checkmark$\n",
    "    * Note questions that came up $\\boldsymbol\\checkmark$"
   ]
  },
  {
   "cell_type": "markdown",
   "id": "1522b931-7f01-46dd-9b0b-54e2a5aceeaf",
   "metadata": {
    "jp-MarkdownHeadingCollapsed": true
   },
   "source": [
    "## Day 5, 19.01.2025 $\\boldsymbol\\checkmark$"
   ]
  },
  {
   "cell_type": "markdown",
   "id": "b0b4b259-01ce-4ad0-a780-c02bf8d1d8b4",
   "metadata": {
    "jp-MarkdownHeadingCollapsed": true
   },
   "source": [
    "### Schedule\n",
    "\n",
    "1. Begin Sutton & Barto Chapter 4 $\\boldsymbol\\checkmark$\n",
    "    * 4.1 $\\boldsymbol\\checkmark$\n",
    "    * 4.2 $\\boldsymbol\\checkmark$\n",
    "1. ~~[Optional] Finish Sutton & Barto Chapter 4~~\n",
    "1. ~~[Optional] Watch David Silver Lecture 3 (if chapter 4 finished, and time permits)~~\n",
    "1. Debrief $\\boldsymbol\\checkmark$\n",
    "    * Summarize learned material $\\boldsymbol\\checkmark$\n",
    "    * Note questions that came up $\\boldsymbol\\checkmark$"
   ]
  },
  {
   "cell_type": "markdown",
   "id": "0fe51e1e-7edb-402c-8822-985b45c5dac7",
   "metadata": {
    "jp-MarkdownHeadingCollapsed": true
   },
   "source": [
    "## Day 6, 20.01.2025 $\\boldsymbol\\checkmark$"
   ]
  },
  {
   "cell_type": "markdown",
   "id": "566d2d44-35b1-4620-b4e5-297e5dacacef",
   "metadata": {
    "jp-MarkdownHeadingCollapsed": true
   },
   "source": [
    "### Schedule\n",
    "\n",
    "1. Continue Sutton & Barto Chapter 4 $\\boldsymbol\\checkmark$\n",
    "    * 4.3 $\\boldsymbol\\checkmark$\n",
    "1. ~~[Optional] Finish Sutton & Barto Chapter 4~~\n",
    "1. ~~[Optional] Watch David Silver Lecture 3 (if chapter 4 finished, and time permits)~~\n",
    "1. Debrief $\\boldsymbol\\checkmark$\n",
    "    * Summarize learned material $\\boldsymbol\\checkmark$\n",
    "    * Note questions that came up $\\boldsymbol\\checkmark$"
   ]
  },
  {
   "cell_type": "markdown",
   "id": "947a56fb-27cb-4eaa-b228-383898cfba89",
   "metadata": {
    "jp-MarkdownHeadingCollapsed": true
   },
   "source": [
    "## Day 7, 21.01.2025 $\\boldsymbol\\checkmark$"
   ]
  },
  {
   "cell_type": "markdown",
   "id": "f7331083-79ba-4c40-a9c8-569d42ae3291",
   "metadata": {
    "jp-MarkdownHeadingCollapsed": true
   },
   "source": [
    "### Schedule\n",
    "\n",
    "1. Continue Sutton & Barto Chapter 4 $\\boldsymbol\\checkmark$\n",
    "    * 4.4 $\\boldsymbol\\checkmark$\n",
    "    * 4.5 $\\boldsymbol\\checkmark$\n",
    "    * 4.6 $\\boldsymbol\\checkmark$\n",
    "    * 4.7 $\\boldsymbol\\checkmark$\n",
    "1. [Optional] Finish Sutton & Barto Chapter 4 $\\boldsymbol\\checkmark$\n",
    "1. [Optional] Watch David Silver Lecture 3 (if chapter 4 finished, and time permits) $\\boldsymbol\\checkmark$\n",
    "1. [Optional] Add more content to the day $\\boldsymbol\\checkmark$\n",
    "    * 5.1 $\\boldsymbol\\checkmark$\n",
    "1. Debrief $\\boldsymbol\\checkmark$\n",
    "    * Summarize learned material $\\boldsymbol\\checkmark$\n",
    "    * Note questions that came up $\\boldsymbol\\checkmark$"
   ]
  },
  {
   "cell_type": "markdown",
   "id": "6fe45e0f-b63e-4d40-a4f6-6be1856d5d5b",
   "metadata": {
    "jp-MarkdownHeadingCollapsed": true
   },
   "source": [
    "## Day 8, 22.01.2025 $\\boldsymbol\\checkmark$"
   ]
  },
  {
   "cell_type": "markdown",
   "id": "7853dad6-6e01-45e2-a5d4-d4d976495dec",
   "metadata": {
    "jp-MarkdownHeadingCollapsed": true
   },
   "source": [
    "### Schedule\n",
    "\n",
    "1. Continue Sutton & Barto Chapter 5 $\\boldsymbol\\checkmark$\n",
    "    * 5.2 $\\boldsymbol\\checkmark$\n",
    "    * 5.3 $\\boldsymbol\\checkmark$\n",
    "    * 5.4 $\\boldsymbol\\checkmark$\n",
    "    * 5.5 $\\boldsymbol\\checkmark$\n",
    "1. ~~[Optional] Finish Sutton & Barto Chapter 5~~\n",
    "1. ~~[Optional] Add more content to the day~~\n",
    "1. Debrief $\\boldsymbol\\checkmark$\n",
    "    * Summarize learned material $\\boldsymbol\\checkmark$\n",
    "    * Note questions that came up $\\boldsymbol\\checkmark$"
   ]
  },
  {
   "cell_type": "markdown",
   "id": "b9183fb5-f6d6-40a3-b312-4eed71162140",
   "metadata": {
    "jp-MarkdownHeadingCollapsed": true
   },
   "source": [
    "## Day 9, 23.01.2025 $\\boldsymbol\\checkmark$"
   ]
  },
  {
   "cell_type": "markdown",
   "id": "069dcef9-cb5f-4a63-9187-ea8db0e7163b",
   "metadata": {
    "jp-MarkdownHeadingCollapsed": true
   },
   "source": [
    "### Schedule\n",
    "\n",
    "1. Continue Sutton & Barto Chapter 5 $\\boldsymbol\\checkmark$\n",
    "1. [Optional] Finish Sutton & Barto Chapter 5 $\\boldsymbol\\checkmark$\n",
    "1. ~~[Optional] Add more content to the day~~\n",
    "1. Debrief $\\boldsymbol\\checkmark$\n",
    "    * Summarize learned material $\\boldsymbol\\checkmark$\n",
    "    * Note questions that came up $\\boldsymbol\\checkmark$"
   ]
  },
  {
   "cell_type": "markdown",
   "id": "8ddb22da-01a2-4a9a-801c-43381474e765",
   "metadata": {
    "jp-MarkdownHeadingCollapsed": true
   },
   "source": [
    "## Day 10, 24.01.2025 $\\boldsymbol\\checkmark$"
   ]
  },
  {
   "cell_type": "markdown",
   "id": "9c3c4dda-df58-4bf8-8f29-3d15a202de0b",
   "metadata": {
    "jp-MarkdownHeadingCollapsed": true
   },
   "source": [
    "### Schedule\n",
    "\n",
    "1. Begin Sutton & Barto Chapter 6 $\\boldsymbol\\checkmark$\n",
    "1. ~~[Optional] Finish Sutton & Barto Chapter 6~~\n",
    "1. ~~[Optional] Add more content to the day~~\n",
    "1. Debrief $\\boldsymbol\\checkmark$\n",
    "    * Summarize learned material $\\boldsymbol\\checkmark$\n",
    "    * Note questions that came up $\\boldsymbol\\checkmark$"
   ]
  },
  {
   "cell_type": "markdown",
   "id": "7d23bbea-ae39-44ef-8356-87f5737e86bf",
   "metadata": {
    "jp-MarkdownHeadingCollapsed": true
   },
   "source": [
    "## Day 11, 24.01.2025 $\\boldsymbol\\checkmark$"
   ]
  },
  {
   "cell_type": "markdown",
   "id": "3797a604-b731-4d20-ac11-b46d88f92ae2",
   "metadata": {
    "jp-MarkdownHeadingCollapsed": true
   },
   "source": [
    "### Schedule\n",
    "\n",
    "1. Continue Sutton & Barto Chapter 6 $\\boldsymbol\\checkmark$\n",
    "1. [Optional] Finish Sutton & Barto Chapter 6 $\\boldsymbol\\checkmark$\n",
    "1. [Optional] Add more content to the day $\\boldsymbol\\checkmark$\n",
    "    * 7.1 $\\boldsymbol\\checkmark$\n",
    "    * 7.2 $\\boldsymbol\\checkmark$\n",
    "1. Debrief $\\boldsymbol\\checkmark$\n",
    "    * Summarize learned material $\\boldsymbol\\checkmark$\n",
    "    * Note questions that came up $\\boldsymbol\\checkmark$"
   ]
  },
  {
   "cell_type": "markdown",
   "id": "3d077d43-dae6-4029-9ea6-a0432f436f66",
   "metadata": {
    "jp-MarkdownHeadingCollapsed": true
   },
   "source": [
    "## Day 12, 26.01.2025 $\\boldsymbol\\checkmark$"
   ]
  },
  {
   "cell_type": "markdown",
   "id": "96dfb701-a277-4b50-bf9c-31c85b70da8f",
   "metadata": {
    "jp-MarkdownHeadingCollapsed": true
   },
   "source": [
    "### Schedule\n",
    "\n",
    "1. Continue Sutton & Barto Chapter 7 $\\boldsymbol\\checkmark$\n",
    "1. ~~[Optional] Finish Sutton & Barto Chapter 7~~\n",
    "1. [Optional] Add more content to the day $\\boldsymbol\\checkmark$\n",
    "    * Implement simple generic Agent class $\\boldsymbol\\checkmark$\n",
    "        * ~~Add comments~~\n",
    "    * ~~Implement simple generic Environment class~~\n",
    "    * Implement simple generic ParameterStudy class $\\boldsymbol\\checkmark$\n",
    "        * ~~Add comments~~\n",
    "1. Debrief $\\boldsymbol\\checkmark$\n",
    "    * Summarize learned material $\\boldsymbol\\checkmark$\n",
    "    * Note questions that came up $\\boldsymbol\\checkmark$"
   ]
  },
  {
   "cell_type": "markdown",
   "id": "67d3c0a1-e42f-4bbd-af3c-496c66aa9b83",
   "metadata": {
    "jp-MarkdownHeadingCollapsed": true
   },
   "source": [
    "## Day 13, 27.01.2025 $\\boldsymbol\\checkmark$"
   ]
  },
  {
   "attachments": {},
   "cell_type": "markdown",
   "id": "8f8042f0-fddb-4588-9601-78ea21b2d56b",
   "metadata": {},
   "source": [
    "### Notes, short- and long-term:\n",
    "\n",
    "* Look at [Titans](https://arxiv.org/abs/2501.00663) more closely\n",
    "* Add some Deep Learning lessons\n",
    "    * [D2L.ai](https://d2l.ai/)\n",
    "    * [Optional supplementation with] [NNDL](http://neuralnetworksanddeeplearning.com/)\n",
    "    * [Optional for practice and fun] [fast.ai course](https://course.fast.ai/)\n",
    "    * Try each for a little bit, keep what works\n",
    "* Keep an eye on [JAX](https://jax.readthedocs.io/en/latest/quickstart.html)"
   ]
  },
  {
   "attachments": {},
   "cell_type": "markdown",
   "id": "06d99ed0-e97a-4e57-9a79-0bf9f3dc132f",
   "metadata": {},
   "source": [
    "### Schedule:\n",
    "\n",
    "1. Continue Sutton & Barto Chapter 7 $\\boldsymbol\\checkmark$\n",
    "1. [Optional] Finish Sutton & Barto Chapter 7 $\\boldsymbol\\checkmark$\n",
    "1. [Optional] Add more content to the day $\\boldsymbol\\checkmark$\n",
    "    * Implement simple generic Environment class $\\boldsymbol\\checkmark$\n",
    "        * ~~Add comments~~\n",
    "    * ~~Add comments to agents and parameter study~~\n",
    "    * Begin Stutton & Barto Chapter 8 $\\boldsymbol\\checkmark$\n",
    "    * Begin Deep Learning with PyTorch $\\boldsymbol\\checkmark$\n",
    "1. Debrief $\\boldsymbol\\checkmark$"
   ]
  },
  {
   "cell_type": "markdown",
   "id": "7ec1650a-6de7-4fb5-96c2-052ba21394b9",
   "metadata": {
    "jp-MarkdownHeadingCollapsed": true
   },
   "source": [
    "## Day 14, 28.01.2025 $\\boldsymbol\\checkmark$"
   ]
  },
  {
   "attachments": {},
   "cell_type": "markdown",
   "id": "e435dd8f-0ff9-471c-8275-b748951aae83",
   "metadata": {},
   "source": [
    "### Notes, short- and long-term:"
   ]
  },
  {
   "attachments": {},
   "cell_type": "markdown",
   "id": "f09c9ba8-89c3-47a6-8d80-c5bff47732ba",
   "metadata": {},
   "source": [
    "### Schedule:\n",
    "\n",
    "1. Continue DLPT Chapter 2 $\\boldsymbol\\checkmark$\n",
    "1. Continue Sutton & Barto Chapter 8 $\\boldsymbol\\checkmark$\n",
    "1. [Optional] Finish DLPT Chapter 2 $\\boldsymbol\\checkmark$\n",
    "1. ~~[Optional] Finish Sutton & Barto Chapter 8~~\n",
    "1. ~~[Optional] Add more content to the day~~\n",
    "1. Debrief $\\boldsymbol\\checkmark$"
   ]
  },
  {
   "cell_type": "markdown",
   "id": "7ea5b7e3-45df-4163-9f99-083aa6bcdb91",
   "metadata": {
    "jp-MarkdownHeadingCollapsed": true
   },
   "source": [
    "## Day 15, 29.01.2025 $\\boldsymbol\\checkmark$"
   ]
  },
  {
   "attachments": {},
   "cell_type": "markdown",
   "id": "6fea14f9-8a0f-4a6a-b7cf-eed29b916d90",
   "metadata": {},
   "source": [
    "### Notes, short- and long-term:"
   ]
  },
  {
   "attachments": {},
   "cell_type": "markdown",
   "id": "fb17e2fa-740a-4a34-ac81-98e40cfbcb55",
   "metadata": {},
   "source": [
    "### Schedule:\n",
    "\n",
    "1. Begin DLPT Chapter 3 $\\boldsymbol\\checkmark$\n",
    "1. ~~Continue Sutton & Barto Chapter 8~~\n",
    "1. ~~[Optional] Finish DLPT Chapter 3~~\n",
    "1. ~~[Optional] Finish Sutton & Barto Chapter 8~~\n",
    "1. [Optional] Add more content to the day $\\boldsymbol\\checkmark$\n",
    "    * Begin agents rewrite $\\boldsymbol\\checkmark$\n",
    "1. Debrief $\\boldsymbol\\checkmark$"
   ]
  },
  {
   "cell_type": "markdown",
   "id": "0b50a92c-5cb0-4258-a51e-5fcb53bb4af5",
   "metadata": {
    "jp-MarkdownHeadingCollapsed": true
   },
   "source": [
    "## Day 16, 30.01.2025 $\\boldsymbol\\checkmark$"
   ]
  },
  {
   "attachments": {},
   "cell_type": "markdown",
   "id": "65dd9c61-030b-4032-8e8a-4e78e15eecd8",
   "metadata": {},
   "source": [
    "### Notes, short- and long-term:\n",
    "\n",
    "* More planning\n",
    "    * Before each task, set an exact goal\n",
    "    * Adjust as needed, but try to reach goals first\n",
    "* Less highlighting\n",
    "    * I keep highlighting way too much in the text\n",
    "    * I take notes on things I really don't need to, just so they are \"complete\""
   ]
  },
  {
   "cell_type": "markdown",
   "id": "c2e6e05c-4421-4bd3-9888-e8b2494dc083",
   "metadata": {},
   "source": [
    "### Short-term goals\n",
    "\n",
    "* Intuitive understanding of not just using PyTorch tensors, but also how they are stored and accessed under the hood\n",
    "* Understanding of the effectiveness of the different RL methods encountered so far, and their respective advantages and drawbacks\n",
    "* Build tools to easily evaluate an agent\n",
    "* Build tools to easily evaluate multiple agents"
   ]
  },
  {
   "attachments": {},
   "cell_type": "markdown",
   "id": "cf346548-98fe-4e4c-ab28-f0503f7dec04",
   "metadata": {},
   "source": [
    "### Schedule:\n",
    "\n",
    "1. [x] Continue DLPT Chapter 3 (1h 5 min.)\n",
    "    * [x] Tensors: Multidimensional Arrays (15 min.)\n",
    "    * [x] Indexing tensors (5 min.)\n",
    "    * [x] Broadcasting (15 min.)\n",
    "    * [x] Named tensors (30 min.)\n",
    "1. [x] Debrief"
   ]
  },
  {
   "cell_type": "markdown",
   "id": "c11dc0a1-9c05-403a-a2a5-10cbc962cead",
   "metadata": {
    "jp-MarkdownHeadingCollapsed": true
   },
   "source": [
    "## Day 17, 31.01.2025 $\\boldsymbol\\checkmark$"
   ]
  },
  {
   "attachments": {},
   "cell_type": "markdown",
   "id": "fabf07ce-8861-4844-8cdc-c516ad8a52ec",
   "metadata": {},
   "source": [
    "### Notes, short- and long-term:\n",
    "\n",
    "* More planning\n",
    "    * Before each task, set an exact goal\n",
    "    * Adjust as needed, but try to reach goals first\n",
    "    * This is going well so far, as I've started keeping a running schedule that spans across days, letting me split everything up into man subtasks\n",
    "* Less highlighting\n",
    "    * I keep highlighting way too much in the text\n",
    "    * I take notes on things I really don't need to, just so they are \"complete\"\n",
    "    * Getting better at this, I think"
   ]
  },
  {
   "cell_type": "markdown",
   "id": "084d5850-d465-4db5-8ef0-932eb203b76e",
   "metadata": {},
   "source": [
    "### Short-term goals\n",
    "\n",
    "* Intuitive understanding of not just using PyTorch tensors, but also how they are stored and accessed under the hood\n",
    "* Understanding of the effectiveness of the different RL methods encountered so far, and their respective advantages and drawbacks\n",
    "* Build tools to easily evaluate an agent\n",
    "* Build tools to easily evaluate multiple agents"
   ]
  },
  {
   "attachments": {},
   "cell_type": "markdown",
   "id": "d4e87207-49fe-423d-abca-1c19a2ebbaef",
   "metadata": {},
   "source": [
    "### Schedule:\n",
    "\n",
    "1. [x] Continue DLPT Chapter 3 (25 min.)\n",
    "    * [x] Tensor element types (25 min.)\n",
    "1. [x] Continue Sutton & Barto Chapter 8 (1h 20 min.)\n",
    "    * [x] Exercises 8.2 - 8.4 (5 min.)\n",
    "    * [x] Exercises 8.4 - 8.5 (1h 15 min.)\n",
    "1. [x] Continue library rewrite (45 min.)\n",
    "    * [x] Dyna for new `agents.py` (45 min.)\n",
    "1. [x] Debrief"
   ]
  },
  {
   "cell_type": "markdown",
   "id": "4b93c866-9321-4ff5-a501-343b99bf9563",
   "metadata": {
    "jp-MarkdownHeadingCollapsed": true
   },
   "source": [
    "## Day 18, 01.02.2025 $\\boldsymbol\\checkmark$"
   ]
  },
  {
   "attachments": {},
   "cell_type": "markdown",
   "id": "5f62a35c-16cb-4f0f-b812-cbeca522c241",
   "metadata": {},
   "source": [
    "### Notes, short- and long-term:\n",
    "\n",
    "* More planning\n",
    "    * Before each task, set an exact goal\n",
    "    * Adjust as needed, but try to reach goals first\n",
    "    * This is going well so far, as I've started keeping a running schedule that spans across days, letting me split everything up into man subtasks\n",
    "* Less highlighting of unnecessary details and asides\n",
    "    * Getting better at this, I think\n",
    "* I want to learn how to write more complete code, including\n",
    "    * Logging\n",
    "    * Debugging\n",
    "    * Tests\n",
    "    * Profiling and optimization"
   ]
  },
  {
   "cell_type": "markdown",
   "id": "64d285d5-23fe-4f0c-91fe-bbd380733b48",
   "metadata": {},
   "source": [
    "### Short-term goals\n",
    "\n",
    "* Make it easier to begin my tasks\n",
    "    * Preparing for the day as a separate, low-expectation goal\n",
    "* Make it easier to switch between them"
   ]
  },
  {
   "attachments": {},
   "cell_type": "markdown",
   "id": "09a0ba10-7699-4112-b938-f6881250814a",
   "metadata": {},
   "source": [
    "### Schedule:\n",
    "\n",
    "1. [x] Prepare the day and review (15 min.)\n",
    "1. [x] Finish DLPT Chapter 3 (1h 45 min.)\n",
    "    * [x] The tensor API (10 min.)\n",
    "    * [x] Tensors: Scenic views of storage (15 min.)\n",
    "    * [x] Tensor metadata: Size, offset, and stride (30 min.)\n",
    "    * [x] Moving tensors to the GPU (10 min.)\n",
    "    * [x] NumPy interoperability (5 min.)\n",
    "    * [x] Generalized tensors are tensors, too (5 min.)\n",
    "    * [x] Serializing tensors (10 min.)\n",
    "    * [x] Conclusion (5 min.)\n",
    "    * [x] Exercises (20 min.)\n",
    "1. [x] Debrief"
   ]
  },
  {
   "cell_type": "markdown",
   "id": "91da89a4-dd20-4681-9ee1-6cf096d04eef",
   "metadata": {
    "jp-MarkdownHeadingCollapsed": true
   },
   "source": [
    "## Day 19, 02.02.2025 $\\boldsymbol\\checkmark$"
   ]
  },
  {
   "attachments": {},
   "cell_type": "markdown",
   "id": "560c232d-08db-46c2-a6a5-41ad7d5ae751",
   "metadata": {
    "jp-MarkdownHeadingCollapsed": true
   },
   "source": [
    "### Notes, short- and long-term:\n",
    "\n",
    "* I want to learn how to write more complete code, including\n",
    "    * Logging\n",
    "    * Debugging\n",
    "    * Tests\n",
    "    * Profiling and optimization"
   ]
  },
  {
   "cell_type": "markdown",
   "id": "957f4363-c117-4ab8-90d1-d9fc5b6f25a6",
   "metadata": {
    "jp-MarkdownHeadingCollapsed": true
   },
   "source": [
    "### Short-term goals\n",
    "\n",
    "* Make it easier to begin my tasks\n",
    "    * Preparing for the day as a separate, low-expectation goal\n",
    "* Make it easier to switch between them"
   ]
  },
  {
   "attachments": {},
   "cell_type": "markdown",
   "id": "98442192-409e-4814-9fc4-fc010f1c3914",
   "metadata": {
    "jp-MarkdownHeadingCollapsed": true
   },
   "source": [
    "### Schedule:\n",
    "\n",
    "1. [x] Prepare the day and review (5 min.)\n",
    "1. [x] Begin DLPT Chapter 4 (40 min.)\n",
    "    * [x] Working with images (30 min.)\n",
    "    * [x] 3D images: Volumetric data (10 min.)\n",
    "1. [x] Continue Sutton & Barto Chapter 8 (35 min.)\n",
    "    * [x] Prioritized Sweeping (35 min.)\n",
    "1. [x] Work on library (3h)\n",
    "    * [x] Agent + component serialization (35 min.)\n",
    "        * [x] Ensure everything is a `dataclass` (5 min.)\n",
    "        * [x] Implement simple serialization via `pickle.dump` (30 min.)\n",
    "    * [x] Easy evaluation methods (25 min.)\n",
    "        * [x] Cumulative methods (15 min.)\n",
    "            * [x] Cumulative reward over episodes\n",
    "            * [x] Cumulative episodes over timesteps\n",
    "        * [x] Smoothed out methods (10 min.)\n",
    "            * [x] Episode lengths\n",
    "            * [x] Episode returns\n",
    "    * [x] Simple grid world environment for debugging (5 min.)\n",
    "    * [x] Update RaceTrack to streamline (40 min.)\n",
    "    * [x] Multiprocess agent eval (35 min.)\n",
    "        * [x] Trainer pool creates trainers from agents\n",
    "        * [x] Each process writes agent to file to latre reload them from\n",
    "            * This is easier than trying to get `Pipe`s to work\n",
    "            * Has the advantage of persistence\n",
    "    * [x] Average eval over multiple runs (40 min.)\n",
    "        * [x] Loop over [product](https://docs.python.org/3/library/itertools.html#itertools.product)s of parameter options to create list of agents (10 min.)\n",
    "        * [x] Create NumPy array to store `ep_lengths` and `ep_returns` for each agent, then average (30 min.)\n",
    "            * One row per training run\n",
    "            * After averaging, assign back to agents\n",
    "1. [x] Debrief"
   ]
  },
  {
   "cell_type": "markdown",
   "id": "f5701712-c455-44d6-a31a-ad75884dc138",
   "metadata": {
    "jp-MarkdownHeadingCollapsed": true
   },
   "source": [
    "## Day 20, 03.02.2025 $\\boldsymbol\\checkmark$"
   ]
  },
  {
   "attachments": {},
   "cell_type": "markdown",
   "id": "56bcb787-419d-4315-b62f-00812385ab81",
   "metadata": {
    "jp-MarkdownHeadingCollapsed": true
   },
   "source": [
    "### Notes, short- and long-term:\n",
    "\n",
    "* I want to learn how to write more complete code, including\n",
    "    * Logging\n",
    "    * Debugging\n",
    "    * Tests\n",
    "    * Profiling and optimization\n",
    "* OpenAI's deep research sounds incredible! EU when?"
   ]
  },
  {
   "cell_type": "markdown",
   "id": "a63ffa4f-ea17-4b72-9dcf-e6d9d24aa14a",
   "metadata": {
    "jp-MarkdownHeadingCollapsed": true
   },
   "source": [
    "### Short-term goals\n",
    "\n",
    "* Make it easier to begin my tasks\n",
    "    * Preparing for the day as a separate, low-expectation goal\n",
    "* Make it easier to switch between them"
   ]
  },
  {
   "attachments": {},
   "cell_type": "markdown",
   "id": "59909c86-7417-433e-9c08-a93aa7111756",
   "metadata": {
    "jp-MarkdownHeadingCollapsed": true
   },
   "source": [
    "### Schedule:\n",
    "\n",
    "1. [x] Prepare the day and review (5 min.)\n",
    "1. [x] Continue DLPT Chapter 4 (1h 15 min.)\n",
    "    * [x] Representing tabular data (55 min.)\n",
    "    * [x] Working with time series (20 min.)\n",
    "        * [x] Adding a time dimension (20 min.)\n",
    "1. [x] Debrief"
   ]
  },
  {
   "cell_type": "markdown",
   "id": "450a7ab1-df45-49fb-b5e6-bfc94601d159",
   "metadata": {
    "jp-MarkdownHeadingCollapsed": true
   },
   "source": [
    "## Day 21, 04.02.2025"
   ]
  },
  {
   "cell_type": "markdown",
   "id": "0f7cd271",
   "metadata": {},
   "source": [
    "### Schedule:\n",
    "\n",
    "1. [x] Prepare the day and review\n",
    "1. [x] Continue DLPT Chapter 4\n",
    "1. [x] Continue Sutton & Barto Chapter 8\n",
    "    * [x] Expected vs. Sample Updates\n",
    "1. [x] Work on library"
   ]
  },
  {
   "cell_type": "markdown",
   "id": "32df1c46",
   "metadata": {
    "jp-MarkdownHeadingCollapsed": true
   },
   "source": [
    "## Day 22, 05.02.2025"
   ]
  },
  {
   "cell_type": "markdown",
   "id": "8cd63d7c",
   "metadata": {},
   "source": [
    "### Schedule:\n",
    "\n",
    "1. [x] Prepare the day and review\n",
    "1. [x] Continue DLPT Chapter 4\n",
    "    * [x] Working with time series\n",
    "        * [x] Shaping the data by time period\n",
    "        * [x] Ready for training\n",
    "    * [x] Representing text\n",
    "        * [x] Converting text to numbers\n",
    "        * [x] One-hot-encoding characters\n",
    "        * [x] One-hot-encoding whole words\n",
    "        * [x] Text embeddings\n",
    "        * [x] Text embeddings as a blueprint\n",
    "    * [x] Conclusion\n",
    "    * [x] Exercises\n",
    "1. [x] Begin DLPT Chapter 5\n",
    "    * [x] A timeless lesson in modeling\n",
    "    * [x] Learning is just parameter estimation\n",
    "        * [x] A hot problem\n",
    "        * [x] Gathering some data\n",
    "        * [x] Visualizing the data\n",
    "        * [x] Choosing a linear model as a first try\n",
    "    * [x] Less loss is what we want\n",
    "        * [x] From problem back to PyTorch\n",
    "    * [x] Down along the gradient\n",
    "        * [x] Decreasing loss\n",
    "        * [x] Getting analytical\n",
    "        * [x] Iterating to fit the model\n",
    "        * [x] Normalizing inputs\n",
    "        * [x] Visualizing (again)\n",
    "    * [x] PyTorch's autograd: Backpropagating all things\n",
    "        * [x] Computing the gradient automatically\n",
    "        * [x] Optimizers à la carte\n",
    "        * [x] Training, validation, and overfitting\n",
    "        * [x] Training set\n",
    "        * [x] Autograd nits and switching it off\n",
    "    * [x] Conclusion\n",
    "    * [x] Exercise\n",
    "1. [x] Continue Sutton & Barto Chapter 8\n",
    "1. [x] Work on library"
   ]
  },
  {
   "cell_type": "markdown",
   "id": "e306ee16",
   "metadata": {
    "jp-MarkdownHeadingCollapsed": true
   },
   "source": [
    "## Day 23, 06.02.2025"
   ]
  },
  {
   "cell_type": "markdown",
   "id": "8921ee52",
   "metadata": {},
   "source": [
    "### Schedule:\n",
    "\n",
    "1. [x] Prepare the day and review\n",
    "1. [x] Begin DLPT Chapter 6\n",
    "1. [x] Continue Sutton & Barto Chapter 8\n",
    "    * [x] Trajectory Sampling\n",
    "    * [x] Real-Time Dynamic Programming\n",
    "    * [x] Planning at Decision Time\n",
    "    * [x] Heuristic Search\n",
    "    * [x] Rollout Algorithms\n",
    "    * [x] Monte Carlo Tree Search\n",
    "    * [x] Summary of the Chapter\n",
    "    * [x] Summary of Part I: Dimensions\n",
    "1. [x] Begin Sutton & Barto Chapter 9\n",
    "1. [x] Debrief"
   ]
  },
  {
   "cell_type": "markdown",
   "id": "4328cb7d",
   "metadata": {
    "jp-MarkdownHeadingCollapsed": true
   },
   "source": [
    "## Day 24, 08.02.2025"
   ]
  },
  {
   "cell_type": "markdown",
   "id": "0623bd0e",
   "metadata": {},
   "source": [
    "### Schedule:\n",
    "\n",
    "1. [x] Prepare the day and review\n",
    "1. [x] Begin DLPT Chapter 6\n",
    "    * [x] Artificial neurons\n",
    "    * [x] The PyTorch `nn` module\n",
    "    * [x] Finally a neural network\n",
    "    * [x] Conclusion\n",
    "    * [x] Exercises\n",
    "1. [x] Begin DLPT Chapter 7\n",
    "    * [x] A dataset of tiny images\n",
    "        * [x] Download CIFAR-10\n",
    "        * [x] The Dataset class\n",
    "1. [x] Begin Sutton & Barto Chapter 9"
   ]
  },
  {
   "cell_type": "markdown",
   "id": "7f784e06",
   "metadata": {
    "jp-MarkdownHeadingCollapsed": true
   },
   "source": [
    "## Day 25, 09.02.2025"
   ]
  },
  {
   "cell_type": "markdown",
   "id": "2ceb3b9a",
   "metadata": {},
   "source": [
    "### Schedule:\n",
    "\n",
    "1. [x] Prepare the day and review\n",
    "1. [x] Continue DLPT Chapter 7\n",
    "    * [x] A dataset of tiny images\n",
    "        * [x] Dataset transforms\n",
    "        * [x] Normalizing data\n",
    "    * [x] Distinguishing birds from airplanes\n",
    "    * [x] Conclusion\n",
    "    * [x] Exercises\n",
    "1. [x] Begin DLPT Chapter 8\n",
    "    * [x] The case for convolutions\n",
    "    * [x] Convolutions in action\n",
    "    * [x] Subclassing `nn.Module`\n",
    "    * [x] Training our convolution neural network\n",
    "    * [x] Model design\n",
    "    * [x] Conclusion\n",
    "    * [x] Exercises\n",
    "1. [x] Begin DLPT Chapter 9\n",
    "1. [x] Begin Sutton & Barto Chapter 9\n",
    "1. [x] Debrief"
   ]
  },
  {
   "cell_type": "markdown",
   "id": "ad7bf9dd",
   "metadata": {
    "jp-MarkdownHeadingCollapsed": true
   },
   "source": [
    "## Day 26, 10.02.2025"
   ]
  },
  {
   "cell_type": "markdown",
   "id": "c24cb544",
   "metadata": {},
   "source": [
    "### Schedule:\n",
    "\n",
    "1. [x] Prepare the day and review\n",
    "1. [x] Begin DLPT Chapter 9\n",
    "    * [x] A motivating example: generating names character by character\n",
    "    * [x] Self-supervised learning\n",
    "    * [x] Generating our training data\n",
    "    * [x] Embeddings and multi-layer perceptrons\n",
    "    * [x] Attention\n",
    "1. [x] Begin Sutton & Barto Chapter 9\n",
    "1. [x] Debrief"
   ]
  },
  {
   "cell_type": "markdown",
   "id": "86f71987",
   "metadata": {
    "jp-MarkdownHeadingCollapsed": true
   },
   "source": [
    "## Day 27, 11.02.2025"
   ]
  },
  {
   "cell_type": "markdown",
   "id": "faaa68c2",
   "metadata": {},
   "source": [
    "### Schedule:\n",
    "\n",
    "1. [x] Prepare the day and review\n",
    "1. [x] Continue DLPT Chapter 9\n",
    "    * [x] Transformers\n",
    "    * [x] Other Transformer Architectures\n",
    "    * [x] Tokenization\n",
    "    * [x] Conclusion\n",
    "    * [x] Exercises\n",
    "1. [x] DRL Chapter 0\n",
    "1. [x] DRL Chapter 1\n",
    "1. [x] DRL Chapter 2\n",
    "1. [x] DRL Chapter 3\n",
    "1. [x] Begin DRL Chapter 4\n",
    "1. [x] Debrief"
   ]
  },
  {
   "cell_type": "markdown",
   "id": "20054f2e",
   "metadata": {
    "jp-MarkdownHeadingCollapsed": true
   },
   "source": [
    "## Day 28, 12.02.2025"
   ]
  },
  {
   "cell_type": "markdown",
   "id": "78ab59cb",
   "metadata": {},
   "source": [
    "### Schedule:\n",
    "\n",
    "1. [x] Prepare the day and review\n",
    "1. [x] DRL Chapter 4\n",
    "1. [x] DRL Chapter 5\n",
    "1. [x] Learn DQN\n",
    "    * [x] Basic DQN\n",
    "    * [x] DQN extensions\n",
    "1. [x] Learn REINFORCE\n",
    "    * [x] Intuition Behind Policy Gradients\n",
    "    * [x] Mathematical Foundation: Policy Gradient Theorem\n",
    "1. [x] Debrief"
   ]
  },
  {
   "cell_type": "markdown",
   "id": "367320d2",
   "metadata": {},
   "source": [
    "## Day 29, 13.02.2025"
   ]
  },
  {
   "cell_type": "markdown",
   "id": "72d6474b",
   "metadata": {},
   "source": [
    "### Schedule:\n",
    "\n",
    "1. [x] Prepare the day and review\n",
    "1. [x] Learn REINFORCE\n",
    "    * [x] Implementation: REINFORCE in Atari Breakout (Gymnasium + PyTorch)\n",
    "    * [x] Training and Debugging the REINFORCE Agent\n",
    "    * [x] Next Steps: Improving and Extending REINFORCE\n",
    "1. [x] Learn A2C\n",
    "    * [x] Background and Motivation\n",
    "    * [x] Mathematical Formulation\n",
    "    * [x] Implementation Mechanics of A2C\n",
    "    * [x] Implementing A2C from Scratch in PyTorch\n",
    "1. [x] Learn PPO\n",
    "    * [x] Theory\n",
    "        * [x] Motivation: From Policy Gradients to TRPO to PPO\n",
    "        * [x] Trust Region Constraint vs. Clipped Objective in PPO\n",
    "        * [x] PPO-Clip Objective Function Derivation\n",
    "1. [x] Debrief"
   ]
  },
  {
   "cell_type": "markdown",
   "id": "54f65dc7",
   "metadata": {},
   "source": [
    "## Day 30, 14.02.2025"
   ]
  },
  {
   "cell_type": "markdown",
   "id": "b3f64b57",
   "metadata": {},
   "source": [
    "### Schedule:\n",
    "\n",
    "1. [ ] Prepare the day and review\n",
    "1. [ ] Learn REINFORCE\n",
    "1. [ ] Learn A2C\n",
    "1. [ ] Learn PPO\n",
    "    * [ ] Theory\n",
    "        * [ ] Advantage Estimation and GAE\n",
    "        * [ ] Mini-Batch Updates and Multiple Epochs\n",
    "        * [ ] PPO-Clip Algorithm Pseudocode\n",
    "    * [ ] Implementation (PyTorch & Gymnasium)\n",
    "1. [ ] Debrief"
   ]
  },
  {
   "cell_type": "code",
   "execution_count": null,
   "id": "dd244bab-a5e1-4427-906f-8237f6daf01e",
   "metadata": {},
   "outputs": [],
   "source": [
    "from update_schedule import *\n",
    "update_schedule()"
   ]
  }
 ],
 "metadata": {
  "kernelspec": {
   "display_name": "Python 3 (ipykernel)",
   "language": "python",
   "name": "python3"
  },
  "language_info": {
   "codemirror_mode": {
    "name": "ipython",
    "version": 3
   },
   "file_extension": ".py",
   "mimetype": "text/x-python",
   "name": "python",
   "nbconvert_exporter": "python",
   "pygments_lexer": "ipython3",
   "version": "3.12.8"
  }
 },
 "nbformat": 4,
 "nbformat_minor": 5
}
