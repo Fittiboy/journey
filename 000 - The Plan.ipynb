{
 "cells": [
  {
   "attachments": {},
   "cell_type": "markdown",
   "id": "f785a908-22fa-42da-8dad-e9d43c91261f",
   "metadata": {},
   "source": [
    "# The Plan\n",
    "\n",
    "With [o1's assistance](https://chatgpt.com/c/67873a7f-fd7c-800e-9291-e3b0a1a66d0a)."
   ]
  },
  {
   "attachments": {},
   "cell_type": "markdown",
   "id": "5a0c7f97-d160-498f-8a8e-533841abc699",
   "metadata": {},
   "source": [
    "## Day 1, 15.01.2025 $\\boldsymbol\\checkmark$\n",
    "\n",
    "1. Set up environment (miniconda, Jupyter) $\\boldsymbol\\checkmark$\n",
    "1. Review basics of RL $\\boldsymbol\\checkmark$\n",
    "    1. Read Sutton & Barto Introduction $\\boldsymbol\\checkmark$\n",
    "    1. Read Sutton & Barto Chapter 2 (up to 2.4) $\\boldsymbol\\checkmark$\n",
    "    1. Watch David Silver Lecture 1 $\\boldsymbol\\checkmark$\n",
    "1. Debrief $\\boldsymbol\\checkmark$\n",
    "    * Summarize learned material $\\boldsymbol\\checkmark$\n",
    "    * Note questions that came up $\\boldsymbol\\checkmark$"
   ]
  },
  {
   "attachments": {},
   "cell_type": "markdown",
   "id": "97659c75-e7bf-4804-bab1-211e3c9bb910",
   "metadata": {},
   "source": [
    "## Day 2, 16.01.2025 $\\boldsymbol\\checkmark$\n",
    "\n",
    "1. Read Sutton & Barto Chapter 2 (from 2.4 to ~~end~~ *2.7, not included*) $\\boldsymbol\\checkmark$\n",
    "1. ~~Watch David Silver Lecture 2~~ *(Covers MDPs, which are the third chapter of the book)*\n",
    "1. Implement Multi-Armed Bandit Experiment $\\boldsymbol\\checkmark$\n",
    "    * ~~Develop a plan, to get practice~~ *(I just winged it)*\n",
    "    * Implement $\\boldsymbol\\checkmark$\n",
    "1. ~~[Optional] Add more content to the day~~\n",
    "1. Debrief $\\boldsymbol\\checkmark$\n",
    "    * Summarize learned material $\\boldsymbol\\checkmark$\n",
    "    * Note questions that came up $\\boldsymbol\\checkmark$"
   ]
  },
  {
   "attachments": {},
   "cell_type": "markdown",
   "id": "ac7af448-34f9-4a26-ab26-37072185a00c",
   "metadata": {},
   "source": [
    "## Day 3, 17.01.2025 $\\boldsymbol\\checkmark$\n",
    "\n",
    "1. Read Sutton & Barto Chapter 2 (from 2.7 to end) $\\boldsymbol\\checkmark$\n",
    "    * 2.7  $\\boldsymbol\\checkmark$\n",
    "    * 2.8  $\\boldsymbol\\checkmark$\n",
    "    * 2.9  $\\boldsymbol\\checkmark$\n",
    "    * 2.10 $\\boldsymbol\\checkmark$\n",
    "1. ~~[Optional] Read Sutton & Barto Chapter 3~~\n",
    "1. ~~[Optional] Watch David Silver Lecture 2~~\n",
    "1. ~~[Optional] Add more content to the day~~\n",
    "1. Debrief $\\boldsymbol\\checkmark$\n",
    "    * Summarize learned material $\\boldsymbol\\checkmark$\n",
    "    * Note questions that came up $\\boldsymbol\\checkmark$"
   ]
  },
  {
   "cell_type": "markdown",
   "id": "dff2f888-18bb-49ab-852c-a69a8a52daab",
   "metadata": {},
   "source": [
    "## Day 4, 18.01.2025 $\\boldsymbol\\checkmark$\n",
    "\n",
    "1. Begin Sutton & Barto Chapter 3 $\\boldsymbol\\checkmark$\n",
    "1. [Optional] Finish Sutton & Barto Chapter 3 $\\boldsymbol\\checkmark$\n",
    "1. [Optional] Watch David Silver Lecture 2 (if chapter 3 finished, and enough time) $\\boldsymbol\\checkmark$\n",
    "1. Debrief $\\boldsymbol\\checkmark$\n",
    "    * Summarize learned material $\\boldsymbol\\checkmark$\n",
    "    * Note questions that came up $\\boldsymbol\\checkmark$"
   ]
  },
  {
   "cell_type": "markdown",
   "id": "6c4d7274-f672-45a5-b706-b40edf4061e6",
   "metadata": {},
   "source": [
    "## Day 5, 19.01.2025 $\\boldsymbol\\checkmark$\n",
    "\n",
    "1. Begin Sutton & Barto Chapter 4 $\\boldsymbol\\checkmark$\n",
    "    * 4.1 $\\boldsymbol\\checkmark$\n",
    "    * 4.2 $\\boldsymbol\\checkmark$\n",
    "1. ~~[Optional] Finish Sutton & Barto Chapter 4~~\n",
    "1. ~~[Optional] Watch David Silver Lecture 3 (if chapter 4 finished, and time permits)~~\n",
    "1. Debrief $\\boldsymbol\\checkmark$\n",
    "    * Summarize learned material $\\boldsymbol\\checkmark$\n",
    "    * Note questions that came up $\\boldsymbol\\checkmark$"
   ]
  },
  {
   "cell_type": "markdown",
   "id": "3fdb10c1-945c-47cf-ac8a-cb2b1643cb2a",
   "metadata": {},
   "source": [
    "## Day 6, 20.01.2025 $\\boldsymbol\\checkmark$\n",
    "\n",
    "1. Continue Sutton & Barto Chapter 4 $\\boldsymbol\\checkmark$\n",
    "    * 4.3 $\\boldsymbol\\checkmark$\n",
    "1. ~~[Optional] Finish Sutton & Barto Chapter 4~~\n",
    "1. ~~[Optional] Watch David Silver Lecture 3 (if chapter 4 finished, and time permits)~~\n",
    "1. Debrief $\\boldsymbol\\checkmark$\n",
    "    * Summarize learned material $\\boldsymbol\\checkmark$\n",
    "    * Note questions that came up $\\boldsymbol\\checkmark$"
   ]
  },
  {
   "cell_type": "markdown",
   "id": "b7e242ef-1edb-4897-a79b-e570d81b52a6",
   "metadata": {},
   "source": [
    "## Day 7, 21.01.2025 $\\boldsymbol\\checkmark$\n",
    "\n",
    "1. Continue Sutton & Barto Chapter 4 $\\boldsymbol\\checkmark$\n",
    "    * 4.4 $\\boldsymbol\\checkmark$\n",
    "    * 4.5 $\\boldsymbol\\checkmark$\n",
    "    * 4.6 $\\boldsymbol\\checkmark$\n",
    "    * 4.7 $\\boldsymbol\\checkmark$\n",
    "1. [Optional] Finish Sutton & Barto Chapter 4 $\\boldsymbol\\checkmark$\n",
    "1. [Optional] Watch David Silver Lecture 3 (if chapter 4 finished, and time permits) $\\boldsymbol\\checkmark$\n",
    "1. [Optional] Add more content to the day $\\boldsymbol\\checkmark$\n",
    "    * 5.1 $\\boldsymbol\\checkmark$\n",
    "1. Debrief $\\boldsymbol\\checkmark$\n",
    "    * Summarize learned material $\\boldsymbol\\checkmark$\n",
    "    * Note questions that came up $\\boldsymbol\\checkmark$"
   ]
  },
  {
   "cell_type": "markdown",
   "id": "7a6d89b2-ef91-459a-bb0b-9cba0a8dc872",
   "metadata": {},
   "source": [
    "## Day 8, 22.01.2025 $\\boldsymbol\\checkmark$\n",
    "\n",
    "1. Continue Sutton & Barto Chapter 5 $\\boldsymbol\\checkmark$\n",
    "    * 5.2 $\\boldsymbol\\checkmark$\n",
    "    * 5.3 $\\boldsymbol\\checkmark$\n",
    "    * 5.4 $\\boldsymbol\\checkmark$\n",
    "    * 5.5 $\\boldsymbol\\checkmark$\n",
    "1. ~~[Optional] Finish Sutton & Barto Chapter 5~~\n",
    "1. ~~[Optional] Add more content to the day~~\n",
    "1. Debrief $\\boldsymbol\\checkmark$\n",
    "    * Summarize learned material $\\boldsymbol\\checkmark$\n",
    "    * Note questions that came up $\\boldsymbol\\checkmark$"
   ]
  },
  {
   "cell_type": "markdown",
   "id": "fa47a021-1552-49ee-9d5e-c3f09e063591",
   "metadata": {},
   "source": [
    "## Day 9, 23.01.2025 $\\boldsymbol\\checkmark$\n",
    "\n",
    "1. Continue Sutton & Barto Chapter 5 $\\boldsymbol\\checkmark$\n",
    "1. [Optional] Finish Sutton & Barto Chapter 5 $\\boldsymbol\\checkmark$\n",
    "1. ~~[Optional] Add more content to the day~~\n",
    "1. Debrief $\\boldsymbol\\checkmark$\n",
    "    * Summarize learned material $\\boldsymbol\\checkmark$\n",
    "    * Note questions that came up $\\boldsymbol\\checkmark$"
   ]
  },
  {
   "cell_type": "markdown",
   "id": "4ea6b673-2c27-4229-a2c2-ebf78f04552f",
   "metadata": {},
   "source": [
    "## Day 10, 24.01.2025 $\\boldsymbol\\checkmark$\n",
    "\n",
    "1. Begin Sutton & Barto Chapter 6 $\\boldsymbol\\checkmark$\n",
    "1. ~~[Optional] Finish Sutton & Barto Chapter 6~~\n",
    "1. ~~[Optional] Add more content to the day~~\n",
    "1. Debrief $\\boldsymbol\\checkmark$\n",
    "    * Summarize learned material $\\boldsymbol\\checkmark$\n",
    "    * Note questions that came up $\\boldsymbol\\checkmark$"
   ]
  },
  {
   "cell_type": "markdown",
   "id": "b17a14e7-9e61-457b-ae9b-8efff80b5d4b",
   "metadata": {},
   "source": [
    "## Day 11, 24.01.2025 $\\boldsymbol\\checkmark$\n",
    "\n",
    "1. Continue Sutton & Barto Chapter 6 $\\boldsymbol\\checkmark$\n",
    "1. [Optional] Finish Sutton & Barto Chapter 6 $\\boldsymbol\\checkmark$\n",
    "1. [Optional] Add more content to the day $\\boldsymbol\\checkmark$\n",
    "    * 7.1 $\\boldsymbol\\checkmark$\n",
    "    * 7.2 $\\boldsymbol\\checkmark$\n",
    "1. Debrief $\\boldsymbol\\checkmark$\n",
    "    * Summarize learned material $\\boldsymbol\\checkmark$\n",
    "    * Note questions that came up $\\boldsymbol\\checkmark$"
   ]
  },
  {
   "cell_type": "markdown",
   "id": "df87d7fc-53ef-40f9-b940-dcbc902863a8",
   "metadata": {},
   "source": [
    "## Day 12, 26.01.2025 $\\boldsymbol\\leftarrow$\n",
    "\n",
    "1. Continue Sutton & Barto Chapter 7 $\\boldsymbol\\leftarrow$\n",
    "1. [Optional] Finish Sutton & Barto Chapter 7\n",
    "1. [Optional] Add more content to the day\n",
    "    * Implement simple generic Agent class $\\boldsymbol\\checkmark$\n",
    "    * Implement simple generic Environment class\n",
    "    * Implement simple generic ParameterStudy class\n",
    "1. Debrief\n",
    "    * Summarize learned material\n",
    "    * Note questions that came up"
   ]
  }
 ],
 "metadata": {
  "kernelspec": {
   "display_name": "Python 3 (ipykernel)",
   "language": "python",
   "name": "python3"
  },
  "language_info": {
   "codemirror_mode": {
    "name": "ipython",
    "version": 3
   },
   "file_extension": ".py",
   "mimetype": "text/x-python",
   "name": "python",
   "nbconvert_exporter": "python",
   "pygments_lexer": "ipython3",
   "version": "3.12.8"
  }
 },
 "nbformat": 4,
 "nbformat_minor": 5
}
