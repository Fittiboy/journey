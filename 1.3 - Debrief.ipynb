{
 "cells": [
  {
   "cell_type": "markdown",
   "id": "a12f0ada-dac9-4ab5-a601-8baa02c00f10",
   "metadata": {},
   "source": [
    "# Day 1 - Debrief"
   ]
  },
  {
   "attachments": {},
   "cell_type": "markdown",
   "id": "b18c224d-a55f-4f49-bcdc-bb101ccb9b26",
   "metadata": {},
   "source": [
    "## What I did today\n",
    "\n",
    "Today, I read the first chapter of Sutton & Barto, the introduction, as well as the beginning of the second chapter, about multi-armed bandit problems.\n",
    "I also worked out all the exercises along the way!  \n",
    "Finally, I watched the first of David Silver's RL lectures."
   ]
  },
  {
   "attachments": {},
   "cell_type": "markdown",
   "id": "e21c4f9a-fa7e-4f69-a74c-90aa5b25a3e9",
   "metadata": {},
   "source": [
    "## What I learned today\n",
    "\n",
    "* The goal of reinforcement learning is to learn the optimal policy, dictating an agent's behavior, through trial-and-error learning by interacting with the environment\n",
    "* The environment provides us with a state of the world, and a reward at each time step, and reacts to our chosen actions\n",
    "* In order to find the optimal policy, we try to maximize the expected cumulative reward over time\n",
    "* The best way to do this is to learn what the values of the states are, represented by the expected cumulative future reward from that state\n",
    "* In order to estimate this value best, an agent has to explore its environment\n",
    "* Exploration sacrifices immediate reward for the sake of gaining knowledge to exploit later, maximizing long-term reward\n",
    "* A simple environment to showcase these concepts is the $k$-armed bandit, where only one state exists, in which one of $k$ actions can be chosen at each time step\n",
    "* Rewards for each of the $k$ actions are stochastic, so the agent has to choose each action countless times in order to precisely estimate the rewards\n",
    "* One strategy for trading off exploration and exploitation is the $\\varepsilon$-greedy policy, which chooses a random action with probabililty $\\varepsilon$, and the action with the highest value estimate with probability $1-\\varepsilon$"
   ]
  },
  {
   "attachments": {},
   "cell_type": "markdown",
   "id": "b4d12f2b-b17d-4ae9-a103-143bed3b8a3c",
   "metadata": {},
   "source": [
    "## Notes and questions for the next day\n",
    "\n",
    "* I want to finish chapter 2 and implement experiments with the $k$-armed bandit\n",
    "* How do I visualize the collected data with matplotlib?\n",
    "* How can I produce the plot from the book, showing the reward distributions for the $k$ arms?"
   ]
  }
 ],
 "metadata": {
  "kernelspec": {
   "display_name": "Python 3 (ipykernel)",
   "language": "python",
   "name": "python3"
  },
  "language_info": {
   "codemirror_mode": {
    "name": "ipython",
    "version": 3
   },
   "file_extension": ".py",
   "mimetype": "text/x-python",
   "name": "python",
   "nbconvert_exporter": "python",
   "pygments_lexer": "ipython3",
   "version": "3.12.8"
  }
 },
 "nbformat": 4,
 "nbformat_minor": 5
}
