{
 "cells": [
  {
   "cell_type": "markdown",
   "id": "a6cd2977-4356-4674-90e0-0bc53683b064",
   "metadata": {},
   "source": [
    "# Day 27 - Debrief"
   ]
  },
  {
   "cell_type": "markdown",
   "id": "c2bd3cf8-c8c8-4fed-b6fb-d0fa5ff511eb",
   "metadata": {},
   "source": [
    "## What I did today\n",
    "\n",
    "Today, I finished chapter 9 of DLPT, and decided to retire both it, and Sutton & Barto, to move onto Deep Reinforcement Learning Hands-On, by Maxim Lapan (DRL)"
   ]
  },
  {
   "cell_type": "markdown",
   "id": "728ebe06-bc0f-4d8a-9d10-83a126896707",
   "metadata": {},
   "source": [
    "## What I learned today\n",
    "\n",
    "I learend how to build a decoder-only transformer model, which was quite a bit easier to do, and faster to train, than I expected."
   ]
  },
  {
   "cell_type": "markdown",
   "id": "c5230f7c-d298-4daf-823d-0baddbe68c4c",
   "metadata": {},
   "source": [
    "## Notes and Questions for the next day\n",
    "\n",
    "I wonder how much progress I'll be making through DRL tomorrow. I had a very study-heavy day today, so it's okay if tomorrow is lighter."
   ]
  }
 ],
 "metadata": {
  "kernelspec": {
   "display_name": "Python 3 (ipykernel)",
   "language": "python",
   "name": "python3"
  },
  "language_info": {
   "codemirror_mode": {
    "name": "ipython",
    "version": 3
   },
   "file_extension": ".py",
   "mimetype": "text/x-python",
   "name": "python",
   "nbconvert_exporter": "python",
   "pygments_lexer": "ipython3",
   "version": "3.12.8"
  }
 },
 "nbformat": 4,
 "nbformat_minor": 5
}
