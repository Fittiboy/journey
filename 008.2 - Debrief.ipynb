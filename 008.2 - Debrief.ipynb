{
 "cells": [
  {
   "cell_type": "markdown",
   "id": "e9d0e755-7ac9-4cad-af4d-8d551d9f19a0",
   "metadata": {},
   "source": [
    "# Day 8 - Debrief"
   ]
  },
  {
   "cell_type": "markdown",
   "id": "fc890272-9b99-4162-ac57-1683bbb9593b",
   "metadata": {},
   "source": [
    "## What I did today\n",
    "\n",
    "Today, I worked through the sections of Sutton & Barto on Monte Carlo prediction and control, specifically for control using exploring starts, without exploring starts, and off-policy estimation with importance sampling."
   ]
  },
  {
   "cell_type": "markdown",
   "id": "79a0e700-b9b2-47f6-b50c-3a5284ee4e91",
   "metadata": {},
   "source": [
    "## What I learned today\n",
    "\n",
    "I learned about Monte Carlo Exploring Starts, which can be impractical in real problems, and how $\\varepsilon$-greedy methods for on-policy prediciton and control are more practical. I also learned how when it comes to off-policy prediction using importance sampling, the weighted importance-sampling estimate has lower variance, and a bias that appears not to be a significant problem in practice. Thus, weighted importance sampling, using the every-visit update rule, is used most often in practice, due to its simplicity and good results."
   ]
  },
  {
   "cell_type": "markdown",
   "id": "a34ac660-2a16-4fb9-a2f0-aee95fa9ff93",
   "metadata": {},
   "source": [
    "## Notes and questions for the next day\n",
    "\n",
    "Too exhausted to think of any."
   ]
  }
 ],
 "metadata": {
  "kernelspec": {
   "display_name": "Python 3 (ipykernel)",
   "language": "python",
   "name": "python3"
  },
  "language_info": {
   "codemirror_mode": {
    "name": "ipython",
    "version": 3
   },
   "file_extension": ".py",
   "mimetype": "text/x-python",
   "name": "python",
   "nbconvert_exporter": "python",
   "pygments_lexer": "ipython3",
   "version": "3.12.8"
  }
 },
 "nbformat": 4,
 "nbformat_minor": 5
}
