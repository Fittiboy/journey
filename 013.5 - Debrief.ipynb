{
 "cells": [
  {
   "cell_type": "markdown",
   "id": "0e41208a-ac95-4db0-be04-87f05f876651",
   "metadata": {},
   "source": [
    "# Day 13 - Debrief"
   ]
  },
  {
   "cell_type": "markdown",
   "id": "e7c10b4f-e8cd-4c93-b987-d1b65c7679c8",
   "metadata": {},
   "source": [
    "## What I did today\n",
    "\n",
    "Today, I finished chapter 7 of Sutton & Barto, and got started the on 8th. I also implemented the `Environment` class, to add to my `Agents`, `AgentComponents`, and `ParameterStudy`. I then began working through the book [Deep Learning with PyTorch, Second Edition](https://www.manning.com/books/deep-learning-with-pytorch-second-edition), getting partway into the second chapter."
   ]
  },
  {
   "cell_type": "markdown",
   "id": "423949a6-909b-4c12-88a2-d1987f1b0f8b",
   "metadata": {},
   "source": [
    "## What I learned today\n",
    "\n",
    "I learned about the $n$-step tree backup algorithm, which is an off-policy $n$-step method that doesn't need importance sampling. I also learned the basic idea of planning with a model of the environment.\n",
    "\n",
    "On top of that, I learned about the PyTorch and its advantages, and got a first glimpse at using pretrained vision models with PyTorch."
   ]
  },
  {
   "cell_type": "markdown",
   "id": "b3319ef4-f7a5-49e0-9e47-891def6a8e5e",
   "metadata": {},
   "source": [
    "## Notes and questions for the next day\n",
    "\n",
    "Tomorrow, I want to finish the second chapter of DLPT (Deep Learning with PyTorch), and then continue with the eighth chapter of Sutton & Barto. If time permits, I want to get started on chapter 3 of DLPT as well."
   ]
  }
 ],
 "metadata": {
  "kernelspec": {
   "display_name": "Python 3 (ipykernel)",
   "language": "python",
   "name": "python3"
  },
  "language_info": {
   "codemirror_mode": {
    "name": "ipython",
    "version": 3
   },
   "file_extension": ".py",
   "mimetype": "text/x-python",
   "name": "python",
   "nbconvert_exporter": "python",
   "pygments_lexer": "ipython3",
   "version": "3.12.8"
  }
 },
 "nbformat": 4,
 "nbformat_minor": 5
}
