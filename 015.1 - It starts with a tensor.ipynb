{
 "cells": [
  {
   "cell_type": "markdown",
   "id": "77b204ad-782a-4f23-bfe8-97411933d837",
   "metadata": {},
   "source": [
    "# Day 15 - It starts with a tensor\n",
    "\n",
    "* The process of deep learning can be seen as transforming data from one representation to another\n",
    "* This is done by extracting commonalities from sequences of examples\n",
    "* A model might note the general shape of a dog, as well as the typical colors of a specific breed\n",
    "* The first step is always to somehow convert our data into floating point numbers"
   ]
  },
  {
   "cell_type": "markdown",
   "id": "e3ab7fa2-a6fb-4f2f-8ceb-6821396709a8",
   "metadata": {},
   "source": [
    "## The world as floating point numbers\n",
    "\n",
    "* "
   ]
  }
 ],
 "metadata": {
  "kernelspec": {
   "display_name": "Python 3 (ipykernel)",
   "language": "python",
   "name": "python3"
  },
  "language_info": {
   "codemirror_mode": {
    "name": "ipython",
    "version": 3
   },
   "file_extension": ".py",
   "mimetype": "text/x-python",
   "name": "python",
   "nbconvert_exporter": "python",
   "pygments_lexer": "ipython3",
   "version": "3.12.8"
  }
 },
 "nbformat": 4,
 "nbformat_minor": 5
}
