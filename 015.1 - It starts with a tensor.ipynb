{
 "cells": [
  {
   "cell_type": "markdown",
   "id": "77b204ad-782a-4f23-bfe8-97411933d837",
   "metadata": {},
   "source": [
    "# Day 15 - It starts with a tensor\n",
    "\n",
    "* The process of deep learning can be seen as transforming data from one representation to another\n",
    "* This is done by extracting commonalities from sequences of examples\n",
    "* A model might note the general shape of a dog, as well as the typical colors of a specific breed\n",
    "* The first step is always to somehow convert our data into floating point numbers"
   ]
  },
  {
   "cell_type": "markdown",
   "id": "e3ab7fa2-a6fb-4f2f-8ceb-6821396709a8",
   "metadata": {},
   "source": [
    "## The world as floating point numbers\n",
    "\n",
    "* We need a way to encode our data into floating point numbers, then decode the output to make it understandable\n",
    "* A neural network learns increasingly complex representations layer by layer\n",
    "    * A vision network may start with edge detection\n",
    "    * In deeper layers, that same network may represent concepts like \"dog\" or \"space\"\n",
    "* Each intermediate representation is the result of a weighted combination of the representation immediately prior\n",
    "* The fundamental data structure for all of this is the $tensor$\n",
    "* In deep learning a tensor is simply a multidimensional array, like an `np.ndarray`\n",
    "* Dimensions are zero-indexed and ordered from left to right\n",
    "* NumPy has become the lingua franca of data science, and therefore PyTorch offers direct interoperability\n",
    "* PyTorch's tensors, as opposed to `np.ndarray`s, have a few extra powers:\n",
    "    * Peform operations quickly on GPUs\n",
    "    * Distribute operations on multiple devices\n",
    "    * Keep track of the graph of computations performed on them\n",
    "* We'll learn several things:\n",
    "    * How to manipulate tensors\n",
    "    * How data is stored in memory\n",
    "    * How some operations can be performed on arbitrarily large tensors in constant time\n",
    "    * How NumPy interoperability works, and\n",
    "    * how GPU acceleration works\n",
    "* As they are such fundamental building blocks, understanding these aspects of tensors is very important"
   ]
  }
 ],
 "metadata": {
  "kernelspec": {
   "display_name": "Python 3 (ipykernel)",
   "language": "python",
   "name": "python3"
  },
  "language_info": {
   "codemirror_mode": {
    "name": "ipython",
    "version": 3
   },
   "file_extension": ".py",
   "mimetype": "text/x-python",
   "name": "python",
   "nbconvert_exporter": "python",
   "pygments_lexer": "ipython3",
   "version": "3.12.8"
  }
 },
 "nbformat": 4,
 "nbformat_minor": 5
}
