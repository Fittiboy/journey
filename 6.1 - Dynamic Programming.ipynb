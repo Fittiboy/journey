{
 "cells": [
  {
   "cell_type": "code",
   "execution_count": 1,
   "id": "1ffc86eb-9a93-4c55-89e8-e449b6babe5e",
   "metadata": {},
   "outputs": [],
   "source": [
    "%load_ext autoreload\n",
    "%autoreload 2\n",
    "\n",
    "from policy_iteration import *\n",
    "import numpy as np"
   ]
  },
  {
   "cell_type": "markdown",
   "id": "49b0b377-477f-4112-bba0-d31e99974cfe",
   "metadata": {},
   "source": [
    "# Day 6 - Dynamic Programming"
   ]
  },
  {
   "cell_type": "markdown",
   "id": "713f5dc2-dfa6-46bd-b007-e977b98c3da3",
   "metadata": {},
   "source": [
    "## Policy Iteration\n",
    "\n",
    "*"
   ]
  },
  {
   "cell_type": "code",
   "execution_count": 15,
   "id": "0966ac36-1681-4050-b4ad-69cea8586469",
   "metadata": {},
   "outputs": [
    {
     "name": "stdout",
     "output_type": "stream",
     "text": [
      "[[ 0. -1. -2. -3.]\n",
      " [-1. -2. -3. -2.]\n",
      " [-2. -3. -2. -1.]\n",
      " [-3. -2. -1.  0.]\n",
      " [ 0. -2.  0.  0.]]\n",
      "[[0. 3. 3. 2.]\n",
      " [0. 0. 0. 2.]\n",
      " [0. 0. 1. 2.]\n",
      " [0. 1. 1. 0.]\n",
      " [0. 1. 0. 0.]]\n"
     ]
    }
   ],
   "source": [
    "num_states = 16\n",
    "num_actions = 4\n",
    "transitions = np.zeros((num_states, num_states, num_actions))\n",
    "for s in range(num_states):\n",
    "    up, right, down, left = s-4, s+1, s+4, s-1\n",
    "    if s == 0:\n",
    "        up, right, down, left = 0, 0, 0, 0\n",
    "    if s in [1, 2, 3]:\n",
    "        up = s\n",
    "    if s in [3, 7, 11]:\n",
    "        right = s\n",
    "    if s in [12, 13, 14]:\n",
    "        down = s\n",
    "    if s in [4, 8, 12]:\n",
    "        left = s\n",
    "    if s == 14:\n",
    "        right = 0\n",
    "    if s == 11:\n",
    "        down = 0\n",
    "    if s == 13:\n",
    "        down = 15\n",
    "    if s == 15:\n",
    "        up = 13\n",
    "        right = 14\n",
    "        down = 15\n",
    "        left = 12\n",
    "    transitions[s,up,0] = 1\n",
    "    transitions[s,right,1] = 1\n",
    "    transitions[s,down,2] = 1\n",
    "    transitions[s,left,3] = 1\n",
    "rewards = np.ones((num_states, num_states, num_actions)) * -1.0\n",
    "rewards[0,:,:] = 0.0\n",
    "discount = 1.0\n",
    "policy = np.ones((num_states, num_actions)) / 4.0 # Order: up, right, down, left\n",
    "\n",
    "iterator = PolicyIteration(transitions, rewards, discount, policy)\n",
    "iterator.find_optimal_policy()\n",
    "\n",
    "values = np.zeros((num_states+4, 1))\n",
    "values[:num_states,:] = iterator.values.copy()\n",
    "values[num_states-1,:] = iterator.values[0]\n",
    "values[17] = iterator.values[15]\n",
    "values = values.reshape(5,4)\n",
    "print(values)\n",
    "policy = np.zeros((num_states+4, 1))\n",
    "policy[:num_states,:] = np.argmax(iterator.policy, axis=2)\n",
    "policy[num_states-1,:] = np.argmax(iterator.policy[0], axis=1)\n",
    "policy[17] = np.argmax(iterator.policy[15], axis=1)\n",
    "policy = policy.reshape(5,4)\n",
    "print(policy)"
   ]
  }
 ],
 "metadata": {
  "kernelspec": {
   "display_name": "Python 3 (ipykernel)",
   "language": "python",
   "name": "python3"
  },
  "language_info": {
   "codemirror_mode": {
    "name": "ipython",
    "version": 3
   },
   "file_extension": ".py",
   "mimetype": "text/x-python",
   "name": "python",
   "nbconvert_exporter": "python",
   "pygments_lexer": "ipython3",
   "version": "3.12.8"
  }
 },
 "nbformat": 4,
 "nbformat_minor": 5
}
