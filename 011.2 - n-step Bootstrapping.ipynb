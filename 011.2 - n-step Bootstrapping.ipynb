{
 "cells": [
  {
   "cell_type": "markdown",
   "id": "baac4268-e1a4-48ac-8fc8-1dfb7c6f2a27",
   "metadata": {},
   "source": [
    "# Day 11 - $n$-step Bootstrapping"
   ]
  },
  {
   "cell_type": "markdown",
   "id": "93b6f4fe-cf43-4a70-a456-d0a65d600891",
   "metadata": {},
   "source": [
    "## $n$-step TD Prediction\n",
    "\n",
    "*"
   ]
  }
 ],
 "metadata": {
  "kernelspec": {
   "display_name": "Python 3 (ipykernel)",
   "language": "python",
   "name": "python3"
  },
  "language_info": {
   "codemirror_mode": {
    "name": "ipython",
    "version": 3
   },
   "file_extension": ".py",
   "mimetype": "text/x-python",
   "name": "python",
   "nbconvert_exporter": "python",
   "pygments_lexer": "ipython3",
   "version": "3.12.8"
  }
 },
 "nbformat": 4,
 "nbformat_minor": 5
}
