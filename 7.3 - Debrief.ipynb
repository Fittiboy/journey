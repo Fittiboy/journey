{
 "cells": [
  {
   "cell_type": "markdown",
   "id": "b7a684ca-39c2-4903-b35f-325c024ad0d2",
   "metadata": {},
   "source": [
    "# Day 7 - Debrief"
   ]
  },
  {
   "cell_type": "markdown",
   "id": "c1b9b2c7-cab0-435f-ac51-dce51ff8930a",
   "metadata": {},
   "source": [
    "## What I did today\n",
    "\n",
    "Today, I finished the fourth chapter of Sutton & Barto, about dynamic programming, again solving all the exercises along the way and gaining some experience with the methods in practice. I then watched David Silver's lecture on the same topic, and started the fifth chapter of Sutton & Barto, on Monte Carlo methods."
   ]
  },
  {
   "cell_type": "markdown",
   "id": "809fa156-979b-41e5-888f-e127d62697a8",
   "metadata": {},
   "source": [
    "## What I learned today\n",
    "\n",
    "I learned about value iteration and generalized policy iteration, of which the previous methods are all special cases. I also learned about the differences between synchronous and asynchronous dynamic programming, and the practical implications of each. Then I found out, not just from the book, but from using the methods myself, that they can be quite fast in practice.\n",
    "\n",
    "Starting with the fifth chapter of the book, I learned how Monte Carlo methods are used to learn value functions from experience in the real environment, or even from simulated experience, as a model to sample trajectories from is much simpler to implement in practice, than one that models the entire probability distributions over states, actions, and rewards. I learned about the differnce between first-visit and every-visit methods for estimating state-values using Monte Carlo methods."
   ]
  },
  {
   "cell_type": "markdown",
   "id": "ee1082f7-bb6c-478c-b88e-2e144f53cf8b",
   "metadata": {},
   "source": [
    "## Notes and questions for the next day\n",
    "\n",
    "Today's programming went quite a bit smoother than yesterday's. My focus should be on somehow reducing my need for \"perfection,\" meaning I seemingly have standards that are too hight to be practical, as I spend a lot of time, sometimes hours, polishing details that don't matter for the learning task at hand."
   ]
  }
 ],
 "metadata": {
  "kernelspec": {
   "display_name": "Python 3 (ipykernel)",
   "language": "python",
   "name": "python3"
  },
  "language_info": {
   "codemirror_mode": {
    "name": "ipython",
    "version": 3
   },
   "file_extension": ".py",
   "mimetype": "text/x-python",
   "name": "python",
   "nbconvert_exporter": "python",
   "pygments_lexer": "ipython3",
   "version": "3.12.8"
  }
 },
 "nbformat": 4,
 "nbformat_minor": 5
}
