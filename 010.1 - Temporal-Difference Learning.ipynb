{
 "cells": [
  {
   "cell_type": "markdown",
   "id": "e75ba401-887e-4696-b7a9-889d79d01284",
   "metadata": {},
   "source": [
    "# Day 10 - Temporal-Difference Learning"
   ]
  },
  {
   "cell_type": "markdown",
   "id": "632cadbf-b809-4498-9ed9-2994cfd27dbd",
   "metadata": {},
   "source": [
    "## TD Prediction\n",
    "\n",
    "*"
   ]
  }
 ],
 "metadata": {
  "kernelspec": {
   "display_name": "Python 3 (ipykernel)",
   "language": "python",
   "name": "python3"
  },
  "language_info": {
   "codemirror_mode": {
    "name": "ipython",
    "version": 3
   },
   "file_extension": ".py",
   "mimetype": "text/x-python",
   "name": "python",
   "nbconvert_exporter": "python",
   "pygments_lexer": "ipython3",
   "version": "3.12.8"
  }
 },
 "nbformat": 4,
 "nbformat_minor": 5
}
