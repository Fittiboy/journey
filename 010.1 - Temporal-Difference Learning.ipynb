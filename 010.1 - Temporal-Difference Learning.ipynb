{
 "cells": [
  {
   "cell_type": "markdown",
   "id": "e75ba401-887e-4696-b7a9-889d79d01284",
   "metadata": {},
   "source": [
    "# Day 10 - Temporal-Difference Learning"
   ]
  },
  {
   "cell_type": "markdown",
   "id": "632cadbf-b809-4498-9ed9-2994cfd27dbd",
   "metadata": {},
   "source": [
    "## TD Prediction\n",
    "\n",
    "* Where Monte Carlo methods update at the end of each episode, TD methods use bootstrapping to update at each time step\n",
    "\n",
    "$$\n",
    "\\begin{align}\n",
    "V(S_t)&\\leftarrow V(S_t)+\\alpha[R_{t+1}+\\gamma V(S_{t+1})-V(S_t)] \\\\\n",
    "&=(1-\\alpha)V(S_t)+\\alpha(R_{t+1}+\\gamma V(S_{t+1}))\n",
    "\\end{align}\n",
    "$$\n",
    "* TD combines the sampling of Monte Carlo with the bootstrapping of DP methods, gaining the advantages of both\n",
    "* In the update, $R_{t+1}+\\gamma V(S_{t+1})-V(S_t)$ is called the TD-error $\\delta_t$\n",
    "* An example, estimating the time it takes to drive home:\n",
    "\n",
    "|State                      |Elapsed Time (minutes)|Predicted Time to Go|Predicted Total Time|\n",
    "|---------------------------|----------------------|--------------------|--------------------|\n",
    "|leaving office, friday at 6|$0$                   |$30$                |$30$                |\n",
    "|reach car, raining         |$5$                   |$35$                |$40$                |\n",
    "|exiting highway            |$20$                  |$15$                |$35$                |\n",
    "|2ndary road, behind truck  |$30$                  |$10$                |$40$                |\n",
    "|entering home street       |$40$                  |$3$                 |$43$                |\n",
    "|arrive home                |$43$                  |$0$                 |$43$                |\n",
    "\n",
    "* The next week, you run into bumper-to-bumper traffic on the highway, estimating a total of 50 minutes to get home:\n",
    "\n",
    "|State                      |Elapsed Time (minutes)|Predicted Time to Go|Predicted Total Time|\n",
    "|---------------------------|----------------------|--------------------|--------------------|\n",
    "|leaving office, monday at 6|$0$                   |$30$                |$30$                |\n",
    "|stuck on highway           |$25$                  |$25$                |$50$                |\n",
    "\n",
    "* Using TD, with $\\alpha=\\frac{1}{2}$, you can now update your estimate for getting home from the office immediately:\n",
    "\n",
    "|State                      |Elapsed Time (minutes)|Predicted Time to Go      |Predicted Total Time|\n",
    "|---------------------------|----------------------|--------------------------|--------------------|\n",
    "|leaving office, monday at 6|$0$                   |$30+\\frac{1}{2}(50-30)=40$|$40$                |\n",
    "|stuck on highway           |$25$                  |$25$                      |$50$                |"
   ]
  },
  {
   "cell_type": "markdown",
   "id": "a6e816fe-4611-4231-9646-d6422f9a111a",
   "metadata": {},
   "source": [
    "### $Exercise\\ \\mathcal{6.1}$\n",
    "\n",
    "#### If $V$ changes during the episode, then (6.6) only holds approximately; what would the difference be between the two sides? Let $V_t$ denote the array of state values used at time $t$ in the TD error (6.5) and in the TD update (6.2). Redo the derivation above to determine the additional amount that must be added to the sum of TD errors in order to equal the Monte Carlo error.\n",
    "\n",
    "If $V$ changes during the episode, then the Monte Carlo error needs to explicitly take the time step $t$ into account:\n",
    "\n",
    "$$\n",
    "\\begin{align}\n",
    "G_t-V_t(S_t)&=R_{t+1}+\\gamma G_{t+1}-V_t(S_{t+1})+\\gamma V_{t+1}(S_{t+1})-\\gamma V_{t+1}(S_{t+1}) \\\\\n",
    "&=R_{t+1}+\\gamma V_{t+1}(S_{t+1})-V_t(S_{t+1})+\\gamma (G_{t+1}-V_{t+1}(S_{t+1})) \\\\\n",
    "&=R_{t+1}+\\gamma (V_t(S_{t+1})+[V_{t+1}(S_{t+1})-V_t(S_{t+1})])-V_t(S_{t+1})+\\gamma (G_{t+1}-V_{t+1}(S_{t+1})) \\\\\n",
    "&=(R_{t+1}+\\gamma V_t(S_{t+1})-V_t(S_{t+1}))+\\gamma \\Delta_t+\\gamma (G_{t+1}-V_{t+1}(S_{t+1})) \\\\\n",
    "&=\\delta_t+\\gamma \\Delta_t+\\gamma (G_{t+1}-V_{t+1}(S_{t+1})) \\\\\n",
    "&=\\delta_t+\\gamma \\Delta_t+\\gamma (\\delta_{t+1}+\\gamma \\Delta_{t+1}+\\gamma (G_{t+2}-V_{t+2}(S_{t+2}))) \\\\\n",
    "&=\\delta_t+\\gamma \\Delta_t+\\gamma \\delta_{t+1}+\\gamma^2 \\Delta_{t+1}+\\gamma^2 (G_{t+2}-V_{t+2}(S_{t+2})) \\\\\n",
    "&=\\delta_t+\\gamma \\Delta_t+\\gamma \\delta_{t+1}+\\gamma^2 \\Delta_{t+1}+\\gamma^2 \\delta_{t+2}+\\gamma^3 \\Delta_{t+2}+\\dots+\\gamma^{T-1-t}\\delta_{T-1}+\\gamma^{T-t}\\Delta_{T-1}  \\\\\n",
    "&=\\sum_{k=t}^{T-1}\\gamma^{k-t}\\delta_k+\\sum_{k=t+1}^{T-1}\\gamma^{k-t}\\Delta_{k-1}, \\\\\n",
    "\\end{align}\n",
    "$$\n",
    "where $\\Delta_t\\doteq V_{t+1}(S_{t+1})-V_t(S_{t+1})$. So the additional amount added to the error is the change in $V$ over the course of the episode. The sum terminates at $\\Delta_{T-2}$, because $\\Delta_{T-1}=V_{T}(S_T)-V_{T-1}(S_T)=0-0=0$."
   ]
  },
  {
   "cell_type": "markdown",
   "id": "8be21e40-433b-424d-8474-9e9da0a739d4",
   "metadata": {},
   "source": [
    "### $Exercise\\ \\mathcal{6.2}$\n",
    "\n",
    "#### This is an exercise to help develop your intuition about why TD methods are often more efficient than Monte Carlo methods. Consider the driving home example and how it is addressed by TD and Monte Carlo methods. Can you imagine a scenario in which a TD update would be better on average than a Monte Carlo update? Give an example scenario—a description of past experience and a current state—in which you would expect the TD update to be better. Here’s a hint: Suppose you have lots of experience driving home from work. Then you move to a new building and a new parking lot (but you still enter the highway at the same place). Now you are starting to learn predictions for the new building. Can you see why TD updates are likely to be much better, at least initially, in this case? Might the same sort of thing happen in the original scenario?\n",
    "\n",
    "When moving to a new building and parking lot, the Monte Carlo method would have to learn entirely new estimates of the first couple of states based on complete sample returns. Using TD, however, we can learn estimates as soon as we get on the highway, for which we still have our previous estimates to use as a target in the TD-error. This immediately propagates that information to our new beginning states."
   ]
  },
  {
   "cell_type": "markdown",
   "id": "bd3885af-5246-4de9-a305-e1060ed7d07a",
   "metadata": {},
   "source": [
    "## Advantages of TD Prediction Methods\n",
    "\n",
    "* TD methods do not need a model of the environment, which is an advantage over DP methods\n",
    "* TD methods can bootstrap, and learn from all transitions at all time steps, which is an advantage over Monte Carlo methods\n",
    "* For any fixed policy $\\pi$, TD($0$) has been proved to converge to $v_\\pi$ (in the tabular case)\n",
    "* Some proofs even extend to linear function approximation"
   ]
  },
  {
   "cell_type": "markdown",
   "id": "f4968dcd-3356-4b76-a121-6b177c5b30f5",
   "metadata": {},
   "source": [
    "### $Exercise\\ \\mathcal{6.3}$\n",
    "\n",
    "#### From the results shown in the left graph of the random walk example it appears that the first episode results in a change in only $V(A)$. What does this tell you about what happened on the first episode? Why was only the estimate for this one state changed? By exactly how much was it changed?\n",
    "\n",
    "The first episode ended in the terminal state on the left, with a reward of $0$. After this final step, the value $V(A)$ was updated to $V_1(A)=V_0(A)+\\alpha(R_T+V(S_T)-V_0(A))=0.5+0.1(0+0-0.5)=0.45$."
   ]
  },
  {
   "cell_type": "markdown",
   "id": "9e319fc2-1a63-4c31-b7b0-a5c25d4393cc",
   "metadata": {},
   "source": [
    "### $Exercise\\ \\mathcal{6.4}$\n",
    "\n",
    "#### The specific results shown in the right graph of the random walk example are dependent on the value of the step-size parameter, $\\alpha$. Do you think the conclusions about which algorithm is better would be affected if a wider range of $\\alpha$ values were used? Is there a different, fixed value of $\\alpha$ at which either algorithm would have performed significantly better than shown? Why or why not?\n",
    "\n",
    "The effect of the learning rate $\\alpha$ is such that a lower learning rate will slow convergence, while also lowering the mean of the final error. The update steps are smaller, which means that, intially, the updates move the estimates towards the true value only very slowly, from the bias introduced by the initializtion of the estimates. Later on, when the estimates are close to the true value, a smaller step size means that the estimate overshoots this true value less on each update, staying closer to it. So for both methods, changing $\\alpha$ will have the same effect of lowering variance, while increasing the time to convergence. This gives neither method a futher advantage over the other for some specifically chosen $\\alpha$. However, both methods would perform significantly better in the (very) long run with much smaller learning rates, while converging faster with higher learning rates. The higher learning rates would continue raising the RMS error though, which would become unacceptably high quite quickly."
   ]
  },
  {
   "cell_type": "markdown",
   "id": "d7493653-b5ad-43e6-b9ac-9f3cfc6deb5e",
   "metadata": {},
   "source": [
    "### $^*Exercise\\ \\mathcal{6.5}$\n",
    "\n",
    "#### In the right graph of the random walk example, the RMS error of the TD method seems to go down and then up again, particularly at high $\\alpha$’s. What could have caused this? Do you think this always occurs, or might it be a function of how the approximate value function was initialized?\n",
    "\n",
    "As state C was initialized at its true value, the error here is at zero in the beginning, slowly increased by the noisy jumps introduced by the estimates of the neighboring states. Had the values been initialized arbitrarily, for example all at $0$, the error would likely never have reached the minimum seen in the right graph, and instead would have approached the slightly higher asymptotic error."
   ]
  },
  {
   "cell_type": "markdown",
   "id": "79ce5412-d32d-4e3f-b11e-52e1c51a45a3",
   "metadata": {},
   "source": [
    "### $Exercise\\ \\mathcal{6.6}$\n",
    "\n",
    "#### In Example 6.2 we stated that the true values for the random walk example are $\\frac{1}{6}$, $\\frac{2}{6}$, $\\frac{3}{6}$, $\\frac{4}{6}$, and $\\frac{5}{6}$, for states A through E. Describe at least two different ways that these could have been computed. Which would you guess we actually used? Why?\n",
    "\n",
    "As the environment dynamics are known, the values can be directly computed by solving the system of linear equations given by modified (action-free) Bellman equations. Alternatively, the symmetry of the problem can be exploited to immediately see that the value of state C must be the average of the values of the terminal state transitions, $0.5$. This has to be equal to the average of the values of its neighboring states, $B$ and $D$. The values of states $A$ and $E$ are \"anchored\" on one side each by the terminal state transitions' known rewards, as well as the values of states $B$ and $D$ respectively. Substituting gives very simple equations to quickly solve for the remaining values. Which method was likely used depends on the easily available tools. Given a convenient function for solving systems of linear equations given my Markov processes, doing this would be faster than solving it manually using the second method. Without a function like this, manually solving it by hand, using the second method, would have been much faster."
   ]
  },
  {
   "cell_type": "markdown",
   "id": "76acc1df-7c28-410f-8231-10742eb2f356",
   "metadata": {},
   "source": [
    "## Optimality of TD(0)\n",
    "\n",
    "* Given a finite amount of experience, $batch\\ updating$ refers to computing all update increments for all episode, and then only adjusting the value function estimate once, repeating this until convergence\n",
    "* Both TD(0) and constant-$\\alpha$ MC methods converge deterministically under these conditions, but to different answers\n",
    "* While experiencing new episodes, after each new episode, batch updates are performed until convorgence, before adding the next episode\n",
    "* TD(0) seems to perform better in practice, than MC methods, and it appears that this might be due to MC methods overfitting on the final returns in the training data\n",
    "* Batch MC minimizes error on the training data, while batch TD(0) minimizes error on the $maximum$-$likelihood\\ estimate$ of the real Markov process\n",
    "* The maximum-likelihood parameter for the model of the process is the one that would most likely generate the data\n",
    "* Batch TD(0) converges to the estimate that would be exactly correct if the maximum-likelihood estimate of the model was exactly correct, called the $certainty$-$equivalence\\ estimate$\n",
    "* While nonbatch-TD(0) does not converge directly to this, it can be understood as trying to move towards this"
   ]
  },
  {
   "cell_type": "markdown",
   "id": "8f71dd68-14e6-47b5-8c3f-67a73bb2b4f6",
   "metadata": {},
   "source": [
    "### $^*Exercise\\ \\mathcal{6.7}$\n",
    "\n",
    "#### Design an off-policy version of the TD(0) update that can be used with arbitrary target policy $\\pi$ and covering behavior policy $b$, using at each step $t$ the importance sampling ratio $\\rho_{t:t}$ (5.3). \n",
    "\n",
    "$$\n",
    "V(S_t)\\leftarrow V(S_t)+\\alpha\\rho_{t:t}\\left[R_{t+1}+\\gamma V(S_{t+1})-V(S_t)\\right]\n",
    "$$"
   ]
  },
  {
   "cell_type": "markdown",
   "id": "8e6c42a8-56ce-4cbf-8737-93ca8ea9a5ac",
   "metadata": {},
   "source": [
    "## Sarsa: On-policy TD Control\n",
    "\n",
    "* Sarsa learns $Q$ instead of $V$, updating after every experienced $S_t, A_t, R_{t+1}, S_{t+1}$ and chosen $A_{t+1}$, which make up the name $SARSA$\n",
    "* As this is also a Markov chain, the theorems for TD(0) apply here as well"
   ]
  },
  {
   "cell_type": "markdown",
   "id": "29d2148c-e2a6-45d6-8afe-bcf433bd91af",
   "metadata": {},
   "source": [
    "### $Exercise\\ \\mathcal{6.8}$\n",
    "\n",
    "#### Show that an action-value version of (6.6) holds for the action-value form of the TD error $\\delta_t=R_{t+1}+\\gamma Q(S_{t+1},A_{t+1})-Q(S_t,A_t)$, again assuming that the values don’t change from step to step.\n",
    "\n",
    "$$\n",
    "\\begin{align}\n",
    "G_t-Q(S_t,A_t)&=R_{t+1}+\\gamma G_{t+1}-Q(S_t,A_t)+\\gamma Q(S_{t+1},A_{t+1})-\\gamma Q(S_{t+1},A_{t+1}) \\\\\n",
    "&=R_{t+1}+\\gamma Q(S_{t+1},A_{t+1})-Q(S_t,A_t)+\\gamma (G_{t+1}- Q(S_{t+1},A_{t+1})) \\\\\n",
    "&=\\delta_t+\\gamma (G_{t+1}- Q(S_{t+1},A_{t+1})) \\\\\n",
    "&=\\delta_t+\\gamma^2\\delta_{t+1}+\\gamma^2 (G_{t+2}- Q(S_{t+2},A_{t+2}))) \\\\\n",
    "&=\\delta_t+\\gamma^2\\delta_{t+1}+\\gamma^3\\delta{t+2}+\\dots+\\gamma^{T-1-t}\\delta_{T-1} \\\\\n",
    "&=\\sum_{k=t}^{T-1}\\gamma^{k-t}\\delta_k\n",
    "\\end{align}\n",
    "$$"
   ]
  },
  {
   "cell_type": "markdown",
   "id": "9edb72c9-40ec-41da-bc29-bc0dc7ea7a79",
   "metadata": {},
   "source": [
    "### $Exercise\\ \\mathcal{6.9}\\ Windy\\ Gridworld\\ with\\ King's\\ Moves\\ (programming)$\n",
    "\n",
    "#### Re-solve the windy gridworld assuming eight possible actions, including the diagonal moves, rather than four. How much better can you do with the extra actions? Can you do even better by including a ninth action that causes no movement at all other than that caused by the wind?\n",
    "\n",
    "The ninth action is actually not necessary, as the agent can already reach the goal in the minimum required number of steps, which is 7."
   ]
  },
  {
   "cell_type": "code",
   "execution_count": 1,
   "id": "93664a4d-8f1a-4e3a-8dd5-ea15da1dcdd5",
   "metadata": {},
   "outputs": [],
   "source": [
    "import matplotlib.pyplot as plt\n",
    "import seaborn as sns\n",
    "import numpy as np\n",
    "import imageio\n",
    "import os\n",
    "\n",
    "from IPython.display import Image\n",
    "\n",
    "\n",
    "class WindyGridWorld:\n",
    "    def __init__(self, name=None):\n",
    "        self.name = name\n",
    "        self.height = 7\n",
    "        self.width = 10\n",
    "        self.grid = np.zeros((self.height, self.width), dtype=int)\n",
    "        self.num_states = self.grid.size\n",
    "        self.num_actions = 8\n",
    "        self.start = (3, 0)\n",
    "        self.goal = (3, 7)\n",
    "        self.wind = np.array([0, 0, 0, 1, 1, 1, 2, 2, 1, 0], dtype=int)\n",
    "        self.reset()\n",
    "\n",
    "    def reset(self):\n",
    "        self.state = self.start\n",
    "        return np.ravel_multi_index(self.state, self.grid.shape)\n",
    "\n",
    "    def step(self, action_index):\n",
    "        terminal = False\n",
    "        dr, dc = self.index_to_action(action_index)\n",
    "        r, c = self.state\n",
    "        w = self.wind[c]\n",
    "        r = self.clamp_r(r + dr - w)\n",
    "        c = self.clamp_c(c + dc)\n",
    "\n",
    "        self.state = (r, c)\n",
    "        if self.state == self.goal:\n",
    "            self.reset()\n",
    "            terminal=True\n",
    "\n",
    "        return np.ravel_multi_index(self.state, self.grid.shape), -1, terminal\n",
    "\n",
    "    def index_to_action(self, index):\n",
    "        actions = np.array([\n",
    "            (-1, -1), (-1, 0), (-1, 1),\n",
    "            ( 0, -1),          ( 0, 1),\n",
    "            ( 1, -1), ( 1, 0), ( 1, 1)\n",
    "        ])\n",
    "        return actions[index]\n",
    "\n",
    "    def clamp(self, val, high):\n",
    "        return max(0, min(high, val))\n",
    "\n",
    "    def clamp_r(self, r):\n",
    "        return self.clamp(r, self.height - 1)\n",
    "        \n",
    "    def clamp_c(self, c):\n",
    "        return self.clamp(c, self.width - 1)\n",
    "\n",
    "    def full_state(self, pos=None):\n",
    "        if pos is None:\n",
    "            pos = self.state\n",
    "        grid = self.grid.copy()\n",
    "        grid[self.start] = 1\n",
    "        grid[self.goal] = 1\n",
    "        grid[pos] = 2\n",
    "        return grid\n",
    "\n",
    "    def render_state(self):\n",
    "        fig, ax = plt.subplots(figsize=(self.width, self.height))\n",
    "        sns.heatmap(self.full_state(), ax=ax, cbar=False)\n",
    "        ax.axis('off')\n",
    "        plt.show()\n",
    "\n",
    "    def render_episode(self, episode):\n",
    "        frames = []\n",
    "        for state in episode:\n",
    "            fig, ax = plt.subplots(figsize=(self.width, self.height))\n",
    "            pos = np.unravel_index(state, self.grid.shape)\n",
    "            sns.heatmap(self.full_state(pos), ax=ax, cbar=False)\n",
    "            ax.axis('off')\n",
    "            plt.savefig('animations/temp_frame.png', bbox_inches='tight', pad_inches=0)\n",
    "            frames.append(imageio.v2.imread('animations/temp_frame.png'))\n",
    "            plt.close()\n",
    "\n",
    "        if self.name is None:\n",
    "            filename = 'episode_heatmap_wgw.gif'\n",
    "        else:\n",
    "            filename = f'episode_heatmap_{self.name}.gif'\n",
    "        imageio.mimsave('animations/' + filename, frames, fps=2, loop=0)\n",
    "        os.remove('animations/temp_frame.png')"
   ]
  },
  {
   "cell_type": "code",
   "execution_count": 2,
   "id": "02896e36-8dea-46e9-be87-20c4b9c6fe6a",
   "metadata": {},
   "outputs": [],
   "source": [
    "from tqdm import tqdm\n",
    "\n",
    "\n",
    "class Sarsa:\n",
    "    def __init__(self, epsilon, alpha, grid_world):\n",
    "        self.alpha = alpha\n",
    "        self.epsilon = epsilon\n",
    "        self.grid_world = grid_world\n",
    "        self.num_states = grid_world.num_states\n",
    "        self.num_actions = grid_world.num_actions\n",
    "        self.Q = np.zeros((self.num_states, self.num_actions))\n",
    "        self.ep_lengths = []\n",
    "\n",
    "    def select_action(self, state):\n",
    "        action = np.argmax(self.Q[state])\n",
    "        if np.random.random() < self.epsilon:\n",
    "            action = np.random.randint(0, self.num_actions)\n",
    "        return action\n",
    "\n",
    "    def train(self, num_episodes=8_000):\n",
    "        for _ in tqdm(range(num_episodes)):\n",
    "            state = self.grid_world.reset()\n",
    "            action = self.select_action(state)\n",
    "            done = False\n",
    "            ep_length = 0\n",
    "            while not done:\n",
    "                ep_length += 1\n",
    "                new_state, reward, done = self.grid_world.step(action)\n",
    "                new_action = self.select_action(new_state)\n",
    "                if done:\n",
    "                    self.Q[state, action] += self.alpha * (reward - self.Q[state, action])\n",
    "                else:\n",
    "                    self.Q[state, action] += self.alpha * (\n",
    "                        reward + self.Q[new_state, new_action] - self.Q[state, action]\n",
    "                    )\n",
    "                state, action = new_state, new_action\n",
    "            self.ep_lengths.append(ep_length)\n",
    "\n",
    "    def plot_ep_lengths(self):\n",
    "        fig, ax = plt.subplots(figsize=(6, 4))\n",
    "        ax.plot(self.ep_lengths)\n",
    "        ax.set_xlabel(\"Episode\")\n",
    "        ax.set_ylabel(\"Steps to solve\")\n",
    "        plt.show()\n",
    "\n",
    "    def play_episode(self):\n",
    "        state = self.grid_world.reset()\n",
    "        done = False\n",
    "        episode = []\n",
    "        while not done:\n",
    "            episode.append(state)\n",
    "            action = self.select_action(state)\n",
    "            state, _, done = self.grid_world.step(action)\n",
    "\n",
    "        return episode"
   ]
  },
  {
   "cell_type": "code",
   "execution_count": 3,
   "id": "f6df0978-a6b4-450e-ab18-987eb1af4047",
   "metadata": {},
   "outputs": [],
   "source": [
    "epsilon = 0.01\n",
    "alpha = 0.01\n",
    "\n",
    "world = WindyGridWorld(\"Sarsa\")\n",
    "agent = Sarsa(epsilon, alpha, world)"
   ]
  },
  {
   "cell_type": "code",
   "execution_count": 4,
   "id": "8b6438d0-5be0-4c4a-a8f7-cea7525b3ebf",
   "metadata": {},
   "outputs": [
    {
     "name": "stderr",
     "output_type": "stream",
     "text": [
      "100%|███████████████████████████████████████████████████████████████| 8000/8000 [00:01<00:00, 6177.64it/s]\n"
     ]
    },
    {
     "data": {
      "image/png": "[encoded data removed]",
      "text/plain": [
       "<Figure size 600x400 with 1 Axes>"
      ]
     },
     "metadata": {},
     "output_type": "display_data"
    },
    {
     "name": "stdout",
     "output_type": "stream",
     "text": [
      "Average episode length for the last 1,000 episodes: 9.087\n"
     ]
    }
   ],
   "source": [
    "agent.train()\n",
    "agent.plot_ep_lengths()\n",
    "print(f\"Average episode length for the last 1,000 episodes: {np.average(agent.ep_lengths[-1000:])}\")"
   ]
  },
  {
   "cell_type": "code",
   "execution_count": 5,
   "id": "e170c5f8-9363-4bc7-9bfe-567873eb82bb",
   "metadata": {},
   "outputs": [
    {
     "name": "stdout",
     "output_type": "stream",
     "text": [
      "Episode finished! Rendering animation...\n"
     ]
    },
    {
     "data": {
      "text/html": [
       "<img src=\"animations/episode_heatmap_Sarsa.gif\"/>"
      ],
      "text/plain": [
       "<IPython.core.display.Image object>"
      ]
     },
     "execution_count": 5,
     "metadata": {},
     "output_type": "execute_result"
    }
   ],
   "source": [
    "episode = agent.play_episode()\n",
    "print(\"Episode finished! Rendering animation...\")\n",
    "world.render_episode(episode)\n",
    "Image(url='animations/episode_heatmap_Sarsa.gif')"
   ]
  },
  {
   "cell_type": "markdown",
   "id": "d1f5c45d-d455-4630-80f2-3b7602f8a15a",
   "metadata": {},
   "source": [
    "### $Exercise\\ \\mathcal{6.9}\\ Stochastic\\ Wind\\ (programming)$\n",
    "\n",
    "#### Re-solve the windy gridworld task with King’s moves, assuming that the effect of the wind, if there is any, is stochastic, sometimes varying by 1 from the mean values given for each column. That is, a third of the time you move exactly according to these values, as in the previous exercise, but also a third of the time you move one cell above that, and another third of the time you move one cell below that. For example, if you are one cell to the right of the goal and you move $\\mathtt{left}$, then one-third of the time you move one cell above the goal, one-third of the time you move two cells above the goal, and one-third of the time you move to the goal.\n",
    "\n",
    "Sure:"
   ]
  },
  {
   "cell_type": "code",
   "execution_count": 6,
   "id": "45e8e29b-d8e6-4d0f-909f-3fe09e868007",
   "metadata": {},
   "outputs": [],
   "source": [
    "class StochasticWindyGridWorld(WindyGridWorld):\n",
    "    def __init__(self, name=None):\n",
    "        super().__init__(name)\n",
    "\n",
    "    def step(self, action_index):\n",
    "        terminal = False\n",
    "        dr, dc = self.index_to_action(action_index)\n",
    "        r, c = self.state\n",
    "        w = self.wind[c]\n",
    "        if w != 0:\n",
    "            rand = np.random.random()\n",
    "            if rand < 1/3:\n",
    "                w -= 1\n",
    "            elif rand > 2/3:\n",
    "                w += 1\n",
    "        r = self.clamp_r(r + dr - w)\n",
    "        c = self.clamp_c(c + dc)\n",
    "\n",
    "        self.state = (r, c)\n",
    "        if self.state == self.goal:\n",
    "            self.reset()\n",
    "            terminal=True\n",
    "\n",
    "        return np.ravel_multi_index(self.state, self.grid.shape), -1, terminal"
   ]
  },
  {
   "cell_type": "code",
   "execution_count": 7,
   "id": "91ef8dab-a592-40d7-92be-ad32a04995dd",
   "metadata": {},
   "outputs": [],
   "source": [
    "epsilon = 0.01\n",
    "alpha = 0.01\n",
    "\n",
    "world = StochasticWindyGridWorld(\"Stochastic Sarsa\")\n",
    "agent = Sarsa(epsilon, alpha, world)"
   ]
  },
  {
   "cell_type": "code",
   "execution_count": 8,
   "id": "6c5e4bd7-4a3f-44c0-8cf3-6ef21a3dc24e",
   "metadata": {},
   "outputs": [
    {
     "name": "stderr",
     "output_type": "stream",
     "text": [
      "100%|██████████████████████████████████████████████████████████| 100000/100000 [00:08<00:00, 11804.26it/s]\n"
     ]
    },
    {
     "data": {
      "image/png": "[encoded data removed]",
      "text/plain": [
       "<Figure size 600x400 with 1 Axes>"
      ]
     },
     "metadata": {},
     "output_type": "display_data"
    },
    {
     "name": "stdout",
     "output_type": "stream",
     "text": [
      "Average episode length for the last 10,000 episodes: 11.3343\n"
     ]
    }
   ],
   "source": [
    "agent.train(100_000)\n",
    "agent.plot_ep_lengths()\n",
    "print(f\"Average episode length for the last 10,000 episodes: {np.average(agent.ep_lengths[-10000:])}\")"
   ]
  },
  {
   "cell_type": "code",
   "execution_count": 9,
   "id": "7d51b626-c763-4bda-93e5-ec00e666cebc",
   "metadata": {},
   "outputs": [
    {
     "name": "stdout",
     "output_type": "stream",
     "text": [
      "Episode finished! Rendering animation...\n"
     ]
    },
    {
     "data": {
      "text/html": [
       "<img src=\"animations/episode_heatmap_Stochastic Sarsa.gif\"/>"
      ],
      "text/plain": [
       "<IPython.core.display.Image object>"
      ]
     },
     "execution_count": 9,
     "metadata": {},
     "output_type": "execute_result"
    }
   ],
   "source": [
    "episode = []\n",
    "for _ in range(10):\n",
    "    episode += agent.play_episode()\n",
    "print(\"Episode finished! Rendering animation...\")\n",
    "world.render_episode(episode)\n",
    "Image(url='animations/episode_heatmap_Stochastic Sarsa.gif')"
   ]
  },
  {
   "cell_type": "markdown",
   "id": "e0f38602-05e2-47fa-9664-439b91c5f1ba",
   "metadata": {},
   "source": [
    "## Q-learning: Off-policy TD Control\n",
    "\n",
    "* In Q-learning the update rule is nearly the same as Sarsa's, except that the maximum action value is chosen for the update, instead of the next action to actually be taken\n",
    "\n",
    "$$\n",
    "Q(S_t,A_t)\\leftarrow Q(S_t,A_t)+\\alpha\\left[R_{t+1}+\\gamma \\underset{a}{\\operatorname{max}}Q(S_{t+1},a)-Q(S_t,A_t)\\right]\n",
    "$$\n",
    "* The updates are independent of the policy followed, but this policy still decides *which* states are updated\n",
    "* As long as all state-action pairs are sampled, $Q$ converges to $q_*$"
   ]
  },
  {
   "cell_type": "markdown",
   "id": "191ac9ea-c554-458e-b78a-01b7bb1d1247",
   "metadata": {},
   "source": [
    "### $Exercise\\ \\mathcal{6.11}$\n",
    "\n",
    "#### Why is Q-learning considered an *off-policy* control method?\n",
    "\n",
    "The updates in Q-learning are not done according to the policy used, but according to the policy greedy with respect to the current estimates. As this is done for action-values, this means that no importance sampling has to be involved."
   ]
  },
  {
   "cell_type": "markdown",
   "id": "e5d065c0-2158-41c0-bb26-c10c16693103",
   "metadata": {},
   "source": [
    "### $Exercise\\ \\mathcal{6.12}$\n",
    "\n",
    "#### Suppose action selection is greedy. Is Q-learning then exactly the same algorithm as Sarsa? Will they make exactly the same action selections and weight updates? \n",
    "\n",
    "As they are both greedy with respect to their current action-value estimates, they will take the same actions, as long as their estimates are equal. Since the Q-learning estimate assumes the maximizing action, this is the same as using the actually selected action for the update, if the action is selected greedily. So, in the greedy case, they are equal."
   ]
  },
  {
   "cell_type": "code",
   "execution_count": 10,
   "id": "a9abf13e-c393-430f-84e3-ce7d3b0ff591",
   "metadata": {},
   "outputs": [],
   "source": [
    "from wgw_q import *\n",
    "\n",
    "epsilon = 0.01\n",
    "alpha = 0.01\n",
    "\n",
    "world = StochasticWindyGridWorld(\"Stochastic Q\")\n",
    "agent = QLearning(epsilon, alpha, world)"
   ]
  },
  {
   "cell_type": "code",
   "execution_count": 11,
   "id": "1a65c194-3c14-4b65-862d-61918e21b378",
   "metadata": {},
   "outputs": [
    {
     "name": "stderr",
     "output_type": "stream",
     "text": [
      "100%|███████████████████████████████████████████████████████████| 100000/100000 [00:10<00:00, 9732.97it/s]\n"
     ]
    },
    {
     "data": {
      "image/png": "[encoded data removed]",
      "text/plain": [
       "<Figure size 600x400 with 1 Axes>"
      ]
     },
     "metadata": {},
     "output_type": "display_data"
    },
    {
     "name": "stdout",
     "output_type": "stream",
     "text": [
      "Average episode length for the last 10,000 episodes: 11.2437\n"
     ]
    }
   ],
   "source": [
    "agent.train(100_000)\n",
    "agent.plot_ep_lengths()\n",
    "print(f\"Average episode length for the last 10,000 episodes: {np.average(agent.ep_lengths[-10000:])}\")"
   ]
  },
  {
   "cell_type": "code",
   "execution_count": 12,
   "id": "02c00cbb-c56c-4a25-88e4-68b880322578",
   "metadata": {},
   "outputs": [
    {
     "name": "stdout",
     "output_type": "stream",
     "text": [
      "Episode finished! Rendering animation...\n"
     ]
    },
    {
     "data": {
      "text/html": [
       "<img src=\"animations/episode_heatmap_Stochastic Q.gif\"/>"
      ],
      "text/plain": [
       "<IPython.core.display.Image object>"
      ]
     },
     "execution_count": 12,
     "metadata": {},
     "output_type": "execute_result"
    }
   ],
   "source": [
    "episode = []\n",
    "for _ in range(10):\n",
    "    episode += agent.play_episode()\n",
    "print(\"Episode finished! Rendering animation...\")\n",
    "world.render_episode(episode)\n",
    "Image(url='animations/episode_heatmap_Stochastic Q.gif')"
   ]
  },
  {
   "cell_type": "markdown",
   "id": "299b6083-30c7-41fd-855a-50834bdf2d9b",
   "metadata": {},
   "source": [
    "## Expected Sarsa\n",
    "\n",
    "* Expected Sarsa calculates the expected value over next actions\n",
    "\n",
    "$$\n",
    "\\begin{align}\n",
    "Q(S_t,A_t)&\\leftarrow Q(S_t,A_t)+\\alpha\\Biggl[R_{t+1}+\\gamma\\mathbb E_\\pi\\left[Q(S_{t+1},A_{t+1})|S_{t+1}\\right]-Q(S_t,A_t)\\Biggr] \\\\\n",
    "&=Q(S_t,A_t)+\\alpha\\Biggl[R_{t+1}+\\gamma\\sum_{a}\\pi(a|S_{t+1})Q(S_{t+1},a)-Q(S_t,A_t)\\Biggr] \\\\\n",
    "\\end{align}\n",
    "$$\n",
    "* It is more compuationally complex than Sarsa, but eliminates the variance from random action selection\n",
    "* Does the updates deterministically that Sarsa does in expectation\n",
    "* When all randomness comes from the policy, and not the environment, Expected Sarsa can even set $\\alpha=1$\n",
    "* Expected Sarsa often has an empirical advantage over Sarsa\n",
    "* It can be off-policy, for example by estimating the action-values of the greedy policy, in which case it is exaclty Q-learning\n",
    "* Aside from the additional computational cost, it seems to dominate both Sarsa and Q-learning"
   ]
  }
 ],
 "metadata": {
  "kernelspec": {
   "display_name": "Python 3 (ipykernel)",
   "language": "python",
   "name": "python3"
  },
  "language_info": {
   "codemirror_mode": {
    "name": "ipython",
    "version": 3
   },
   "file_extension": ".py",
   "mimetype": "text/x-python",
   "name": "python",
   "nbconvert_exporter": "python",
   "pygments_lexer": "ipython3",
   "version": "3.12.8"
  }
 },
 "nbformat": 4,
 "nbformat_minor": 5
}
