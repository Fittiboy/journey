{
 "cells": [
  {
   "cell_type": "markdown",
   "id": "4ff3c361-ed29-4f89-b6ce-2dab6dd9f770",
   "metadata": {},
   "source": [
    "# Day 22 - Debrief"
   ]
  },
  {
   "cell_type": "markdown",
   "id": "91c500f1-709c-43f0-9f4a-d793b96cd232",
   "metadata": {},
   "source": [
    "## What I did today\n",
    "\n",
    "I finished the fourth chapter of DLPT, and then worked through the entire fifth chapter as well"
   ]
  },
  {
   "cell_type": "markdown",
   "id": "48950227-d2f2-440a-aba0-82534748caf3",
   "metadata": {},
   "source": [
    "## What I learned today\n",
    "\n",
    "I learned a lot about how to manipulate tensors to represent real data to a neural network. I also learned the basic training loop in PyTorch, as well as some details about visualization."
   ]
  },
  {
   "cell_type": "markdown",
   "id": "0e6e1e99-ffe7-48b1-9b00-21ff8028a1cf",
   "metadata": {},
   "source": [
    "## Notes and questions for the next day\n",
    "\n",
    "I love how the reduced friction of my updated workflow has lowered the dread wall. I want to keep this up, and push it even further, if possible."
   ]
  }
 ],
 "metadata": {
  "kernelspec": {
   "display_name": "Python 3 (ipykernel)",
   "language": "python",
   "name": "python3"
  },
  "language_info": {
   "codemirror_mode": {
    "name": "ipython",
    "version": 3
   },
   "file_extension": ".py",
   "mimetype": "text/x-python",
   "name": "python",
   "nbconvert_exporter": "python",
   "pygments_lexer": "ipython3",
   "version": "3.12.8"
  }
 },
 "nbformat": 4,
 "nbformat_minor": 5
}
