{
 "cells": [
  {
   "cell_type": "markdown",
   "id": "dd3c58fb-ced2-4d1f-a0e3-2365c18654af",
   "metadata": {},
   "source": [
    "# Day 6 - Debrief"
   ]
  },
  {
   "cell_type": "markdown",
   "id": "0a88794c-052d-4be4-bad1-398d4cb425b2",
   "metadata": {},
   "source": [
    "## What I did today\n",
    "\n",
    "Today, I worked through the section on policy iteration, and then took an extremely long time to solve exercise 4.7, as I kept making small mistakes that broke the probability calculations."
   ]
  },
  {
   "cell_type": "markdown",
   "id": "ec306d0c-5a24-4110-8caf-3dbb3a449185",
   "metadata": {},
   "source": [
    "## What I learned today\n",
    "\n",
    "I learned about policy iteration, which is the process of alternating policy evaluation and policy improvement until the policy no longer changes. At that point, an optimal policy has been found."
   ]
  },
  {
   "cell_type": "markdown",
   "id": "674f7fb8-d331-4837-b82f-0ddefb9a36ec",
   "metadata": {},
   "source": [
    "## Notes and questions for the next day\n",
    "\n",
    "I need to stop just winging it, and actually plan my implementations beforehand. I keep making small mistakes that sometimes cost me hours of debugging, since there is so much untested code interacting that the error could be anywhere. At that point, restarting from scratch is a lot faster than debugging, so I could at the very least take that option sooner."
   ]
  }
 ],
 "metadata": {
  "kernelspec": {
   "display_name": "Python 3 (ipykernel)",
   "language": "python",
   "name": "python3"
  },
  "language_info": {
   "codemirror_mode": {
    "name": "ipython",
    "version": 3
   },
   "file_extension": ".py",
   "mimetype": "text/x-python",
   "name": "python",
   "nbconvert_exporter": "python",
   "pygments_lexer": "ipython3",
   "version": "3.12.8"
  }
 },
 "nbformat": 4,
 "nbformat_minor": 5
}
