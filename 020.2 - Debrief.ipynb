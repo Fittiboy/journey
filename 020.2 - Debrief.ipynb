{
 "cells": [
  {
   "cell_type": "markdown",
   "id": "d64fd50a-5e56-4078-b7ee-a21f5563520a",
   "metadata": {},
   "source": [
    "# Day 20 - Debrief"
   ]
  },
  {
   "cell_type": "markdown",
   "id": "09e66d1c-d0cf-4936-b304-8bc2dc1a5e89",
   "metadata": {},
   "source": [
    "## What I did today\n",
    "\n",
    "Some more of chapter 4."
   ]
  },
  {
   "cell_type": "markdown",
   "id": "ac56a3e7-a284-400a-b3a4-5148512f0b6e",
   "metadata": {},
   "source": [
    "## What I learned today\n",
    "\n",
    "Some data manipulation."
   ]
  },
  {
   "cell_type": "markdown",
   "id": "224f8a28-f4a0-474a-9f8a-c22522414ac2",
   "metadata": {},
   "source": [
    "## Notes and questions for the next day\n",
    "\n",
    "Horrible day today, no energy. Frustrated and angry."
   ]
  }
 ],
 "metadata": {
  "kernelspec": {
   "display_name": "Python 3 (ipykernel)",
   "language": "python",
   "name": "python3"
  },
  "language_info": {
   "codemirror_mode": {
    "name": "ipython",
    "version": 3
   },
   "file_extension": ".py",
   "mimetype": "text/x-python",
   "name": "python",
   "nbconvert_exporter": "python",
   "pygments_lexer": "ipython3",
   "version": "3.12.8"
  }
 },
 "nbformat": 4,
 "nbformat_minor": 5
}
