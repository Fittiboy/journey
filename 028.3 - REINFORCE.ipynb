{
 "cells": [
  {
   "cell_type": "markdown",
   "id": "0d8346b3-d34f-4844-9c69-35d0986d9c6d",
   "metadata": {},
   "source": [
    "# Day 28 - REINFORCE"
   ]
  },
  {
   "cell_type": "markdown",
   "id": "4d29dba9-24f0-49e0-ab08-87317a5fa1e0",
   "metadata": {},
   "source": [
    "## Intuition Behind Policy Gradients"
   ]
  },
  {
   "cell_type": "markdown",
   "id": "bb2d938b-d824-4bed-bbca-de7835db8e66",
   "metadata": {},
   "source": [
    "* Directly learning a policy allows an agent to handle continuous action spaces naturally\n",
    "* Policy gradient methods are able to learn stochastic policies explicitly\n",
    "* Policy estimation is the simplest, most direct form of RL, as it directly learns the final goal: The policy\n",
    "* REINFORCE uses Monte Carlo returns, which can avoid bootstrapping stability issues, but can be quite slow and introduce a lot of variance"
   ]
  },
  {
   "cell_type": "markdown",
   "id": "75095b51-60e2-4e03-8f00-f7285f016b5a",
   "metadata": {},
   "source": [
    "## Mathematical Foundation: Policy Gradient Theorem"
   ]
  },
  {
   "cell_type": "markdown",
   "id": "435418bc-d70d-4cea-8ef8-405832f86b4c",
   "metadata": {},
   "source": [
    "## Implementation: REINFORCE in Atari Breakout (Gymnasium + PyTorch)"
   ]
  },
  {
   "cell_type": "markdown",
   "id": "4ffcf631-10cf-4aeb-8c3a-3a776764bcb6",
   "metadata": {},
   "source": [
    "## Training and Debugging the REINFORCE Agent"
   ]
  },
  {
   "cell_type": "markdown",
   "id": "b7ea4ab4-fcb9-427c-8cab-b516fc0583da",
   "metadata": {},
   "source": [
    "## Next Steps: Improving and Extending REINFORCE"
   ]
  }
 ],
 "metadata": {
  "kernelspec": {
   "display_name": "Python 3 (ipykernel)",
   "language": "python",
   "name": "python3"
  },
  "language_info": {
   "codemirror_mode": {
    "name": "ipython",
    "version": 3
   },
   "file_extension": ".py",
   "mimetype": "text/x-python",
   "name": "python",
   "nbconvert_exporter": "python",
   "pygments_lexer": "ipython3",
   "version": "3.12.8"
  }
 },
 "nbformat": 4,
 "nbformat_minor": 5
}
