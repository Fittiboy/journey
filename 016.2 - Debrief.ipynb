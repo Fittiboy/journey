{
 "cells": [
  {
   "cell_type": "markdown",
   "id": "d8e8505a-8669-4cd1-9159-bdfc32978aec",
   "metadata": {},
   "source": [
    "# Day 16 - Debrief"
   ]
  },
  {
   "cell_type": "markdown",
   "id": "3e3217e3-8537-4a4c-b95d-7cf5b90a3960",
   "metadata": {},
   "source": [
    "## What I did today\n",
    "\n",
    "I worked through the beginning of the third chapter of DLPT, and got the most out of a very mentally difficult day by working on how to schedule things."
   ]
  },
  {
   "cell_type": "markdown",
   "id": "998b1784-3ce2-4e73-9468-6598f800e91c",
   "metadata": {},
   "source": [
    "## What I learned today\n",
    "\n",
    "I learned some interesting facts about tensors, and how to use them. What stood out to me is that tensors are not actually the data that I see, but *views* over contiguous chunks of memory. It was, in a way, \"obvious,\" but it is nonetheless a helpful mental model to have."
   ]
  },
  {
   "cell_type": "markdown",
   "id": "bbdc9569-092d-4d1e-95a3-74ebaf6366e1",
   "metadata": {},
   "source": [
    "## Notes and questions for the next day\n",
    "\n",
    "It's okay that I didn't get all that much work done, according to the schedule. I got a lot of meta-work done, and had a rough day."
   ]
  }
 ],
 "metadata": {
  "kernelspec": {
   "display_name": "Python 3 (ipykernel)",
   "language": "python",
   "name": "python3"
  },
  "language_info": {
   "codemirror_mode": {
    "name": "ipython",
    "version": 3
   },
   "file_extension": ".py",
   "mimetype": "text/x-python",
   "name": "python",
   "nbconvert_exporter": "python",
   "pygments_lexer": "ipython3",
   "version": "3.12.8"
  }
 },
 "nbformat": 4,
 "nbformat_minor": 5
}
