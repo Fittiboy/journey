{
 "cells": [
  {
   "cell_type": "code",
   "execution_count": 1,
   "id": "52f574f4-e114-4bb2-a189-2bf897c88e04",
   "metadata": {},
   "outputs": [],
   "source": [
    "%reload_ext autoreload\n",
    "%autoreload 2\n",
    "\n",
    "import matplotlib.pyplot as plt\n",
    "    \n",
    "from agents import *\n",
    "from environments import RaceTrack\n",
    "from IPython.display import Image"
   ]
  },
  {
   "cell_type": "code",
   "execution_count": null,
   "id": "aa0463c4-412d-48d4-b2f2-a2c23028b36b",
   "metadata": {},
   "outputs": [],
   "source": [
    "track = RaceTrack(RaceTrack.track_impossible)\n",
    "track.set_eval()\n",
    "\n",
    "selector = EpsilonGreedy(epsilon=0.0)\n",
    "learner = NStepTreeBackup(n=2, alpha=0.5)\n",
    "alpha_schedule = sigmoid_schedule(\n",
    "    [\"learner\", \"alpha\"],\n",
    "    learner.alpha,\n",
    "    0.0,\n",
    ")\n",
    "epsilon_schedule = updown_schedule(\n",
    "    [\"selector\", \"epsilon\"],\n",
    "    selector.epsilon,\n",
    "    0.1,\n",
    ")\n",
    "\n",
    "agent = Agent(\n",
    "    num_states=track.num_states,\n",
    "    num_actions=track.num_actions,\n",
    "    selector=selector,\n",
    "    learner=learner,\n",
    "    schedules=[\n",
    "        alpha_schedule,\n",
    "        # epsilon_schedule,\n",
    "    ],\n",
    ")\n",
    "\n",
    "trainer = Trainer(agent=agent, env=track)"
   ]
  },
  {
   "cell_type": "code",
   "execution_count": null,
   "id": "acbaf2bc-dbcd-4364-a5b2-a71e1cb922b1",
   "metadata": {},
   "outputs": [],
   "source": [
    "trainer.train(\n",
    "    num_episodes=100,\n",
    "    early_stop=-1,\n",
    ")"
   ]
  },
  {
   "cell_type": "code",
   "execution_count": null,
   "id": "957e9e5f-2102-441d-bb45-5bdcd2d1ef8c",
   "metadata": {},
   "outputs": [],
   "source": [
    "plt.plot(agent.ep_returns[1:])\n",
    "plt.show()"
   ]
  },
  {
   "cell_type": "code",
   "execution_count": null,
   "id": "728b99c1-ea17-4b24-97fa-9f7e29cfe9d0",
   "metadata": {},
   "outputs": [],
   "source": [
    "episode, _, _ = trainer.play_episode()\n",
    "print(\"Episode finished! Rendering animation...\")\n",
    "\n",
    "ep_name = \"testing\"\n",
    "filename = track.render_episode(episode, ep_name=ep_name)\n",
    "\n",
    "Image(filename)"
   ]
  },
  {
   "cell_type": "code",
   "execution_count": 2,
   "id": "76ba6788-2fd8-4075-934b-2c1c7b405d8d",
   "metadata": {},
   "outputs": [],
   "source": [
    "track = RaceTrack(RaceTrack.track_impossible)\n",
    "track.set_eval()\n",
    "\n",
    "selector = EpsilonGreedy(epsilon=0.0)\n",
    "learner = NStepExpectedSarsa(n=2, alpha=0.5)\n",
    "alpha_schedule = sigmoid_schedule(\n",
    "    [\"learner\", \"alpha\"],\n",
    "    learner.alpha,\n",
    "    0.0,\n",
    ")\n",
    "epsilon_schedule = updown_schedule(\n",
    "    [\"selector\", \"epsilon\"],\n",
    "    selector.epsilon,\n",
    "    0.1,\n",
    ")\n",
    "\n",
    "agent = Agent(\n",
    "    num_states=track.num_states,\n",
    "    num_actions=track.num_actions,\n",
    "    selector=selector,\n",
    "    learner=learner,\n",
    "    schedules=[\n",
    "        alpha_schedule,\n",
    "        # epsilon_schedule,\n",
    "    ],\n",
    ")\n",
    "\n",
    "trainer = Trainer(agent=agent, env=track)"
   ]
  },
  {
   "cell_type": "code",
   "execution_count": null,
   "id": "76bf7742-92d9-43dc-86e6-2692e30bdfe7",
   "metadata": {},
   "outputs": [
    {
     "data": {
      "application/vnd.jupyter.widget-view+json": {
       "model_id": "84465ac140824e1a925c91e226e5416b",
       "version_major": 2,
       "version_minor": 0
      },
      "text/plain": [
       "Episodes:   0%|          | 0/100 [00:00<?, ?it/s]"
      ]
     },
     "metadata": {},
     "output_type": "display_data"
    }
   ],
   "source": [
    "trainer.train(\n",
    "    num_episodes=100,\n",
    "    early_stop=-1,\n",
    ")"
   ]
  },
  {
   "cell_type": "code",
   "execution_count": null,
   "id": "769f7771-a74e-4bb7-ace7-de764a01b97a",
   "metadata": {},
   "outputs": [],
   "source": [
    "plt.plot(agent.ep_returns[1:])\n",
    "plt.show()"
   ]
  },
  {
   "cell_type": "code",
   "execution_count": null,
   "id": "a5ed0b1b-aa7f-4976-90cc-f51f90d67f89",
   "metadata": {},
   "outputs": [],
   "source": [
    "episode, _, _ = trainer.play_episode()\n",
    "print(\"Episode finished! Rendering animation...\")\n",
    "\n",
    "ep_name = \"testing\"\n",
    "filename = track.render_episode(episode, ep_name=ep_name)\n",
    "\n",
    "Image(filename)"
   ]
  }
 ],
 "metadata": {
  "kernelspec": {
   "display_name": "Python 3 (ipykernel)",
   "language": "python",
   "name": "python3"
  },
  "language_info": {
   "codemirror_mode": {
    "name": "ipython",
    "version": 3
   },
   "file_extension": ".py",
   "mimetype": "text/x-python",
   "name": "python",
   "nbconvert_exporter": "python",
   "pygments_lexer": "ipython3",
   "version": "3.12.8"
  }
 },
 "nbformat": 4,
 "nbformat_minor": 5
}
