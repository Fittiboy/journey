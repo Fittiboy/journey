{
 "cells": [
  {
   "cell_type": "code",
   "execution_count": 1,
   "id": "8905a30e-d88e-4f3d-bbf8-9b71a0b140c0",
   "metadata": {},
   "outputs": [],
   "source": [
    "%reload_ext autoreload\n",
    "%autoreload 2\n",
    "\n",
    "import matplotlib.pyplot as plt\n",
    "\n",
    "from agents import *\n",
    "from environments import RaceTrack\n",
    "from multiproc_utils import TrainPool\n",
    "\n",
    "from IPython.display import Image\n",
    "\n",
    "from itertools import product"
   ]
  },
  {
   "cell_type": "code",
   "execution_count": 2,
   "id": "36445e90-fa4f-46b2-9aa8-9af35a201a82",
   "metadata": {},
   "outputs": [],
   "source": [
    "track = RaceTrack(RaceTrack.track_impossible)\n",
    "track.set_eval()\n",
    "\n",
    "#ns = [1, 2, 3]\n",
    "ns = [1]\n",
    "alphas = [0.01, 0.1]\n",
    "epsilons = [0.01, 0.1]\n",
    "final_alpha = 0.0\n",
    "final_epsilon = 0.0\n",
    "selectors = [EpsilonGreedy(epsilon=epsilon) for epsilon in epsilons]"
   ]
  },
  {
   "cell_type": "code",
   "execution_count": 3,
   "id": "3cc084db-02bc-4994-9b36-09dee7b12fef",
   "metadata": {},
   "outputs": [],
   "source": [
    "learners = [NStepExpectedSarsa(n=n, alpha=alpha) for n, alpha in product(ns, alphas)]\n",
    "\n",
    "agents = Agent.combinations(\n",
    "    num_states=track.num_states,\n",
    "    num_actions=track.num_actions,\n",
    "    selectors=selectors,\n",
    "    learners=learners,\n",
    "    scheduless=[[]],\n",
    "    planners=[None],\n",
    ")"
   ]
  },
  {
   "cell_type": "code",
   "execution_count": null,
   "id": "6faf9e8e-2b82-4d14-b924-8254dcadd45c",
   "metadata": {},
   "outputs": [
    {
     "data": {
      "application/vnd.jupyter.widget-view+json": {
       "model_id": "82595973a5eb48239ccc010f3e81ab8c",
       "version_major": 2,
       "version_minor": 0
      },
      "text/plain": [
       "Training Runs:   0%|          | 0/100 [00:00<?, ?it/s]"
      ]
     },
     "metadata": {},
     "output_type": "display_data"
    }
   ],
   "source": [
    "num_episodes = 10_000\n",
    "num_runs = 100\n",
    "\n",
    "pool = TrainPool(agents, track, quiet=True)\n",
    "agents = pool.train_average(num_episodes, num_runs)"
   ]
  },
  {
   "cell_type": "code",
   "execution_count": null,
   "id": "012d0966-881e-4c69-895a-f827d24c5628",
   "metadata": {},
   "outputs": [],
   "source": [
    "trail_length = 4\n",
    "start_from = 0\n",
    "end_at = num_episodes\n",
    "\n",
    "fig, ax = plt.subplots(figsize=(6, 6))\n",
    "fig.suptitle(\"Comparing Expected Sarsa variants\")\n",
    "\n",
    "names = [f\"$\\\\alpha$ = {agent.learner.alpha}, $\\\\varepsilon$ = {agent.selector.epsilon}\" for agent in agents]\n",
    "for agent, name in zip(agents, names):\n",
    "    xs, ys = agent.smoothed_ep_lengths(trail_length)\n",
    "    ax.plot(xs[start_from:end_at], ys[start_from:end_at], label=name)\n",
    "    \n",
    "ax.legend()\n",
    "ax.set_yscale(\"log\")\n",
    "plt.show()"
   ]
  },
  {
   "cell_type": "code",
   "execution_count": null,
   "id": "d64f0751-6b4e-477d-b558-2ca3ba4b7028",
   "metadata": {},
   "outputs": [],
   "source": [
    "track.set_eval()\n",
    "trainer = Trainer(agents[0], track)\n",
    "trainer.play_episode()\n",
    "\n",
    "episode, _, _ = trainer.play_episode(100)\n",
    "print(\"Episode finished! Rendering animation...\")\n",
    "track.set_train()\n",
    "ep_name = \"Playground Testing\"\n",
    "filename = track.render_episode(episode, ep_name=ep_name)\n",
    "Image(filename)"
   ]
  }
 ],
 "metadata": {
  "kernelspec": {
   "display_name": "Python 3 (ipykernel)",
   "language": "python",
   "name": "python3"
  },
  "language_info": {
   "codemirror_mode": {
    "name": "ipython",
    "version": 3
   },
   "file_extension": ".py",
   "mimetype": "text/x-python",
   "name": "python",
   "nbconvert_exporter": "python",
   "pygments_lexer": "ipython3",
   "version": "3.12.8"
  }
 },
 "nbformat": 4,
 "nbformat_minor": 5
}
