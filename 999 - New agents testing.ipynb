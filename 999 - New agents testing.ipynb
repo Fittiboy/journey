{
 "cells": [
  {
   "cell_type": "code",
   "execution_count": 1,
   "id": "52f574f4-e114-4bb2-a189-2bf897c88e04",
   "metadata": {},
   "outputs": [],
   "source": [
    "%reload_ext autoreload\n",
    "%autoreload 2\n",
    "\n",
    "import matplotlib.pyplot as plt\n",
    "    \n",
    "from agents import *\n",
    "from environments import RaceTrack\n",
    "from IPython.display import Image"
   ]
  },
  {
   "cell_type": "code",
   "execution_count": 2,
   "id": "36445e90-fa4f-46b2-9aa8-9af35a201a82",
   "metadata": {},
   "outputs": [],
   "source": [
    "track = RaceTrack(RaceTrack.track_impossible)\n",
    "track.set_eval()\n",
    "\n",
    "#n = 5\n",
    "alpha = 0.5\n",
    "epsilon = 0.1\n",
    "final_alpha = 0.0\n",
    "final_epsilon = 0.0\n",
    "selector = EpsilonGreedy(epsilon=epsilon)\n",
    "\n",
    "alpha_schedule = SigmoidSchedule(\n",
    "    [\"learner\", \"alpha\"],\n",
    "    alpha,\n",
    "    0.0,\n",
    ")\n",
    "epsilon_schedule = LinearSchedule(\n",
    "    [\"selector\", \"epsilon\"],\n",
    "    epsilon,\n",
    "    final_epsilon,\n",
    ")"
   ]
  },
  {
   "cell_type": "code",
   "execution_count": 3,
   "id": "90354b0a-4d10-4bb3-9c63-28699d0bdfd7",
   "metadata": {},
   "outputs": [],
   "source": [
    "learner = NStepTreeBackup(n=2, alpha=alpha)\n",
    "tb2_agent = Agent(\n",
    "    num_states=track.num_states,\n",
    "    num_actions=track.num_actions,\n",
    "    selector=selector,\n",
    "    learner=learner,\n",
    "    schedules=[\n",
    "        alpha_schedule,\n",
    "        epsilon_schedule,\n",
    "    ],\n",
    ")\n",
    "\n",
    "learner = NStepTreeBackup(n=3, alpha=alpha)\n",
    "tb3_agent = Agent(\n",
    "    num_states=track.num_states,\n",
    "    num_actions=track.num_actions,\n",
    "    selector=selector,\n",
    "    learner=learner,\n",
    "    schedules=[\n",
    "        alpha_schedule,\n",
    "        epsilon_schedule,\n",
    "    ],\n",
    ")"
   ]
  },
  {
   "cell_type": "code",
   "execution_count": 4,
   "id": "cd5a5d43-9f6d-4ea1-9254-1a11cb387037",
   "metadata": {},
   "outputs": [],
   "source": [
    "tb2_trainer = Trainer(agent=tb2_agent, env=track)\n",
    "tb3_trainer = Trainer(agent=tb3_agent, env=track)"
   ]
  },
  {
   "cell_type": "code",
   "execution_count": null,
   "id": "a7d839f6-cc51-4d8c-8137-bbf0b177b57f",
   "metadata": {},
   "outputs": [],
   "source": [
    "from multiprocessing import Pool\n",
    "\n",
    "num_episodes=4000\n",
    "\n",
    "\n",
    "def train(trainer, num_episodes):\n",
    "    trainer.train(num_episodes=num_episodes)\n",
    "\n",
    "\n",
    "with Pool(2) as p:\n",
    "    p.starmap(train, [(x, num_episodes) for x in [tb2_trainer, tb3_trainer]])"
   ]
  },
  {
   "cell_type": "code",
   "execution_count": null,
   "id": "012d0966-881e-4c69-895a-f827d24c5628",
   "metadata": {},
   "outputs": [],
   "source": [
    "tb2_trailing_returns = np.zeros_like(tb2_agent.ep_returns)\n",
    "tb2_trailing_returns[0] = tb2_agent.ep_returns[0]\n",
    "\n",
    "step_size = 1 / 70\n",
    "for i in range(1, len(tb_agent.ep_returns)):\n",
    "    tb2_trailing_returns[i] = step_size * tb_agent.ep_returns[i] + (1 - step_size) * tb2_trailing_returns[i-1]\n",
    "\n",
    "tb3_trailing_returns = np.zeros_like(nses_agent.ep_returns)\n",
    "tb3_trailing_returns[0] = nses_agent.ep_returns[0]\n",
    "\n",
    "for i in range(1, len(nses_agent.ep_returns)):\n",
    "    tb3_trailing_returns[i] = step_size * nses_agent.ep_returns[i] + (1 - step_size) * tb3_trailing_returns[i-1]\n",
    "\n",
    "start_from = 800\n",
    "plt.plot(tb2_trailing_returns[start_from:], label=f\"2-step Tree Backup\")\n",
    "plt.plot(tb3_trailing_returns[start_from:], label=f\"3-step Expected Sarsa\")\n",
    "plt.legend()\n",
    "plt.show()"
   ]
  },
  {
   "cell_type": "code",
   "execution_count": null,
   "id": "c4e87372-2623-4d9a-94ba-7020b9ca51e9",
   "metadata": {},
   "outputs": [],
   "source": [
    "tb2_episode, _, _ = tb2_trainer.play_episode()\n",
    "print(\"Episode finished! Rendering animation...\")\n",
    "\n",
    "tb2_ep_name = \"2-step Tree Backup\"\n",
    "filename = track.render_episode(tb2_episode, ep_name=tb2_ep_name)\n",
    "\n",
    "Image(filename)\n",
    "\n",
    "tb3_episode, _, _ = tb3_trainer.play_episode()\n",
    "print(\"Episode finished! Rendering animation...\")\n",
    "\n",
    "tb3_ep_name = \"3-step Tree Backup\"\n",
    "filename = track.render_episode(tb3_episode, ep_name=tb3_ep_name)\n",
    "\n",
    "Image(filename)"
   ]
  }
 ],
 "metadata": {
  "kernelspec": {
   "display_name": "Python 3 (ipykernel)",
   "language": "python",
   "name": "python3"
  },
  "language_info": {
   "codemirror_mode": {
    "name": "ipython",
    "version": 3
   },
   "file_extension": ".py",
   "mimetype": "text/x-python",
   "name": "python",
   "nbconvert_exporter": "python",
   "pygments_lexer": "ipython3",
   "version": "3.12.8"
  }
 },
 "nbformat": 4,
 "nbformat_minor": 5
}
