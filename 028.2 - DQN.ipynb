{
 "cells": [
  {
   "cell_type": "markdown",
   "id": "50f6ba42-fc03-43f0-8e43-de45e9764847",
   "metadata": {},
   "source": [
    "# Day 28 - DQN"
   ]
  },
  {
   "cell_type": "code",
   "execution_count": null,
   "id": "06350918-b5d4-4b92-9c30-31c6793b8481",
   "metadata": {},
   "outputs": [],
   "source": []
  }
 ],
 "metadata": {
  "kernelspec": {
   "display_name": "Python 3 (ipykernel)",
   "language": "python",
   "name": "python3"
  },
  "language_info": {
   "codemirror_mode": {
    "name": "ipython",
    "version": 3
   },
   "file_extension": ".py",
   "mimetype": "text/x-python",
   "name": "python",
   "nbconvert_exporter": "python",
   "pygments_lexer": "ipython3",
   "version": "3.12.8"
  }
 },
 "nbformat": 4,
 "nbformat_minor": 5
}
