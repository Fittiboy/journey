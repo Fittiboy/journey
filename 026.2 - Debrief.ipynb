{
 "cells": [
  {
   "cell_type": "markdown",
   "id": "e242d567-196c-475d-8fd9-0d1ff6e73776",
   "metadata": {},
   "source": [
    "# Day 26 - Debrief"
   ]
  },
  {
   "cell_type": "markdown",
   "id": "12dc835c-b5b8-422e-83df-f1086b65e750",
   "metadata": {},
   "source": [
    "## Notes and questions for the next day\n",
    "\n",
    "What if an RNN simply got to decide whether to output a token or not, and got a discounted reward for getting it right?"
   ]
  }
 ],
 "metadata": {
  "kernelspec": {
   "display_name": "Python 3 (ipykernel)",
   "language": "python",
   "name": "python3"
  },
  "language_info": {
   "codemirror_mode": {
    "name": "ipython",
    "version": 3
   },
   "file_extension": ".py",
   "mimetype": "text/x-python",
   "name": "python",
   "nbconvert_exporter": "python",
   "pygments_lexer": "ipython3",
   "version": "3.12.8"
  }
 },
 "nbformat": 4,
 "nbformat_minor": 5
}
