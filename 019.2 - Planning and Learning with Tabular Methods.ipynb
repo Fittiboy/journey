{
 "cells": [
  {
   "cell_type": "markdown",
   "id": "456b268b-5260-430f-b2b5-d133736a6d0f",
   "metadata": {},
   "source": [
    "# Day 19 - Planning and Learning with Tabular Methods"
   ]
  },
  {
   "cell_type": "markdown",
   "id": "2828558a-d696-44df-bd91-baa9ad44e443",
   "metadata": {},
   "source": [
    "## Prioritized Sweeping\n",
    "\n",
    "* In Dyna, updates during planning are done at random\n",
    "* This can be highly inefficient, when irrelevant states are updated\n",
    "* Especially early on, there are many updates that are entirely useless\n",
    "* It would be more efficient to focus on transitions that produced large changes\n",
    "* And transition immediately prior to such a large change is also likely to make another large change\n",
    "* This is known as $backward\\ focusing$ of planning computations\n",
    "* As we continue expanding backward, the frontier of useful updates keeps expanding\n",
    "* Some of the updates during this backward stepping will be greater than others\n",
    "* The greater updates should be assigned a higher priority for continued backward expansion\n",
    "* This is called $prioritized\\ sweeping$\n",
    "* A queue of state-action pairs is maintained, prioritized by how large their update would be\n",
    "* The top pair in the queue is updated, and the update sized of predecessor states are checked\n",
    "* The largest are again added to the queue, until all significant updates have been done\n",
    "* This method can be extended to stochastic environments\n",
    "* For this, store numbers of transitions to different states, and perform expected updates\n",
    "* It is even better to perform sample updates instead, focusing on the most likely transitions\n",
    "* Instead of the backward focus for finding the best updates, one could also look into the future and update states that are easiest to reach under the current policy, which could be called $forward\\ focusing$"
   ]
  }
 ],
 "metadata": {
  "kernelspec": {
   "display_name": "Python 3 (ipykernel)",
   "language": "python",
   "name": "python3"
  },
  "language_info": {
   "codemirror_mode": {
    "name": "ipython",
    "version": 3
   },
   "file_extension": ".py",
   "mimetype": "text/x-python",
   "name": "python",
   "nbconvert_exporter": "python",
   "pygments_lexer": "ipython3",
   "version": "3.12.8"
  }
 },
 "nbformat": 4,
 "nbformat_minor": 5
}
