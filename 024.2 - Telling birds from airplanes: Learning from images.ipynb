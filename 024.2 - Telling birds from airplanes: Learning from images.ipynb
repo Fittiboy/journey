{
 "cells": [
  {
   "cell_type": "markdown",
   "id": "85ffb877-bc7f-4f9c-ba85-c9a243464d6e",
   "metadata": {},
   "source": [
    "# Day 24 - Telling birds from airplanes: Learning from images"
   ]
  },
  {
   "cell_type": "markdown",
   "id": "3fc12eb5-7015-404f-8af7-45da2b384fad",
   "metadata": {},
   "source": [
    "## A dataset of tiny images"
   ]
  },
  {
   "cell_type": "markdown",
   "id": "aeedd1ce-ff89-4824-8ce9-dcf65d3aa0f7",
   "metadata": {},
   "source": [
    "* Instead of MNIST, or Fashion MNIST, we will look at the CIFAR-10 images"
   ]
  },
  {
   "cell_type": "markdown",
   "id": "3e92d105-4d0b-4299-800c-2428a5f177d4",
   "metadata": {},
   "source": [
    "### Downloading CIFAR-10"
   ]
  },
  {
   "cell_type": "code",
   "execution_count": 1,
   "id": "3227a9ee-ab7f-4797-922e-6110ee1fd908",
   "metadata": {},
   "outputs": [
    {
     "name": "stdout",
     "output_type": "stream",
     "text": [
      "Files already downloaded and verified\n",
      "Files already downloaded and verified\n"
     ]
    },
    {
     "data": {
      "text/plain": [
       "(Dataset CIFAR10\n",
       "     Number of datapoints: 50000\n",
       "     Root location: ./DLPT/data/\n",
       "     Split: Train,\n",
       " Dataset CIFAR10\n",
       "     Number of datapoints: 10000\n",
       "     Root location: ./DLPT/data/\n",
       "     Split: Test)"
      ]
     },
     "execution_count": 1,
     "metadata": {},
     "output_type": "execute_result"
    }
   ],
   "source": [
    "import torch\n",
    "from torch import nn\n",
    "from torchvision import datasets\n",
    "\n",
    "data_path = \"./DLPT/data/\"\n",
    "cifar10 = datasets.CIFAR10(data_path, download=True)\n",
    "cifar10_val = datasets.CIFAR10(data_path, train=False, download=True)\n",
    "\n",
    "cifar10, cifar10_val"
   ]
  },
  {
   "cell_type": "markdown",
   "id": "3e6c1557-c4de-492b-bdfd-61bc2762bf7a",
   "metadata": {},
   "source": [
    "* To see that this is a `Dataset`, we check the method-resolution order"
   ]
  },
  {
   "cell_type": "code",
   "execution_count": 2,
   "id": "1ce9464b-0e69-41ad-9b0c-cade5cb7c6dc",
   "metadata": {},
   "outputs": [
    {
     "data": {
      "text/plain": [
       "(torchvision.datasets.cifar.CIFAR10,\n",
       " torchvision.datasets.vision.VisionDataset,\n",
       " torch.utils.data.dataset.Dataset,\n",
       " typing.Generic,\n",
       " object)"
      ]
     },
     "execution_count": 2,
     "metadata": {},
     "output_type": "execute_result"
    }
   ],
   "source": [
    "type(cifar10).__mro__"
   ]
  },
  {
   "cell_type": "markdown",
   "id": "2cd66d5a-3d84-4243-970a-24064092dcf4",
   "metadata": {},
   "source": [
    "### The Dataset class\n",
    "\n",
    "* The `Dataset` class does not necessarily hold the data itself, but behave just as if it did\n",
    "* It does so by implementing both `__len__` and `__getitem__`"
   ]
  },
  {
   "cell_type": "code",
   "execution_count": 3,
   "id": "0507aec4-c7f8-452b-b692-6fee06427e76",
   "metadata": {},
   "outputs": [
    {
     "data": {
      "text/plain": [
       "50000"
      ]
     },
     "execution_count": 3,
     "metadata": {},
     "output_type": "execute_result"
    }
   ],
   "source": [
    "len(cifar10)"
   ]
  },
  {
   "cell_type": "code",
   "execution_count": 4,
   "id": "24f0328a-ea69-4de6-93bc-d287c93099cc",
   "metadata": {},
   "outputs": [],
   "source": [
    "class_names = ['airplane','automobile','bird','cat','deer',\n",
    "               'dog','frog','horse','ship','truck']"
   ]
  },
  {
   "cell_type": "code",
   "execution_count": 5,
   "id": "e7762dc2-33f1-475a-ad70-58a9e0566a74",
   "metadata": {},
   "outputs": [
    {
     "data": {
      "text/plain": [
       "(<PIL.Image.Image image mode=RGB size=32x32>, 1, 'automobile')"
      ]
     },
     "execution_count": 5,
     "metadata": {},
     "output_type": "execute_result"
    }
   ],
   "source": [
    "img, label = cifar10[99]\n",
    "img, label, class_names[label]"
   ]
  },
  {
   "cell_type": "code",
   "execution_count": 6,
   "id": "8801d5a8-b8a6-47da-9206-88ab8c4db55b",
   "metadata": {},
   "outputs": [
    {
     "data": {
      "image/png": "[encoded data removed]",
      "text/plain": [
       "<Figure size 640x480 with 1 Axes>"
      ]
     },
     "metadata": {},
     "output_type": "display_data"
    }
   ],
   "source": [
    "import matplotlib.pyplot as plt\n",
    "import seaborn as sns\n",
    "\n",
    "plt.imshow(img)\n",
    "plt.show()"
   ]
  }
 ],
 "metadata": {
  "kernelspec": {
   "display_name": "Python 3 (ipykernel)",
   "language": "python",
   "name": "python3"
  },
  "language_info": {
   "codemirror_mode": {
    "name": "ipython",
    "version": 3
   },
   "file_extension": ".py",
   "mimetype": "text/x-python",
   "name": "python",
   "nbconvert_exporter": "python",
   "pygments_lexer": "ipython3",
   "version": "3.12.8"
  }
 },
 "nbformat": 4,
 "nbformat_minor": 5
}
