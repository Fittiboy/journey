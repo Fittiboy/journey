{
 "cells": [
  {
   "cell_type": "markdown",
   "id": "9b680527-1a85-4b3f-835b-4decbd3926d3",
   "metadata": {},
   "source": [
    "# Day 33 - Debrief"
   ]
  },
  {
   "cell_type": "markdown",
   "id": "60fdcc80-4a4c-4db9-a230-fbc7879e667c",
   "metadata": {},
   "source": [
    "## Notes and Questions\n",
    "\n",
    "I want to learn [Einops](https://einops.rocks/1-einops-basics/)! It looks beautiful!\n",
    "\n",
    "Also, the [DreamerV3 paper](https://arxiv.org/abs/2301.04104) mentions this:\n",
    "> Robustness techniques based on normalization, balancing, and transformations enable stable learning across domains.\n",
    "\n",
    "I definitely need to read that! That is an area of special interest to me."
   ]
  }
 ],
 "metadata": {
  "kernelspec": {
   "display_name": "Python 3 (ipykernel)",
   "language": "python",
   "name": "python3"
  },
  "language_info": {
   "codemirror_mode": {
    "name": "ipython",
    "version": 3
   },
   "file_extension": ".py",
   "mimetype": "text/x-python",
   "name": "python",
   "nbconvert_exporter": "python",
   "pygments_lexer": "ipython3",
   "version": "3.12.9"
  }
 },
 "nbformat": 4,
 "nbformat_minor": 5
}
