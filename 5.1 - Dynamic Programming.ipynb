{
 "cells": [
  {
   "cell_type": "markdown",
   "id": "26806caa-c3a0-43c2-937d-bedaf9cb05b8",
   "metadata": {},
   "source": [
    "# Day 5 - Dynamic Programming\n",
    "\n",
    "Dynamic programming algorithms use a model of the environment to compute optimal policies. This is usually not possible in practical RL problems, but provides a solid theoretical foundation which more realistic methods approximate. DP algorithms are obtained by turning Bellman equations into update rules for value estimates."
   ]
  },
  {
   "cell_type": "markdown",
   "id": "5b1b1549-ef65-4779-a6e1-20497e793574",
   "metadata": {},
   "source": [
    "# Policy Evaluation (Prediction)\n",
    "\n",
    "*"
   ]
  }
 ],
 "metadata": {
  "kernelspec": {
   "display_name": "Python 3 (ipykernel)",
   "language": "python",
   "name": "python3"
  },
  "language_info": {
   "codemirror_mode": {
    "name": "ipython",
    "version": 3
   },
   "file_extension": ".py",
   "mimetype": "text/x-python",
   "name": "python",
   "nbconvert_exporter": "python",
   "pygments_lexer": "ipython3",
   "version": "3.12.8"
  }
 },
 "nbformat": 4,
 "nbformat_minor": 5
}
