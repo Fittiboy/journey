{
 "cells": [
  {
   "cell_type": "markdown",
   "id": "39ed37df-d2b2-4b6f-92f5-c9b5b12297ac",
   "metadata": {},
   "source": [
    "# Day 24 - Debrief"
   ]
  },
  {
   "cell_type": "markdown",
   "id": "407feb0b-dfcf-411f-bb46-1ee9051de56d",
   "metadata": {},
   "source": [
    "## What I did today\n",
    "\n",
    "I worked through the sixth chapter of DLPT, and began the seventh."
   ]
  },
  {
   "cell_type": "markdown",
   "id": "5a9edf07-4886-49ab-b147-158c7ce85f44",
   "metadata": {},
   "source": [
    "## What I learned today\n",
    "\n",
    "I learned the basics of the `torch.nn` module, and got to mess around with the wine quality dataset, giving me some insight into training and performance of a classifier for that dataset."
   ]
  },
  {
   "cell_type": "markdown",
   "id": "18b3541f-c0ec-4764-88d5-3305372e75f1",
   "metadata": {},
   "source": [
    "## Notes and questions for the next day\n",
    "\n",
    "I've been trying to skip ahead to Deep RL, but it alwasy ends up being deeply unsatisfying not to know how everything works. I should try my best to focus on my schedule.-"
   ]
  }
 ],
 "metadata": {
  "kernelspec": {
   "display_name": "Python 3 (ipykernel)",
   "language": "python",
   "name": "python3"
  },
  "language_info": {
   "codemirror_mode": {
    "name": "ipython",
    "version": 3
   },
   "file_extension": ".py",
   "mimetype": "text/x-python",
   "name": "python",
   "nbconvert_exporter": "python",
   "pygments_lexer": "ipython3",
   "version": "3.12.8"
  }
 },
 "nbformat": 4,
 "nbformat_minor": 5
}
