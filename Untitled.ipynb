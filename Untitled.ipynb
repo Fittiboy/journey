{
 "cells": [
  {
   "cell_type": "code",
   "execution_count": 10,
   "id": "a13e32ea-77b5-4aa8-9111-8e14408a2137",
   "metadata": {},
   "outputs": [],
   "source": [
    "%reload_ext autoreload\n",
    "%autoreload 2\n",
    "\n",
    "from agents import NStepSarsa\n",
    "from racetrack import RaceTrack, track_easy, track_hard\n",
    "from IPython.display import Image"
   ]
  },
  {
   "cell_type": "code",
   "execution_count": 11,
   "id": "5fdda2b6-c43f-4225-9b19-9ef64e085cb1",
   "metadata": {},
   "outputs": [],
   "source": [
    "track = RaceTrack(track_easy)\n",
    "\n",
    "n = 2\n",
    "epsilon = 0\n",
    "alpha = 0.5\n",
    "discount = 1\n",
    "num_states = track.num_states\n",
    "num_actions = track.num_actions\n",
    "\n",
    "agent = NStepSarsa(n, epsilon, alpha, discount, num_states, num_actions)"
   ]
  },
  {
   "cell_type": "code",
   "execution_count": null,
   "id": "42ba7fea-0467-4bd1-8c5e-bb37b7747ede",
   "metadata": {},
   "outputs": [
    {
     "name": "stderr",
     "output_type": "stream",
     "text": [
      " 41%|████████████████████████▍                                  | 371939/900001 [01:28<02:05, 4204.20it/s]"
     ]
    }
   ],
   "source": [
    "agent.train(track, 1_000_000)"
   ]
  },
  {
   "cell_type": "code",
   "execution_count": 18,
   "id": "645e44aa-77da-4314-b709-3fa1f10d9e73",
   "metadata": {},
   "outputs": [
    {
     "name": "stdout",
     "output_type": "stream",
     "text": [
      "Episode finished! Rendering animation...\n"
     ]
    },
    {
     "data": {
      "image/gif": "[encoded data removed]",
      "text/plain": [
       "<IPython.core.display.Image object>"
      ]
     },
     "execution_count": 18,
     "metadata": {},
     "output_type": "execute_result"
    }
   ],
   "source": [
    "episode, _, _ = agent.play_episode(track, True, 100)\n",
    "print(\"Episode finished! Rendering animation...\")\n",
    "name = \"racetrack_testing\"\n",
    "track.render_episode(episode, name=name)\n",
    "Image(\"animations/\" + name + \".gif\")"
   ]
  }
 ],
 "metadata": {
  "kernelspec": {
   "display_name": "Python 3 (ipykernel)",
   "language": "python",
   "name": "python3"
  },
  "language_info": {
   "codemirror_mode": {
    "name": "ipython",
    "version": 3
   },
   "file_extension": ".py",
   "mimetype": "text/x-python",
   "name": "python",
   "nbconvert_exporter": "python",
   "pygments_lexer": "ipython3",
   "version": "3.12.8"
  }
 },
 "nbformat": 4,
 "nbformat_minor": 5
}
